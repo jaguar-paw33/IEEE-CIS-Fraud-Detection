{
 "cells": [
  {
   "cell_type": "code",
   "execution_count": null,
   "id": "0d9741cd",
   "metadata": {
    "id": "0d9741cd"
   },
   "outputs": [],
   "source": [
    "import regex as re\n",
    "import gc\n",
    "import numpy as np\n",
    "import pandas as pd\n",
    "import pickle\n",
    "import seaborn as sns\n",
    "import matplotlib\n",
    "%matplotlib inline\n",
    "import matplotlib.pyplot as plt\n",
    "import xgboost as xgb\n",
    "from xgboost import XGBClassifier\n",
    "from sklearn.model_selection import train_test_split\n",
    "from sklearn.metrics import roc_auc_score\n",
    "from sklearn.preprocessing import LabelEncoder\n",
    "import warnings\n",
    "warnings.filterwarnings(\"ignore\")"
   ]
  },
  {
   "cell_type": "code",
   "execution_count": null,
   "id": "JCYsutppzb2T",
   "metadata": {
    "id": "JCYsutppzb2T"
   },
   "outputs": [],
   "source": [
    "# Loading the clean train and test dataset\n",
    "\n",
    "train_data = pd.read_pickle('advanced_fe_train.pkl')\n",
    "test_data = pd.read_pickle('advanced_fe_test.pkl')"
   ]
  },
  {
   "cell_type": "code",
   "execution_count": null,
   "id": "MweOS8sRzhow",
   "metadata": {
    "colab": {
     "base_uri": "https://localhost:8080/"
    },
    "executionInfo": {
     "elapsed": 27,
     "status": "ok",
     "timestamp": 1623668888802,
     "user": {
      "displayName": "Priyank Mishra",
      "photoUrl": "",
      "userId": "18008032652400229851"
     },
     "user_tz": -330
    },
    "id": "MweOS8sRzhow",
    "outputId": "cdcd4e34-23a5-48b4-dac1-dac23055b7dc"
   },
   "outputs": [
    {
     "name": "stdout",
     "output_type": "stream",
     "text": [
      "***********************************\n",
      "\n",
      " Train Data Shape : (590538, 313) \n",
      "\n",
      "\n",
      " Test Data Shape : (506691, 312) \n",
      "\n",
      "***********************************\n"
     ]
    }
   ],
   "source": [
    "print(\"*\"*35)\n",
    "print(\"\\n Train Data Shape : {} \\n\".format(train_data.shape))\n",
    "print(\"\\n Test Data Shape : {} \\n\".format(test_data.shape))\n",
    "print(\"*\"*35)"
   ]
  },
  {
   "cell_type": "markdown",
   "id": "6fDAnG2JInxp",
   "metadata": {
    "id": "6fDAnG2JInxp"
   },
   "source": [
    "## Utility Functions\n",
    "<br>"
   ]
  },
  {
   "cell_type": "code",
   "execution_count": null,
   "id": "1kot2rZmws2c",
   "metadata": {
    "id": "1kot2rZmws2c"
   },
   "outputs": [],
   "source": [
    "def cat_num_features(df):\n",
    "    \n",
    "    '''\n",
    "        Utility Function to get the names of Categorical Features and \n",
    "        Numerical Features of the given Dataset.\n",
    "    '''\n",
    "    \n",
    "    catf = []\n",
    "    numf = []\n",
    "    \n",
    "    # Given Categorical Features \n",
    "    catf = ['ProductCD', 'card1', 'card2', 'card3', 'card4', 'card5', \n",
    "            'card6', 'addr1', 'addr2', 'P_emaildomain', 'R_emaildomain', 'M1', 'M2', \n",
    "            'M3', 'M4', 'M5', 'M6', 'M7', 'M8', 'M9', 'DeviceType', 'DeviceInfo',\n",
    "            'TransactionWD', 'card1_div_1000', 'card2_div_10', 'P_parent_domain', \n",
    "            'P_domain_name', 'P_top_level_domain', 'R_parent_domain', 'R_domain_name', \n",
    "            'R_top_level_domain', 'device_name', 'device_version', 'os_name', 'os_version', \n",
    "            'screen_width', 'screen_height', 'card_intr1', 'card_intr2', 'card1_addr1', \n",
    "            'card1_addr2', 'card2_addr1', 'card2_addr2', 'card3_addr1', 'card3_addr2', \n",
    "            'card5_addr1', 'card5_addr2', 'card6_addr1', 'card6_addr2', 'ProductCD_addr1', \n",
    "            'ProductCD_addr2', 'card1_ProductCD', 'card2_ProductCD', 'card5_ProductCD', \n",
    "            'card6_ProductCD', 'addr1_P_emaildomain', 'card1_P_emaildoman', 'card1_addr1_P_emaildomain',\n",
    "            ]\n",
    "    catf+=['id_'+str(i) for i in range(12,39)]\n",
    "\n",
    "\n",
    "    # Updating the Categorical Feature Names List based on the columns present in the dataframe\n",
    "    catf = [feature for feature in catf if feature in df.columns.values]\n",
    "    numf = [feature for feature in df.columns if feature not in catf and not feature == 'isFraud']\n",
    "    \n",
    "    return (catf, numf)  "
   ]
  },
  {
   "cell_type": "code",
   "execution_count": null,
   "id": "_jgsqrdeQCY3",
   "metadata": {
    "id": "_jgsqrdeQCY3"
   },
   "outputs": [],
   "source": [
    "def covariate_shift(train_df, test_df, feature, catf):\n",
    "\n",
    "    train = pd.DataFrame(data={feature: train_df[feature], 'isTest': 0})\n",
    "    test = pd.DataFrame(data={feature: test_df[feature], 'isTest': 1})\n",
    "\n",
    "    df = pd.concat([train, test], ignore_index=True)\n",
    "    del train, test\n",
    "\n",
    "    if str(df[feature].dtype) in catf:\n",
    "        df[feature] = LabelEncoder().fit_transform(df[feature].astype(str))\n",
    "    \n",
    "    X_train, X_test, y_train, y_test = train_test_split(df[feature], df['isTest'], test_size=0.33,\n",
    "                                                        random_state=3, stratify=df['isTest'])\n",
    "    clf = XGBClassifier(\n",
    "      objective='binary:logistic',\n",
    "      eval_metric='auc',\n",
    "      n_estimators=500,\n",
    "      tree_method='gpu_hist',\n",
    "      random_state=3,\n",
    "    )\n",
    "\n",
    "    clf.fit(X_train.values.reshape(-1,1), y_train.values, verbose=1)\n",
    "    \n",
    "    roc_auc =  roc_auc_score(y_test.values, clf.predict_proba(X_test.values.reshape(-1,1))[:, 1])\n",
    "\n",
    "    del df, X_train, y_train, X_test, y_test\n",
    "        \n",
    "    return roc_auc"
   ]
  },
  {
   "cell_type": "code",
   "execution_count": null,
   "id": "crXipPjsQDvC",
   "metadata": {
    "id": "crXipPjsQDvC"
   },
   "outputs": [],
   "source": [
    "# https://www.kaggle.com/c/ieee-fraud-detection/discussion/111696\n",
    "\n",
    "def adversarial_validation(train_df, test_df, threshold, catf):\n",
    "    list_auc_value = []\n",
    "\n",
    "    cols = list(train_df.columns)\n",
    "    cols.remove('isFraud')\n",
    "\n",
    "    for f in cols:\n",
    "\n",
    "        auc = covariate_shift(test_df , train_df, f, catf)\n",
    "        list_auc_value.append(auc)\n",
    "        if auc > threshold:\n",
    "            print('feature:', f, 'covariate shift:', auc)\n",
    "\n",
    "    cov = pd.Series(list_auc_value, index = cols).sort_values() \n",
    "    discarded_features = list(cov[cov > threshold].index)\n",
    "        \n",
    "    return cov, discarded_features"
   ]
  },
  {
   "cell_type": "markdown",
   "id": "m2NPBy1lSwGu",
   "metadata": {
    "id": "m2NPBy1lSwGu"
   },
   "source": [
    "## Testing each Feature for Covariate Shift\n",
    "<br>\n",
    "\n",
    "We will be finding all the features which are responsible for making the train data very different from test data. We will store all such columns separately and will not use while doing final modeling.\n",
    "<br><br>"
   ]
  },
  {
   "cell_type": "code",
   "execution_count": null,
   "id": "S5QmpOPkTbdO",
   "metadata": {
    "id": "S5QmpOPkTbdO"
   },
   "outputs": [],
   "source": [
    "# Storing Categorical and Numerical Feature Names \n",
    "\n",
    "catf, numf = cat_num_features(train_data)"
   ]
  },
  {
   "cell_type": "code",
   "execution_count": null,
   "id": "ILRX6rAPSvRo",
   "metadata": {
    "colab": {
     "base_uri": "https://localhost:8080/"
    },
    "executionInfo": {
     "elapsed": 655780,
     "status": "ok",
     "timestamp": 1623669574601,
     "user": {
      "displayName": "Priyank Mishra",
      "photoUrl": "",
      "userId": "18008032652400229851"
     },
     "user_tz": -330
    },
    "id": "ILRX6rAPSvRo",
    "outputId": "f65c3b04-ccde-4709-8da3-104b444af5e7"
   },
   "outputs": [
    {
     "name": "stdout",
     "output_type": "stream",
     "text": [
      "feature: TransactionID covariate shift: 0.9999914634147976\n",
      "feature: TransactionDT covariate shift: 0.9999914634147976\n",
      "feature: D1 covariate shift: 0.9143981259080995\n",
      "feature: D2 covariate shift: 0.7230931320205236\n",
      "feature: D3 covariate shift: 0.8812546211710214\n",
      "feature: D4 covariate shift: 0.8202221166684895\n",
      "feature: D5 covariate shift: 0.8368906385231879\n",
      "feature: D10 covariate shift: 0.8707121247425403\n",
      "feature: D11 covariate shift: 0.730581062379851\n",
      "feature: D15 covariate shift: 0.850172822904419\n",
      "feature: TransactionDay covariate shift: 0.9999898440887305\n",
      "feature: DT_M covariate shift: 1.0\n"
     ]
    }
   ],
   "source": [
    "# Considering all the features which have a test auc of 0.7 to be covariate shifted\n",
    "cov, list_discarded = adversarial_validation(train_data, test_data, 0.7, catf)"
   ]
  },
  {
   "cell_type": "code",
   "execution_count": null,
   "id": "IqhnpBczwlBD",
   "metadata": {
    "colab": {
     "base_uri": "https://localhost:8080/"
    },
    "executionInfo": {
     "elapsed": 15,
     "status": "ok",
     "timestamp": 1623669574602,
     "user": {
      "displayName": "Priyank Mishra",
      "photoUrl": "",
      "userId": "18008032652400229851"
     },
     "user_tz": -330
    },
    "id": "IqhnpBczwlBD",
    "outputId": "374b4ae2-b9bd-4c3c-eacd-41302b414050"
   },
   "outputs": [
    {
     "data": {
      "text/plain": [
       "['D2',\n",
       " 'D11',\n",
       " 'D4',\n",
       " 'D5',\n",
       " 'D15',\n",
       " 'D10',\n",
       " 'D3',\n",
       " 'D1',\n",
       " 'TransactionDay',\n",
       " 'TransactionDT',\n",
       " 'TransactionID',\n",
       " 'DT_M']"
      ]
     },
     "execution_count": 15,
     "metadata": {
      "tags": []
     },
     "output_type": "execute_result"
    }
   ],
   "source": [
    "# Features having Covariate Shift\n",
    "\n",
    "list_discarded"
   ]
  },
  {
   "cell_type": "code",
   "execution_count": null,
   "id": "U9fHuU8VNsa5",
   "metadata": {
    "id": "U9fHuU8VNsa5"
   },
   "outputs": [],
   "source": [
    "with open(\"features_having_covariate_shift.pkl\", 'wb') as handle:\n",
    "  pickle.dump(list_discarded, handle)"
   ]
  }
 ],
 "metadata": {
  "accelerator": "GPU",
  "colab": {
   "collapsed_sections": [],
   "machine_shape": "hm",
   "name": "8.Adversarial Validation",
   "provenance": []
  },
  "kernelspec": {
   "display_name": "Python 3",
   "language": "python",
   "name": "python3"
  },
  "language_info": {
   "codemirror_mode": {
    "name": "ipython",
    "version": 3
   },
   "file_extension": ".py",
   "mimetype": "text/x-python",
   "name": "python",
   "nbconvert_exporter": "python",
   "pygments_lexer": "ipython3",
   "version": "3.9.1"
  }
 },
 "nbformat": 4,
 "nbformat_minor": 5
}
