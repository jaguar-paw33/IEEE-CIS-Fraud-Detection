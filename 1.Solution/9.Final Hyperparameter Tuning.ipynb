{
 "cells": [
  {
   "cell_type": "code",
   "execution_count": 1,
   "id": "da6213d9",
   "metadata": {
    "executionInfo": {
     "elapsed": 8,
     "status": "ok",
     "timestamp": 1623689180870,
     "user": {
      "displayName": "Priyank Mishra",
      "photoUrl": "",
      "userId": "18008032652400229851"
     },
     "user_tz": -330
    },
    "id": "da6213d9"
   },
   "outputs": [],
   "source": [
    "import random\n",
    "import copy\n",
    "import pickle\n",
    "import numpy as np\n",
    "import pandas as pd\n",
    "import seaborn as sns\n",
    "import matplotlib.pyplot as plt\n",
    "%matplotlib inline\n",
    "import sklearn\n",
    "from sklearn import metrics\n",
    "import xgboost as xgb\n",
    "from xgboost import XGBClassifier\n",
    "from sklearn.model_selection import train_test_split\n",
    "from sklearn.preprocessing import LabelEncoder\n",
    "from sklearn.metrics import roc_auc_score\n",
    "import warnings\n",
    "warnings.filterwarnings(\"ignore\")"
   ]
  },
  {
   "cell_type": "code",
   "execution_count": 4,
   "id": "8bbc073b",
   "metadata": {
    "executionInfo": {
     "elapsed": 4940,
     "status": "ok",
     "timestamp": 1623672683194,
     "user": {
      "displayName": "Priyank Mishra",
      "photoUrl": "",
      "userId": "18008032652400229851"
     },
     "user_tz": -330
    },
    "id": "8bbc073b"
   },
   "outputs": [],
   "source": [
    "# Loading the merged train and test dataset\n",
    "\n",
    "train_data = pd.read_pickle('advanced_fe_train.pkl')\n",
    "test_data = pd.read_pickle('advanced_fe_test.pkl')"
   ]
  },
  {
   "cell_type": "code",
   "execution_count": 5,
   "id": "0480f790",
   "metadata": {
    "colab": {
     "base_uri": "https://localhost:8080/"
    },
    "executionInfo": {
     "elapsed": 27,
     "status": "ok",
     "timestamp": 1623672683204,
     "user": {
      "displayName": "Priyank Mishra",
      "photoUrl": "",
      "userId": "18008032652400229851"
     },
     "user_tz": -330
    },
    "id": "0480f790",
    "outputId": "1ec186e5-5ef1-41bf-db8a-a3f9589d8631"
   },
   "outputs": [
    {
     "name": "stdout",
     "output_type": "stream",
     "text": [
      "*********************************************\n",
      "\n",
      " Train Data Shape : (590538, 313) \n",
      "\n",
      "\n",
      " Test Data Shape : (506691, 312) \n",
      "\n",
      "*********************************************\n"
     ]
    }
   ],
   "source": [
    "print(\"*\"*45)\n",
    "print(\"\\n Train Data Shape : {} \\n\".format(train_data.shape))\n",
    "print(\"\\n Test Data Shape : {} \\n\".format(test_data.shape))\n",
    "print(\"*\"*45)"
   ]
  },
  {
   "cell_type": "code",
   "execution_count": 6,
   "id": "Ep-nqJYPSDbB",
   "metadata": {
    "executionInfo": {
     "elapsed": 23,
     "status": "ok",
     "timestamp": 1623672683206,
     "user": {
      "displayName": "Priyank Mishra",
      "photoUrl": "",
      "userId": "18008032652400229851"
     },
     "user_tz": -330
    },
    "id": "Ep-nqJYPSDbB"
   },
   "outputs": [],
   "source": [
    "with open(\"features_having_covariate_shift.pkl\", 'rb') as handle:\n",
    "  drop_cols = pickle.load(handle)"
   ]
  },
  {
   "cell_type": "markdown",
   "id": "eaTgbeu00_x2",
   "metadata": {
    "id": "eaTgbeu00_x2"
   },
   "source": [
    "### Utility Functions\n",
    "<br>"
   ]
  },
  {
   "cell_type": "code",
   "execution_count": 5,
   "id": "KsV2qK8dEo6E",
   "metadata": {
    "executionInfo": {
     "elapsed": 393,
     "status": "ok",
     "timestamp": 1623689214971,
     "user": {
      "displayName": "Priyank Mishra",
      "photoUrl": "",
      "userId": "18008032652400229851"
     },
     "user_tz": -330
    },
    "id": "KsV2qK8dEo6E"
   },
   "outputs": [],
   "source": [
    "def hyperparam_vs_auc(train_roc_auc, cv_roc_auc):\n",
    "    \n",
    "    '''\n",
    "        Utility Function to plot the Training and Cross Validation ROC-AUC Values\n",
    "        for different Hyperparameter.\n",
    "    '''\n",
    "    \n",
    "    plt.plot(range(len(train_roc_auc)), train_roc_auc, label='Train AUC')\n",
    "    plt.plot(range(len(cv_roc_auc)), cv_roc_auc, label='CV AUC')\n",
    "\n",
    "    plt.scatter(range(len(train_roc_auc)), train_roc_auc, label='Train AUC points')\n",
    "    plt.scatter(range(len(cv_roc_auc)), cv_roc_auc, label='CV AUC points')\n",
    "    \n",
    "    plt.xticks(range(len(train_roc_auc)))\n",
    "    plt.legend()\n",
    "    plt.xlabel(\"Hyperparameter Index\")\n",
    "    plt.ylabel(\"AUC\")\n",
    "    plt.title(\"\\n Hyperparameter vs ROC-AUC \\n\")\n",
    "    plt.grid()\n",
    "    plt.show()"
   ]
  },
  {
   "cell_type": "markdown",
   "id": "9dd59e19",
   "metadata": {
    "id": "9dd59e19"
   },
   "source": [
    "## Data Preparation\n",
    "<br>"
   ]
  },
  {
   "cell_type": "markdown",
   "id": "rQTzZJCOXX6R",
   "metadata": {
    "id": "rQTzZJCOXX6R"
   },
   "source": [
    "### Splitting the Dataset\n",
    "<br>"
   ]
  },
  {
   "cell_type": "code",
   "execution_count": 9,
   "id": "e75daf6b",
   "metadata": {
    "executionInfo": {
     "elapsed": 648,
     "status": "ok",
     "timestamp": 1623672683837,
     "user": {
      "displayName": "Priyank Mishra",
      "photoUrl": "",
      "userId": "18008032652400229851"
     },
     "user_tz": -330
    },
    "id": "e75daf6b"
   },
   "outputs": [],
   "source": [
    "X_train = train_data.drop(['isFraud']+drop_cols, axis=1)\n",
    "y_train = train_data['isFraud']\n",
    "\n",
    "X_test = test_data.drop(drop_cols, axis=1)\n",
    "\n",
    "del train_data, test_data"
   ]
  },
  {
   "cell_type": "code",
   "execution_count": 10,
   "id": "08ddc3d8",
   "metadata": {
    "colab": {
     "base_uri": "https://localhost:8080/"
    },
    "executionInfo": {
     "elapsed": 18,
     "status": "ok",
     "timestamp": 1623672683839,
     "user": {
      "displayName": "Priyank Mishra",
      "photoUrl": "",
      "userId": "18008032652400229851"
     },
     "user_tz": -330
    },
    "id": "08ddc3d8",
    "outputId": "4190210e-d8d7-463b-cbfd-a4ff25198f57"
   },
   "outputs": [
    {
     "name": "stdout",
     "output_type": "stream",
     "text": [
      "*********************************************\n",
      "\n",
      " Train Data Shape : (590538, 300) \n",
      "\n",
      "\n",
      " Test Data Shape : (506691, 300) \n",
      "\n",
      "*********************************************\n"
     ]
    }
   ],
   "source": [
    "print(\"*\"*45)\n",
    "print(\"\\n Train Data Shape : {} \\n\".format(X_train.shape))\n",
    "print(\"\\n Test Data Shape : {} \\n\".format(X_test.shape))\n",
    "print(\"*\"*45)"
   ]
  },
  {
   "cell_type": "markdown",
   "id": "1a02f819",
   "metadata": {
    "id": "1a02f819"
   },
   "source": [
    "<br>\n",
    "\n",
    "## Hyperparameter Tuning\n",
    "\n",
    "<br>"
   ]
  },
  {
   "cell_type": "code",
   "execution_count": 12,
   "id": "4r8L_pBM2Nim",
   "metadata": {
    "executionInfo": {
     "elapsed": 15,
     "status": "ok",
     "timestamp": 1623672683842,
     "user": {
      "displayName": "Priyank Mishra",
      "photoUrl": "",
      "userId": "18008032652400229851"
     },
     "user_tz": -330
    },
    "id": "4r8L_pBM2Nim"
   },
   "outputs": [],
   "source": [
    "# Hyperparameters\n",
    "\n",
    "learning_rate = [2e-2, 3e-1, 1e-1]\n",
    "max_depth = [8, 12, 16]\n",
    "subsample = [0.6,0.8,1]\n",
    "colsample_bytree = [0.6,0.8,1]"
   ]
  },
  {
   "cell_type": "code",
   "execution_count": 13,
   "id": "QAbDPqes3VD5",
   "metadata": {
    "colab": {
     "base_uri": "https://localhost:8080/"
    },
    "executionInfo": {
     "elapsed": 15302799,
     "status": "ok",
     "timestamp": 1623687988913,
     "user": {
      "displayName": "Priyank Mishra",
      "photoUrl": "",
      "userId": "18008032652400229851"
     },
     "user_tz": -330
    },
    "id": "QAbDPqes3VD5",
    "outputId": "c8d0dc18-3d26-4b14-9617-6d3d3d9d6812"
   },
   "outputs": [
    {
     "name": "stdout",
     "output_type": "stream",
     "text": [
      "[0]\ttrain-auc:0.809085+0.0101961\ttest-auc:0.789043+0.00248147\n",
      "[100]\ttrain-auc:0.898594+0.00355813\ttest-auc:0.868958+0.00913796\n",
      "[200]\ttrain-auc:0.938106+0.00222281\ttest-auc:0.892732+0.00967227\n",
      "[300]\ttrain-auc:0.962636+0.00185426\ttest-auc:0.90802+0.00905549\n",
      "[400]\ttrain-auc:0.973808+0.000983665\ttest-auc:0.915776+0.00853621\n",
      "[500]\ttrain-auc:0.980347+0.000507273\ttest-auc:0.919185+0.00837664\n",
      "[600]\ttrain-auc:0.984694+0.000345394\ttest-auc:0.921046+0.00813554\n",
      "[700]\ttrain-auc:0.987944+0.000337595\ttest-auc:0.921919+0.00814682\n",
      "[800]\ttrain-auc:0.990359+0.000290318\ttest-auc:0.92261+0.00782932\n",
      "[900]\ttrain-auc:0.992349+0.000287416\ttest-auc:0.922838+0.00788841\n",
      "[1000]\ttrain-auc:0.993965+0.000194911\ttest-auc:0.923066+0.00768327\n",
      "[1100]\ttrain-auc:0.995211+0.000147382\ttest-auc:0.923016+0.00737542\n",
      "[0]\ttrain-auc:0.809075+0.00857728\ttest-auc:0.798852+0.000730775\n",
      "[100]\ttrain-auc:0.898036+0.00375155\ttest-auc:0.868018+0.00860704\n",
      "[200]\ttrain-auc:0.938749+0.00265766\ttest-auc:0.892547+0.0105683\n",
      "[300]\ttrain-auc:0.963475+0.00184131\ttest-auc:0.908425+0.00918871\n",
      "[400]\ttrain-auc:0.974565+0.00128583\ttest-auc:0.915679+0.00877881\n",
      "[500]\ttrain-auc:0.9809+0.00062582\ttest-auc:0.919368+0.00837479\n",
      "[600]\ttrain-auc:0.985284+0.000397869\ttest-auc:0.92164+0.00820311\n",
      "[700]\ttrain-auc:0.988466+0.000275895\ttest-auc:0.922641+0.00800464\n",
      "[800]\ttrain-auc:0.990883+0.000186821\ttest-auc:0.923264+0.00790995\n",
      "[900]\ttrain-auc:0.992822+0.000226127\ttest-auc:0.923376+0.00800752\n",
      "[1000]\ttrain-auc:0.994289+0.000158508\ttest-auc:0.92342+0.00780891\n",
      "[0]\ttrain-auc:0.798024+0.0130176\ttest-auc:0.787267+0.00788353\n",
      "[100]\ttrain-auc:0.896819+0.00343592\ttest-auc:0.866285+0.0092749\n",
      "[200]\ttrain-auc:0.939378+0.00243065\ttest-auc:0.891705+0.0105613\n",
      "[300]\ttrain-auc:0.964764+0.00149659\ttest-auc:0.908249+0.010061\n",
      "[400]\ttrain-auc:0.975706+0.000890485\ttest-auc:0.915633+0.00931947\n",
      "[500]\ttrain-auc:0.981823+0.00032405\ttest-auc:0.919356+0.009165\n",
      "[600]\ttrain-auc:0.985826+0.000237354\ttest-auc:0.921243+0.00895248\n",
      "[700]\ttrain-auc:0.988992+0.000259161\ttest-auc:0.922396+0.00861256\n",
      "[800]\ttrain-auc:0.991284+0.000172125\ttest-auc:0.922765+0.0083882\n",
      "[900]\ttrain-auc:0.993187+0.000178478\ttest-auc:0.922866+0.00817991\n",
      "[1000]\ttrain-auc:0.994637+0.000139237\ttest-auc:0.923006+0.00773278\n",
      "[1100]\ttrain-auc:0.995833+0.000111977\ttest-auc:0.922967+0.00768854\n",
      "[0]\ttrain-auc:0.808292+0.00412285\ttest-auc:0.783442+0.0141488\n",
      "[100]\ttrain-auc:0.899386+0.00350472\ttest-auc:0.8705+0.00912564\n",
      "[200]\ttrain-auc:0.93955+0.00262797\ttest-auc:0.893561+0.0102163\n",
      "[300]\ttrain-auc:0.965108+0.001933\ttest-auc:0.909948+0.00996102\n",
      "[400]\ttrain-auc:0.975651+0.00104304\ttest-auc:0.917207+0.00939549\n",
      "[500]\ttrain-auc:0.981145+0.000659137\ttest-auc:0.920343+0.0086432\n",
      "[600]\ttrain-auc:0.985302+0.000572105\ttest-auc:0.922325+0.0082174\n",
      "[700]\ttrain-auc:0.988395+0.000432569\ttest-auc:0.923413+0.00808989\n",
      "[800]\ttrain-auc:0.990714+0.000377557\ttest-auc:0.924229+0.00779534\n",
      "[900]\ttrain-auc:0.99254+0.000256008\ttest-auc:0.924511+0.00776623\n",
      "[1000]\ttrain-auc:0.994004+0.000159688\ttest-auc:0.924348+0.00760127\n",
      "[0]\ttrain-auc:0.828245+0.0126995\ttest-auc:0.814648+0.010376\n",
      "[100]\ttrain-auc:0.897623+0.00405235\ttest-auc:0.867755+0.00799512\n",
      "[200]\ttrain-auc:0.940044+0.00327508\ttest-auc:0.892871+0.00947684\n",
      "[300]\ttrain-auc:0.965941+0.00189191\ttest-auc:0.909461+0.0087921\n",
      "[400]\ttrain-auc:0.976319+0.00130159\ttest-auc:0.916549+0.00847798\n",
      "[500]\ttrain-auc:0.981772+0.000669031\ttest-auc:0.919957+0.00815835\n",
      "[600]\ttrain-auc:0.985817+0.000442767\ttest-auc:0.921795+0.00786999\n",
      "[700]\ttrain-auc:0.98887+0.000277796\ttest-auc:0.922676+0.00790818\n",
      "[800]\ttrain-auc:0.991147+0.000249258\ttest-auc:0.923289+0.00774454\n",
      "[900]\ttrain-auc:0.992912+0.000170553\ttest-auc:0.923341+0.00776012\n",
      "[0]\ttrain-auc:0.812969+0.0186192\ttest-auc:0.801149+0.0111443\n",
      "[100]\ttrain-auc:0.894783+0.00537229\ttest-auc:0.864155+0.00792165\n",
      "[200]\ttrain-auc:0.940295+0.00302057\ttest-auc:0.892689+0.0104662\n",
      "[300]\ttrain-auc:0.966271+0.00173854\ttest-auc:0.909242+0.00977812\n",
      "[400]\ttrain-auc:0.976868+0.000693851\ttest-auc:0.916771+0.00905467\n",
      "[500]\ttrain-auc:0.982379+0.000440851\ttest-auc:0.920261+0.00830611\n",
      "[600]\ttrain-auc:0.986397+0.00022347\ttest-auc:0.92206+0.00783696\n",
      "[700]\ttrain-auc:0.989321+0.000266024\ttest-auc:0.922932+0.00757677\n",
      "[800]\ttrain-auc:0.991526+0.000139048\ttest-auc:0.923334+0.00742524\n",
      "[900]\ttrain-auc:0.993305+0.000104283\ttest-auc:0.923381+0.00727273\n",
      "[0]\ttrain-auc:0.812508+0.015718\ttest-auc:0.794116+0.00680445\n",
      "[100]\ttrain-auc:0.898654+0.00406604\ttest-auc:0.870103+0.00822098\n",
      "[200]\ttrain-auc:0.941278+0.0029641\ttest-auc:0.893782+0.00961451\n",
      "[300]\ttrain-auc:0.965517+0.00211693\ttest-auc:0.909136+0.00906265\n",
      "[400]\ttrain-auc:0.974811+0.00113173\ttest-auc:0.915697+0.00834803\n",
      "[500]\ttrain-auc:0.979444+0.00126351\ttest-auc:0.918328+0.00735466\n",
      "[600]\ttrain-auc:0.982852+0.00096146\ttest-auc:0.919894+0.00707734\n",
      "[700]\ttrain-auc:0.985638+0.000756094\ttest-auc:0.920732+0.00682593\n",
      "[800]\ttrain-auc:0.987813+0.000623342\ttest-auc:0.921277+0.00653045\n",
      "[900]\ttrain-auc:0.98965+0.00040405\ttest-auc:0.9216+0.00655931\n",
      "[1000]\ttrain-auc:0.991187+0.000320635\ttest-auc:0.921617+0.00650959\n",
      "[1100]\ttrain-auc:0.992633+0.000236914\ttest-auc:0.921511+0.00660045\n",
      "[0]\ttrain-auc:0.820584+0.0119058\ttest-auc:0.801848+0.0162067\n",
      "[100]\ttrain-auc:0.896962+0.00434827\ttest-auc:0.867726+0.00691349\n",
      "[200]\ttrain-auc:0.940788+0.00309167\ttest-auc:0.892692+0.0100197\n",
      "[300]\ttrain-auc:0.966106+0.00213515\ttest-auc:0.908712+0.00901806\n",
      "[400]\ttrain-auc:0.975205+0.000696744\ttest-auc:0.914967+0.00851318\n",
      "[500]\ttrain-auc:0.979683+0.000830652\ttest-auc:0.917932+0.00776519\n",
      "[600]\ttrain-auc:0.982935+0.000743945\ttest-auc:0.919592+0.00743748\n",
      "[700]\ttrain-auc:0.985807+0.00041532\ttest-auc:0.920714+0.00716549\n",
      "[800]\ttrain-auc:0.987985+0.000362393\ttest-auc:0.920946+0.00689827\n",
      "[900]\ttrain-auc:0.989894+0.000273738\ttest-auc:0.921072+0.00671116\n",
      "[1000]\ttrain-auc:0.991468+8.69828e-05\ttest-auc:0.920984+0.00648993\n",
      "[0]\ttrain-auc:0.80822+0.00459098\ttest-auc:0.790142+0.00816844\n",
      "[100]\ttrain-auc:0.89038+0.00642163\ttest-auc:0.862006+0.00590432\n",
      "[200]\ttrain-auc:0.939548+0.00371468\ttest-auc:0.891968+0.00891489\n",
      "[300]\ttrain-auc:0.965655+0.00237658\ttest-auc:0.90829+0.00847868\n",
      "[400]\ttrain-auc:0.97495+0.00121097\ttest-auc:0.914222+0.00780206\n",
      "[500]\ttrain-auc:0.979492+0.000983596\ttest-auc:0.916948+0.0074401\n",
      "[600]\ttrain-auc:0.982945+0.000979268\ttest-auc:0.918549+0.00672136\n",
      "[700]\ttrain-auc:0.985833+0.000498709\ttest-auc:0.919529+0.00652072\n",
      "[800]\ttrain-auc:0.988222+0.000256755\ttest-auc:0.919781+0.00637133\n",
      "[900]\ttrain-auc:0.98991+4.93716e-05\ttest-auc:0.919836+0.00623302\n",
      "[1000]\ttrain-auc:0.991524+0.000113038\ttest-auc:0.919798+0.00616767\n",
      "[0]\ttrain-auc:0.839048+0.0073031\ttest-auc:0.806308+0.0124787\n",
      "[100]\ttrain-auc:0.938329+0.00370565\ttest-auc:0.88942+0.0104803\n",
      "[200]\ttrain-auc:0.9784+0.00165673\ttest-auc:0.91046+0.0127198\n",
      "[300]\ttrain-auc:0.993816+0.000576677\ttest-auc:0.920014+0.0130549\n",
      "[400]\ttrain-auc:0.997538+0.000133727\ttest-auc:0.922386+0.0126218\n",
      "[500]\ttrain-auc:0.998946+8.66526e-05\ttest-auc:0.922787+0.0116524\n",
      "[0]\ttrain-auc:0.84536+0.0100873\ttest-auc:0.818138+0.00342632\n",
      "[100]\ttrain-auc:0.937959+0.00297399\ttest-auc:0.888179+0.0100882\n",
      "[200]\ttrain-auc:0.979+0.00217901\ttest-auc:0.909536+0.012196\n",
      "[300]\ttrain-auc:0.994356+0.000460904\ttest-auc:0.919313+0.013197\n",
      "[400]\ttrain-auc:0.997763+0.000177781\ttest-auc:0.921793+0.0126189\n",
      "[500]\ttrain-auc:0.999024+4.18436e-05\ttest-auc:0.922141+0.0115419\n",
      "[0]\ttrain-auc:0.831462+0.015769\ttest-auc:0.807711+0.00738041\n",
      "[100]\ttrain-auc:0.936066+0.00231994\ttest-auc:0.886494+0.00998096\n",
      "[200]\ttrain-auc:0.979986+0.00182987\ttest-auc:0.909274+0.0126944\n",
      "[300]\ttrain-auc:0.994654+0.000428256\ttest-auc:0.918923+0.0137067\n",
      "[400]\ttrain-auc:0.997904+0.000163936\ttest-auc:0.921696+0.0131375\n",
      "[500]\ttrain-auc:0.999084+5.19679e-05\ttest-auc:0.92196+0.0123148\n",
      "[600]\ttrain-auc:0.999602+5.1517e-05\ttest-auc:0.922041+0.0114294\n",
      "[0]\ttrain-auc:0.850574+0.00298715\ttest-auc:0.824163+0.00623982\n",
      "[100]\ttrain-auc:0.93902+0.00377233\ttest-auc:0.889786+0.0107379\n",
      "[200]\ttrain-auc:0.981257+0.00175707\ttest-auc:0.911806+0.012762\n",
      "[300]\ttrain-auc:0.99512+0.000523388\ttest-auc:0.92001+0.0134488\n",
      "[400]\ttrain-auc:0.998207+0.000141706\ttest-auc:0.922425+0.0130833\n",
      "[500]\ttrain-auc:0.999201+4.23425e-05\ttest-auc:0.922702+0.0119073\n",
      "[0]\ttrain-auc:0.849969+0.0141523\ttest-auc:0.823066+0.00939236\n",
      "[100]\ttrain-auc:0.937656+0.0044741\ttest-auc:0.887927+0.00878887\n",
      "[200]\ttrain-auc:0.981447+0.00209801\ttest-auc:0.910365+0.0128238\n",
      "[300]\ttrain-auc:0.995429+0.0005694\ttest-auc:0.919397+0.0141015\n",
      "[400]\ttrain-auc:0.998265+0.000139509\ttest-auc:0.921437+0.0135088\n",
      "[500]\ttrain-auc:0.999259+3.3069e-05\ttest-auc:0.921546+0.0122295\n",
      "[0]\ttrain-auc:0.847981+0.0144276\ttest-auc:0.818789+0.00759754\n",
      "[100]\ttrain-auc:0.932952+0.00656143\ttest-auc:0.883598+0.00819779\n",
      "[200]\ttrain-auc:0.981424+0.00207076\ttest-auc:0.909428+0.0131783\n",
      "[300]\ttrain-auc:0.995562+0.000474304\ttest-auc:0.919003+0.0142793\n",
      "[400]\ttrain-auc:0.998294+0.000131586\ttest-auc:0.920956+0.0133954\n",
      "[500]\ttrain-auc:0.999253+4.42141e-05\ttest-auc:0.921413+0.0123591\n",
      "[600]\ttrain-auc:0.999675+3.32098e-05\ttest-auc:0.9212+0.0115016\n",
      "[0]\ttrain-auc:0.851303+0.00488097\ttest-auc:0.820439+0.0114062\n",
      "[100]\ttrain-auc:0.938978+0.00487025\ttest-auc:0.890007+0.00869985\n",
      "[200]\ttrain-auc:0.982742+0.00189719\ttest-auc:0.911958+0.0131969\n",
      "[300]\ttrain-auc:0.995552+0.0007402\ttest-auc:0.919457+0.0138274\n",
      "[400]\ttrain-auc:0.998286+0.000183358\ttest-auc:0.921371+0.0131055\n",
      "[500]\ttrain-auc:0.999088+0.000109821\ttest-auc:0.921267+0.0121473\n",
      "[0]\ttrain-auc:0.857092+0.00247594\ttest-auc:0.824602+0.0122066\n",
      "[100]\ttrain-auc:0.936585+0.00410666\ttest-auc:0.886709+0.00949221\n",
      "[200]\ttrain-auc:0.982357+0.00181032\ttest-auc:0.909874+0.0136143\n",
      "[300]\ttrain-auc:0.995671+0.000647889\ttest-auc:0.917893+0.0143106\n",
      "[400]\ttrain-auc:0.998297+6.48074e-05\ttest-auc:0.920043+0.0129831\n",
      "[500]\ttrain-auc:0.999071+4.53162e-05\ttest-auc:0.920471+0.0119518\n",
      "[600]\ttrain-auc:0.99943+2.1276e-05\ttest-auc:0.920142+0.0111676\n",
      "[0]\ttrain-auc:0.851209+0.00506286\ttest-auc:0.818656+0.0093945\n",
      "[100]\ttrain-auc:0.928959+0.00535018\ttest-auc:0.879198+0.0101218\n",
      "[200]\ttrain-auc:0.981842+0.00126872\ttest-auc:0.905549+0.0130457\n",
      "[300]\ttrain-auc:0.995681+0.000690923\ttest-auc:0.915157+0.0143473\n",
      "[400]\ttrain-auc:0.998201+0.00015201\ttest-auc:0.917088+0.0141316\n",
      "[500]\ttrain-auc:0.998972+7.63079e-05\ttest-auc:0.917958+0.0127114\n",
      "[600]\ttrain-auc:0.999361+3.23144e-05\ttest-auc:0.91767+0.0115398\n",
      "[0]\ttrain-auc:0.862449+0.00504515\ttest-auc:0.830941+0.00631524\n",
      "[100]\ttrain-auc:0.963983+0.00234619\ttest-auc:0.898849+0.0128517\n",
      "[200]\ttrain-auc:0.994109+0.000443578\ttest-auc:0.914337+0.015243\n",
      "[300]\ttrain-auc:0.99932+0.000108087\ttest-auc:0.91903+0.0156034\n",
      "[400]\ttrain-auc:0.99987+1.47271e-05\ttest-auc:0.920107+0.0149042\n",
      "[500]\ttrain-auc:0.999972+5.88784e-06\ttest-auc:0.920442+0.0137897\n",
      "[600]\ttrain-auc:0.999994+1.24722e-06\ttest-auc:0.920658+0.0128219\n",
      "[700]\ttrain-auc:0.999999+0\ttest-auc:0.92085+0.0124248\n",
      "[800]\ttrain-auc:1+0\ttest-auc:0.921136+0.011761\n",
      "[900]\ttrain-auc:1+0\ttest-auc:0.921126+0.0115106\n",
      "[0]\ttrain-auc:0.86366+0.00186112\ttest-auc:0.828148+0.00713121\n",
      "[100]\ttrain-auc:0.962855+0.00287984\ttest-auc:0.897699+0.0125336\n",
      "[200]\ttrain-auc:0.994325+0.000593337\ttest-auc:0.913824+0.0150368\n",
      "[300]\ttrain-auc:0.999379+9.76115e-05\ttest-auc:0.919109+0.0150135\n",
      "[400]\ttrain-auc:0.999883+1.31233e-05\ttest-auc:0.91994+0.0143746\n",
      "[500]\ttrain-auc:0.999974+4.49691e-06\ttest-auc:0.920251+0.013523\n",
      "[600]\ttrain-auc:0.999995+1.24722e-06\ttest-auc:0.92051+0.0126832\n",
      "[700]\ttrain-auc:0.999999+0\ttest-auc:0.920631+0.0122937\n",
      "[800]\ttrain-auc:1+0\ttest-auc:0.920915+0.0120311\n",
      "[900]\ttrain-auc:1+0\ttest-auc:0.921165+0.011741\n",
      "[1000]\ttrain-auc:1+0\ttest-auc:0.921344+0.0114453\n",
      "[1100]\ttrain-auc:1+0\ttest-auc:0.921716+0.0111539\n",
      "[1200]\ttrain-auc:1+0\ttest-auc:0.921842+0.0109787\n",
      "[1300]\ttrain-auc:1+0\ttest-auc:0.921918+0.0109141\n",
      "[1400]\ttrain-auc:1+0\ttest-auc:0.92196+0.0107817\n",
      "[0]\ttrain-auc:0.861325+0.00230316\ttest-auc:0.830698+0.0115609\n",
      "[100]\ttrain-auc:0.961107+0.00331066\ttest-auc:0.896122+0.0124213\n",
      "[200]\ttrain-auc:0.994357+0.000711106\ttest-auc:0.912644+0.0159316\n",
      "[300]\ttrain-auc:0.999433+8.7742e-05\ttest-auc:0.918464+0.0155504\n",
      "[400]\ttrain-auc:0.999898+2.08859e-05\ttest-auc:0.919795+0.0149416\n",
      "[500]\ttrain-auc:0.999978+6.2361e-06\ttest-auc:0.920345+0.0139381\n",
      "[600]\ttrain-auc:0.999996+1.24722e-06\ttest-auc:0.920637+0.013226\n",
      "[700]\ttrain-auc:0.999999+4.71405e-07\ttest-auc:0.921001+0.0128663\n",
      "[800]\ttrain-auc:1+0\ttest-auc:0.921248+0.0124535\n",
      "[900]\ttrain-auc:1+0\ttest-auc:0.921633+0.012046\n",
      "[1000]\ttrain-auc:1+0\ttest-auc:0.921909+0.0116621\n",
      "[1100]\ttrain-auc:1+0\ttest-auc:0.922081+0.0113876\n",
      "[1200]\ttrain-auc:1+0\ttest-auc:0.922228+0.0111557\n",
      "[1300]\ttrain-auc:1+0\ttest-auc:0.922294+0.0109946\n",
      "[0]\ttrain-auc:0.869412+0.0025197\ttest-auc:0.832232+0.0034808\n",
      "[100]\ttrain-auc:0.966355+0.00305566\ttest-auc:0.900804+0.012116\n",
      "[200]\ttrain-auc:0.995899+0.000495836\ttest-auc:0.915924+0.0144965\n",
      "[300]\ttrain-auc:0.999698+7.51132e-05\ttest-auc:0.919285+0.0148592\n",
      "[400]\ttrain-auc:0.999949+1.13431e-05\ttest-auc:0.91986+0.0140046\n",
      "[500]\ttrain-auc:0.999989+4.02768e-06\ttest-auc:0.920732+0.0126935\n",
      "[600]\ttrain-auc:0.999997+1.69967e-06\ttest-auc:0.921227+0.0120086\n",
      "[700]\ttrain-auc:1+4.71405e-07\ttest-auc:0.921625+0.011448\n",
      "[800]\ttrain-auc:1+0\ttest-auc:0.922014+0.0111245\n",
      "[900]\ttrain-auc:1+0\ttest-auc:0.922628+0.0108542\n",
      "[1000]\ttrain-auc:1+0\ttest-auc:0.922996+0.0106302\n",
      "[1100]\ttrain-auc:1+0\ttest-auc:0.923215+0.0103852\n",
      "[1200]\ttrain-auc:1+0\ttest-auc:0.923392+0.0101922\n",
      "[1300]\ttrain-auc:1+0\ttest-auc:0.923599+0.0100177\n",
      "[1400]\ttrain-auc:1+0\ttest-auc:0.923699+0.00990515\n",
      "[1500]\ttrain-auc:1+0\ttest-auc:0.923744+0.00981158\n",
      "[1600]\ttrain-auc:1+0\ttest-auc:0.923833+0.00974159\n",
      "[1700]\ttrain-auc:1+0\ttest-auc:0.923819+0.00965038\n",
      "[0]\ttrain-auc:0.871147+0.00274716\ttest-auc:0.83775+0.00741346\n",
      "[100]\ttrain-auc:0.963591+0.00463015\ttest-auc:0.898071+0.0116553\n",
      "[200]\ttrain-auc:0.99595+0.000495843\ttest-auc:0.914776+0.0147032\n",
      "[300]\ttrain-auc:0.999729+8.0475e-05\ttest-auc:0.918754+0.0149582\n",
      "[400]\ttrain-auc:0.999954+1.52825e-05\ttest-auc:0.919604+0.0143388\n",
      "[500]\ttrain-auc:0.99999+3.55903e-06\ttest-auc:0.920365+0.0131481\n",
      "[600]\ttrain-auc:0.999998+1.24722e-06\ttest-auc:0.921025+0.0123326\n",
      "[700]\ttrain-auc:1+4.71405e-07\ttest-auc:0.921716+0.0117058\n",
      "[800]\ttrain-auc:1+0\ttest-auc:0.922282+0.0114583\n",
      "[900]\ttrain-auc:1+0\ttest-auc:0.922855+0.0110217\n",
      "[1000]\ttrain-auc:1+0\ttest-auc:0.923227+0.010738\n",
      "[1100]\ttrain-auc:1+0\ttest-auc:0.923477+0.0104461\n",
      "[1200]\ttrain-auc:1+0\ttest-auc:0.923716+0.0102213\n",
      "[1300]\ttrain-auc:1+0\ttest-auc:0.923898+0.0101238\n",
      "[1400]\ttrain-auc:1+0\ttest-auc:0.924002+0.00993041\n",
      "[1500]\ttrain-auc:1+0\ttest-auc:0.924112+0.0099187\n",
      "[1600]\ttrain-auc:1+0\ttest-auc:0.924155+0.0098501\n",
      "[1700]\ttrain-auc:1+0\ttest-auc:0.924233+0.00980719\n",
      "[1800]\ttrain-auc:1+0\ttest-auc:0.924227+0.00967085\n",
      "[0]\ttrain-auc:0.870246+0.00508329\ttest-auc:0.836174+0.00799902\n",
      "[100]\ttrain-auc:0.960952+0.0057908\ttest-auc:0.895211+0.0108517\n",
      "[200]\ttrain-auc:0.996155+0.000598005\ttest-auc:0.91297+0.0159373\n",
      "[300]\ttrain-auc:0.999767+7.42713e-05\ttest-auc:0.917311+0.0156858\n",
      "[400]\ttrain-auc:0.999959+1.4197e-05\ttest-auc:0.91834+0.0144757\n",
      "[500]\ttrain-auc:0.999991+3.29983e-06\ttest-auc:0.919226+0.0131337\n",
      "[600]\ttrain-auc:0.999998+1.24722e-06\ttest-auc:0.919903+0.0123132\n",
      "[700]\ttrain-auc:1+4.71405e-07\ttest-auc:0.92056+0.0119102\n",
      "[800]\ttrain-auc:1+0\ttest-auc:0.921242+0.0114391\n",
      "[900]\ttrain-auc:1+0\ttest-auc:0.921816+0.0112271\n",
      "[1000]\ttrain-auc:1+0\ttest-auc:0.922212+0.0108035\n",
      "[1100]\ttrain-auc:1+0\ttest-auc:0.922517+0.0106034\n",
      "[1200]\ttrain-auc:1+0\ttest-auc:0.922748+0.010456\n",
      "[1300]\ttrain-auc:1+0\ttest-auc:0.922844+0.010216\n",
      "[1400]\ttrain-auc:1+0\ttest-auc:0.922953+0.010089\n",
      "[1500]\ttrain-auc:1+0\ttest-auc:0.923094+0.00997837\n",
      "[1600]\ttrain-auc:1+0\ttest-auc:0.923107+0.00996851\n",
      "[1700]\ttrain-auc:1+0\ttest-auc:0.923181+0.00992389\n",
      "[1800]\ttrain-auc:1+0\ttest-auc:0.923155+0.00986362\n",
      "[0]\ttrain-auc:0.872285+0.00481028\ttest-auc:0.834796+0.00653775\n",
      "[100]\ttrain-auc:0.966399+0.00441431\ttest-auc:0.901341+0.011948\n",
      "[200]\ttrain-auc:0.997089+0.000483306\ttest-auc:0.916374+0.0155414\n",
      "[300]\ttrain-auc:0.999806+7.84063e-05\ttest-auc:0.918883+0.0157853\n",
      "[400]\ttrain-auc:0.999962+1.5456e-05\ttest-auc:0.918526+0.0150754\n",
      "[0]\ttrain-auc:0.872406+0.00192362\ttest-auc:0.829716+0.0158577\n",
      "[100]\ttrain-auc:0.963967+0.00508111\ttest-auc:0.898097+0.0106601\n",
      "[200]\ttrain-auc:0.996914+0.00041846\ttest-auc:0.913908+0.0159993\n",
      "[300]\ttrain-auc:0.999823+7.55954e-05\ttest-auc:0.916453+0.0156126\n",
      "[400]\ttrain-auc:0.999963+1.63911e-05\ttest-auc:0.916589+0.0151272\n",
      "[0]\ttrain-auc:0.869911+0.00353727\ttest-auc:0.826667+0.0122608\n",
      "[100]\ttrain-auc:0.956532+0.006097\ttest-auc:0.888895+0.0107131\n",
      "[200]\ttrain-auc:0.996493+0.000394356\ttest-auc:0.906502+0.0174656\n",
      "[300]\ttrain-auc:0.999807+7.24078e-05\ttest-auc:0.912289+0.0159368\n",
      "[400]\ttrain-auc:0.99996+1.71529e-05\ttest-auc:0.913732+0.0153966\n",
      "[500]\ttrain-auc:0.999985+6.12826e-06\ttest-auc:0.91476+0.0144055\n",
      "[600]\ttrain-auc:0.999995+1.69967e-06\ttest-auc:0.915821+0.013575\n",
      "[700]\ttrain-auc:0.999999+4.71405e-07\ttest-auc:0.916589+0.0129835\n",
      "[800]\ttrain-auc:1+0\ttest-auc:0.917468+0.0123705\n",
      "[900]\ttrain-auc:1+0\ttest-auc:0.918122+0.011776\n",
      "[1000]\ttrain-auc:1+0\ttest-auc:0.918795+0.0111559\n",
      "[1100]\ttrain-auc:1+0\ttest-auc:0.919332+0.0108341\n",
      "[1200]\ttrain-auc:1+0\ttest-auc:0.919564+0.010761\n",
      "[1300]\ttrain-auc:1+0\ttest-auc:0.919763+0.0107231\n",
      "[1400]\ttrain-auc:1+0\ttest-auc:0.920001+0.0105723\n",
      "[1500]\ttrain-auc:1+0\ttest-auc:0.920066+0.0106394\n",
      "[1600]\ttrain-auc:1+0\ttest-auc:0.92021+0.0106519\n",
      "[1700]\ttrain-auc:1+0\ttest-auc:0.920381+0.010699\n",
      "[1800]\ttrain-auc:1+0\ttest-auc:0.920574+0.0106538\n",
      "[1900]\ttrain-auc:1+0\ttest-auc:0.92075+0.0106463\n",
      "[2000]\ttrain-auc:1+0\ttest-auc:0.920752+0.0106904\n",
      "[2100]\ttrain-auc:1+0\ttest-auc:0.920877+0.0106243\n",
      "[2200]\ttrain-auc:1+0\ttest-auc:0.920967+0.0105706\n",
      "[2300]\ttrain-auc:1+0\ttest-auc:0.921061+0.0104868\n",
      "[2400]\ttrain-auc:1+0\ttest-auc:0.921114+0.0104819\n",
      "[2500]\ttrain-auc:1+0\ttest-auc:0.921166+0.0104455\n",
      "[2600]\ttrain-auc:1+0\ttest-auc:0.921198+0.0104026\n",
      "[2700]\ttrain-auc:1+0\ttest-auc:0.921201+0.0103475\n",
      "[0]\ttrain-auc:0.809085+0.0101961\ttest-auc:0.789043+0.00248147\n",
      "[100]\ttrain-auc:0.995664+0.000341889\ttest-auc:0.898797+0.00781782\n",
      "[0]\ttrain-auc:0.809075+0.00857728\ttest-auc:0.798852+0.000730775\n",
      "[100]\ttrain-auc:0.996074+0.000366682\ttest-auc:0.902224+0.00573575\n",
      "[0]\ttrain-auc:0.798024+0.0130176\ttest-auc:0.787267+0.00788353\n",
      "[100]\ttrain-auc:0.996417+0.000240426\ttest-auc:0.901116+0.00759255\n",
      "[0]\ttrain-auc:0.808292+0.00412285\ttest-auc:0.783442+0.0141488\n",
      "[100]\ttrain-auc:0.996459+0.000304756\ttest-auc:0.905915+0.00655613\n",
      "[0]\ttrain-auc:0.828245+0.0126995\ttest-auc:0.814648+0.010376\n",
      "[100]\ttrain-auc:0.996856+0.00013649\ttest-auc:0.907698+0.00772616\n",
      "[0]\ttrain-auc:0.812969+0.0186192\ttest-auc:0.801149+0.0111443\n",
      "[100]\ttrain-auc:0.996725+4.6428e-05\ttest-auc:0.904392+0.00946732\n",
      "[0]\ttrain-auc:0.812508+0.015718\ttest-auc:0.794116+0.00680445\n",
      "[100]\ttrain-auc:0.99575+0.000172454\ttest-auc:0.905152+0.00565374\n",
      "[0]\ttrain-auc:0.820584+0.0119058\ttest-auc:0.801848+0.0162067\n",
      "[100]\ttrain-auc:0.996451+0.000285119\ttest-auc:0.905666+0.00708514\n",
      "[0]\ttrain-auc:0.80822+0.00459098\ttest-auc:0.790142+0.00816844\n",
      "[100]\ttrain-auc:0.996343+0.000147188\ttest-auc:0.904085+0.00682953\n",
      "[0]\ttrain-auc:0.839048+0.0073031\ttest-auc:0.806308+0.0124787\n",
      "[100]\ttrain-auc:0.999999+4.71405e-07\ttest-auc:0.899361+0.0115622\n",
      "[0]\ttrain-auc:0.84536+0.0100873\ttest-auc:0.818138+0.00342632\n",
      "[100]\ttrain-auc:0.999999+8.16497e-07\ttest-auc:0.901175+0.00915569\n",
      "[0]\ttrain-auc:0.831462+0.015769\ttest-auc:0.807711+0.00738041\n",
      "[100]\ttrain-auc:0.999999+4.71405e-07\ttest-auc:0.900012+0.0105599\n",
      "[0]\ttrain-auc:0.850574+0.00298715\ttest-auc:0.824163+0.00623982\n",
      "[100]\ttrain-auc:1+0\ttest-auc:0.905147+0.00895035\n",
      "[0]\ttrain-auc:0.849969+0.0141523\ttest-auc:0.823066+0.00939236\n",
      "[100]\ttrain-auc:1+4.71405e-07\ttest-auc:0.906213+0.0116793\n",
      "[200]\ttrain-auc:1+0\ttest-auc:0.908431+0.0114321\n",
      "[300]\ttrain-auc:1+0\ttest-auc:0.909094+0.0114683\n",
      "[400]\ttrain-auc:1+0\ttest-auc:0.909312+0.0115075\n",
      "[0]\ttrain-auc:0.847981+0.0144276\ttest-auc:0.818789+0.00759754\n",
      "[100]\ttrain-auc:1+0\ttest-auc:0.906759+0.0103597\n",
      "[200]\ttrain-auc:1+0\ttest-auc:0.909306+0.0101055\n",
      "[300]\ttrain-auc:1+0\ttest-auc:0.909596+0.00990919\n",
      "[400]\ttrain-auc:1+0\ttest-auc:0.909744+0.0103306\n",
      "[500]\ttrain-auc:1+0\ttest-auc:0.909734+0.0101217\n",
      "[0]\ttrain-auc:0.851303+0.00488097\ttest-auc:0.820439+0.0114062\n",
      "[100]\ttrain-auc:0.999999+4.71405e-07\ttest-auc:0.907133+0.0110698\n",
      "[0]\ttrain-auc:0.857092+0.00247594\ttest-auc:0.824602+0.0122066\n",
      "[100]\ttrain-auc:0.999998+0\ttest-auc:0.904662+0.0116204\n",
      "[0]\ttrain-auc:0.851209+0.00506286\ttest-auc:0.818656+0.0093945\n",
      "[100]\ttrain-auc:0.999997+1.24722e-06\ttest-auc:0.90572+0.00909905\n",
      "[0]\ttrain-auc:0.862449+0.00504515\ttest-auc:0.830941+0.00631524\n",
      "[100]\ttrain-auc:1+0\ttest-auc:0.902661+0.00982464\n",
      "[200]\ttrain-auc:1+0\ttest-auc:0.90321+0.00947251\n",
      "[300]\ttrain-auc:1+0\ttest-auc:0.90412+0.0100219\n",
      "[0]\ttrain-auc:0.86366+0.00186112\ttest-auc:0.828148+0.00713121\n",
      "[100]\ttrain-auc:1+0\ttest-auc:0.903501+0.0104606\n",
      "[200]\ttrain-auc:1+0\ttest-auc:0.905344+0.00878485\n",
      "[300]\ttrain-auc:1+0\ttest-auc:0.905517+0.00869395\n",
      "[0]\ttrain-auc:0.861325+0.00230316\ttest-auc:0.830698+0.0115609\n",
      "[100]\ttrain-auc:1+0\ttest-auc:0.903902+0.00954277\n",
      "[200]\ttrain-auc:1+0\ttest-auc:0.9049+0.00836246\n",
      "[300]\ttrain-auc:1+0\ttest-auc:0.90562+0.00833146\n",
      "[400]\ttrain-auc:1+0\ttest-auc:0.905829+0.00812903\n",
      "[0]\ttrain-auc:0.869412+0.0025197\ttest-auc:0.832232+0.0034808\n",
      "[100]\ttrain-auc:1+0\ttest-auc:0.907301+0.0101797\n",
      "[200]\ttrain-auc:1+0\ttest-auc:0.908724+0.0103779\n",
      "[300]\ttrain-auc:1+0\ttest-auc:0.909361+0.0100391\n",
      "[0]\ttrain-auc:0.871147+0.00274716\ttest-auc:0.83775+0.00741346\n",
      "[100]\ttrain-auc:1+0\ttest-auc:0.90766+0.0106361\n",
      "[200]\ttrain-auc:1+0\ttest-auc:0.909761+0.0103572\n",
      "[300]\ttrain-auc:1+0\ttest-auc:0.910173+0.00992454\n",
      "[400]\ttrain-auc:1+0\ttest-auc:0.909926+0.00989721\n",
      "[0]\ttrain-auc:0.870246+0.00508329\ttest-auc:0.836174+0.00799902\n",
      "[100]\ttrain-auc:1+0\ttest-auc:0.909326+0.0117905\n",
      "[200]\ttrain-auc:1+0\ttest-auc:0.910311+0.0109196\n",
      "[300]\ttrain-auc:1+0\ttest-auc:0.910674+0.010695\n",
      "[400]\ttrain-auc:1+0\ttest-auc:0.910756+0.0105236\n",
      "[0]\ttrain-auc:0.872285+0.00481028\ttest-auc:0.834796+0.00653775\n",
      "[100]\ttrain-auc:1+0\ttest-auc:0.909747+0.0106778\n",
      "[200]\ttrain-auc:1+0\ttest-auc:0.9122+0.0102601\n",
      "[300]\ttrain-auc:1+0\ttest-auc:0.912666+0.0102194\n",
      "[0]\ttrain-auc:0.872405+0.00192521\ttest-auc:0.829719+0.0158599\n",
      "[100]\ttrain-auc:1+0\ttest-auc:0.910804+0.00906769\n",
      "[200]\ttrain-auc:1+0\ttest-auc:0.912651+0.00814134\n",
      "[300]\ttrain-auc:1+0\ttest-auc:0.913239+0.00795979\n",
      "[400]\ttrain-auc:1+0\ttest-auc:0.913315+0.00799829\n",
      "[0]\ttrain-auc:0.869911+0.00353727\ttest-auc:0.826667+0.0122608\n",
      "[100]\ttrain-auc:1+0\ttest-auc:0.909171+0.00847163\n",
      "[200]\ttrain-auc:1+0\ttest-auc:0.911937+0.0086359\n",
      "[300]\ttrain-auc:1+0\ttest-auc:0.91271+0.00847042\n",
      "[0]\ttrain-auc:0.809085+0.0101961\ttest-auc:0.789043+0.00248147\n",
      "[100]\ttrain-auc:0.978212+0.000452921\ttest-auc:0.914323+0.00819226\n",
      "[200]\ttrain-auc:0.992723+0.000617772\ttest-auc:0.916198+0.00772967\n",
      "[0]\ttrain-auc:0.809075+0.00857728\ttest-auc:0.798852+0.000730775\n",
      "[100]\ttrain-auc:0.979414+0.000405583\ttest-auc:0.915377+0.0100985\n",
      "[200]\ttrain-auc:0.993287+0.000237265\ttest-auc:0.916644+0.00974117\n",
      "[0]\ttrain-auc:0.798024+0.0130176\ttest-auc:0.787267+0.00788353\n",
      "[100]\ttrain-auc:0.97911+0.000640723\ttest-auc:0.915353+0.00865345\n",
      "[200]\ttrain-auc:0.993226+0.000184861\ttest-auc:0.917595+0.00816832\n",
      "[0]\ttrain-auc:0.808292+0.00412285\ttest-auc:0.783442+0.0141488\n",
      "[100]\ttrain-auc:0.979586+0.000727132\ttest-auc:0.916341+0.00837124\n",
      "[200]\ttrain-auc:0.993401+0.000309455\ttest-auc:0.918969+0.00833435\n",
      "[0]\ttrain-auc:0.828245+0.0126995\ttest-auc:0.814648+0.010376\n",
      "[100]\ttrain-auc:0.980135+0.00068615\ttest-auc:0.916331+0.00847205\n",
      "[200]\ttrain-auc:0.993561+0.000314599\ttest-auc:0.918025+0.0069939\n",
      "[0]\ttrain-auc:0.812969+0.0186192\ttest-auc:0.801149+0.0111443\n",
      "[100]\ttrain-auc:0.980966+0.000469185\ttest-auc:0.916979+0.00803263\n",
      "[200]\ttrain-auc:0.994059+0.000291832\ttest-auc:0.91839+0.00791984\n",
      "[0]\ttrain-auc:0.812508+0.015718\ttest-auc:0.794116+0.00680445\n",
      "[100]\ttrain-auc:0.979118+0.000181754\ttest-auc:0.915596+0.00883895\n",
      "[200]\ttrain-auc:0.991387+0.000346803\ttest-auc:0.91743+0.00756587\n",
      "[0]\ttrain-auc:0.820584+0.0119058\ttest-auc:0.801848+0.0162067\n",
      "[100]\ttrain-auc:0.978945+0.0011816\ttest-auc:0.91555+0.00849731\n",
      "[200]\ttrain-auc:0.991856+0.00015399\ttest-auc:0.917681+0.00753929\n",
      "[0]\ttrain-auc:0.80822+0.00459098\ttest-auc:0.790142+0.00816844\n",
      "[100]\ttrain-auc:0.979405+0.000573412\ttest-auc:0.91442+0.00760928\n",
      "[200]\ttrain-auc:0.992047+0.00019952\ttest-auc:0.917587+0.00632488\n",
      "[0]\ttrain-auc:0.839048+0.0073031\ttest-auc:0.806308+0.0124787\n",
      "[100]\ttrain-auc:0.9984+9.76536e-05\ttest-auc:0.917683+0.011173\n",
      "[0]\ttrain-auc:0.84536+0.0100873\ttest-auc:0.818138+0.00342632\n",
      "[100]\ttrain-auc:0.998596+0.000128226\ttest-auc:0.916485+0.011567\n",
      "[200]\ttrain-auc:0.999976+3.55903e-06\ttest-auc:0.914438+0.0104029\n",
      "[0]\ttrain-auc:0.831462+0.015769\ttest-auc:0.807711+0.00738041\n",
      "[100]\ttrain-auc:0.998573+0.000254738\ttest-auc:0.917273+0.0104169\n",
      "[0]\ttrain-auc:0.850574+0.00298715\ttest-auc:0.824163+0.00623982\n",
      "[100]\ttrain-auc:0.998849+5.16161e-05\ttest-auc:0.917191+0.011206\n",
      "[0]\ttrain-auc:0.849969+0.0141523\ttest-auc:0.823066+0.00939236\n",
      "[100]\ttrain-auc:0.999031+8.30475e-05\ttest-auc:0.917492+0.010593\n",
      "[200]\ttrain-auc:0.999982+6.79869e-06\ttest-auc:0.91507+0.00936275\n",
      "[0]\ttrain-auc:0.847981+0.0144276\ttest-auc:0.818789+0.00759754\n",
      "[100]\ttrain-auc:0.999025+7.61884e-05\ttest-auc:0.917655+0.0112111\n",
      "[0]\ttrain-auc:0.851303+0.00488097\ttest-auc:0.820439+0.0114062\n",
      "[100]\ttrain-auc:0.998984+0.0001188\ttest-auc:0.917621+0.0123303\n",
      "[0]\ttrain-auc:0.857092+0.00247594\ttest-auc:0.824602+0.0122066\n",
      "[100]\ttrain-auc:0.999068+8.08125e-05\ttest-auc:0.915282+0.0126425\n",
      "[0]\ttrain-auc:0.851209+0.00506286\ttest-auc:0.818656+0.0093945\n",
      "[100]\ttrain-auc:0.99899+7.26774e-05\ttest-auc:0.915133+0.0131699\n",
      "[0]\ttrain-auc:0.862449+0.00504515\ttest-auc:0.830941+0.00631524\n",
      "[100]\ttrain-auc:0.999939+4.32049e-06\ttest-auc:0.913784+0.0124005\n",
      "[200]\ttrain-auc:1+0\ttest-auc:0.914763+0.011095\n",
      "[300]\ttrain-auc:1+0\ttest-auc:0.915511+0.0102767\n",
      "[400]\ttrain-auc:1+0\ttest-auc:0.915603+0.00949701\n",
      "[0]\ttrain-auc:0.86366+0.00186112\ttest-auc:0.828148+0.00713121\n",
      "[100]\ttrain-auc:0.999958+2.49444e-06\ttest-auc:0.913863+0.0143011\n",
      "[200]\ttrain-auc:1+0\ttest-auc:0.915422+0.0117077\n",
      "[300]\ttrain-auc:1+0\ttest-auc:0.916397+0.0113189\n",
      "[400]\ttrain-auc:1+0\ttest-auc:0.916599+0.0110485\n",
      "[500]\ttrain-auc:1+0\ttest-auc:0.916638+0.0106625\n",
      "[0]\ttrain-auc:0.861325+0.00230316\ttest-auc:0.830698+0.0115609\n",
      "[100]\ttrain-auc:0.999959+9.79796e-06\ttest-auc:0.914548+0.0133953\n",
      "[200]\ttrain-auc:1+0\ttest-auc:0.916116+0.0118741\n",
      "[300]\ttrain-auc:1+0\ttest-auc:0.916949+0.0113293\n",
      "[0]\ttrain-auc:0.869412+0.0025197\ttest-auc:0.832232+0.0034808\n",
      "[100]\ttrain-auc:0.999984+2.44949e-06\ttest-auc:0.915971+0.0127805\n",
      "[200]\ttrain-auc:1+0\ttest-auc:0.918515+0.0109424\n",
      "[300]\ttrain-auc:1+0\ttest-auc:0.919459+0.0101016\n",
      "[400]\ttrain-auc:1+0\ttest-auc:0.919692+0.00990827\n",
      "[500]\ttrain-auc:1+0\ttest-auc:0.919772+0.00944619\n",
      "[0]\ttrain-auc:0.871147+0.00274716\ttest-auc:0.83775+0.00741346\n",
      "[100]\ttrain-auc:0.999986+4.08248e-06\ttest-auc:0.915244+0.0127242\n",
      "[200]\ttrain-auc:1+0\ttest-auc:0.917223+0.0105919\n",
      "[300]\ttrain-auc:1+0\ttest-auc:0.918637+0.00980919\n",
      "[400]\ttrain-auc:1+0\ttest-auc:0.918828+0.00953007\n",
      "[500]\ttrain-auc:1+0\ttest-auc:0.918785+0.00930146\n",
      "[0]\ttrain-auc:0.870246+0.00508329\ttest-auc:0.836174+0.00799902\n",
      "[100]\ttrain-auc:0.999988+3.55903e-06\ttest-auc:0.915571+0.0124199\n",
      "[200]\ttrain-auc:1+0\ttest-auc:0.91826+0.0107913\n",
      "[300]\ttrain-auc:1+0\ttest-auc:0.919451+0.00998829\n",
      "[400]\ttrain-auc:1+0\ttest-auc:0.91978+0.00976891\n",
      "[0]\ttrain-auc:0.872285+0.00481028\ttest-auc:0.834796+0.00653775\n",
      "[100]\ttrain-auc:0.999985+6.37704e-06\ttest-auc:0.914648+0.0122915\n",
      "[200]\ttrain-auc:1+0\ttest-auc:0.917745+0.00956835\n",
      "[300]\ttrain-auc:1+0\ttest-auc:0.919081+0.00903978\n",
      "[400]\ttrain-auc:1+0\ttest-auc:0.919592+0.00919563\n",
      "[500]\ttrain-auc:1+0\ttest-auc:0.91965+0.00913836\n",
      "[600]\ttrain-auc:1+0\ttest-auc:0.919752+0.00913226\n",
      "[700]\ttrain-auc:1+0\ttest-auc:0.919815+0.00911764\n",
      "[800]\ttrain-auc:1+0\ttest-auc:0.919772+0.0091175\n",
      "[0]\ttrain-auc:0.872405+0.00192521\ttest-auc:0.829719+0.0158599\n",
      "[100]\ttrain-auc:0.999982+5.73488e-06\ttest-auc:0.912474+0.0139467\n",
      "[200]\ttrain-auc:1+0\ttest-auc:0.915473+0.0104177\n",
      "[300]\ttrain-auc:1+0\ttest-auc:0.91691+0.0098829\n",
      "[400]\ttrain-auc:1+0\ttest-auc:0.917435+0.0100191\n",
      "[500]\ttrain-auc:1+0\ttest-auc:0.917849+0.00980396\n",
      "[600]\ttrain-auc:1+0\ttest-auc:0.917968+0.00975333\n",
      "[700]\ttrain-auc:1+0\ttest-auc:0.918108+0.00972102\n",
      "[800]\ttrain-auc:1+0\ttest-auc:0.918117+0.00968857\n",
      "[0]\ttrain-auc:0.869911+0.00353727\ttest-auc:0.826667+0.0122608\n",
      "[100]\ttrain-auc:0.99998+1.00333e-05\ttest-auc:0.912761+0.014056\n",
      "[200]\ttrain-auc:1+0\ttest-auc:0.916444+0.0110963\n",
      "[300]\ttrain-auc:1+0\ttest-auc:0.918025+0.0103839\n",
      "[400]\ttrain-auc:1+0\ttest-auc:0.918865+0.0100533\n",
      "[500]\ttrain-auc:1+0\ttest-auc:0.919409+0.0100111\n",
      "[600]\ttrain-auc:1+0\ttest-auc:0.919541+0.0100122\n",
      "[700]\ttrain-auc:1+0\ttest-auc:0.919617+0.00974184\n",
      "[800]\ttrain-auc:1+0\ttest-auc:0.919537+0.00965103\n"
     ]
    }
   ],
   "source": [
    "results = {}\n",
    "\n",
    "dtrain = xgb.DMatrix(X_train, label=y_train)\n",
    "\n",
    "for rate in learning_rate:\n",
    "  for depth in max_depth:\n",
    "    for sample in subsample:\n",
    "      for colsample in colsample_bytree:\n",
    "\n",
    "        params = {\n",
    "          'objective' : 'binary:logistic',\n",
    "          'eval_metric' : 'auc',\n",
    "          'learning_rate' : rate,\n",
    "          'max_depth' : depth,\n",
    "          'subsample' : sample,\n",
    "          'colsample_bytree' : colsample,\n",
    "          'tree_method' : 'gpu_hist',\n",
    "          'random_state' : 3,\n",
    "        }\n",
    "\n",
    "        history = xgb.cv(\n",
    "            params,\n",
    "            dtrain,\n",
    "            num_boost_round = 3000,\n",
    "            nfold = 3,\n",
    "            metrics ='auc',\n",
    "            early_stopping_rounds = 100,\n",
    "            verbose_eval=100,\n",
    "            seed=3,\n",
    "            shuffle = False\n",
    "        )\n",
    "\n",
    "        name = \"learning_rate : \"+str(rate)+\" max_depth : \"+str(depth)+\" subsample : \"+str(sample)+\" colsample_bytree : \"+str(colsample)\n",
    "        results[name] = (history.iloc[-1]['train-auc-mean'],history.iloc[-1]['test-auc-mean'])"
   ]
  },
  {
   "cell_type": "code",
   "execution_count": 2,
   "id": "4mezUJ9EJM4f",
   "metadata": {
    "executionInfo": {
     "elapsed": 690,
     "status": "ok",
     "timestamp": 1623689197677,
     "user": {
      "displayName": "Priyank Mishra",
      "photoUrl": "",
      "userId": "18008032652400229851"
     },
     "user_tz": -330
    },
    "id": "4mezUJ9EJM4f"
   },
   "outputs": [],
   "source": [
    "with open ('xgb_cv_results.pkl', 'rb') as handle:\n",
    "  results = pickle.load(handle)"
   ]
  },
  {
   "cell_type": "code",
   "execution_count": 3,
   "id": "vB7uB6m5UMqg",
   "metadata": {
    "executionInfo": {
     "elapsed": 395,
     "status": "ok",
     "timestamp": 1623689204533,
     "user": {
      "displayName": "Priyank Mishra",
      "photoUrl": "",
      "userId": "18008032652400229851"
     },
     "user_tz": -330
    },
    "id": "vB7uB6m5UMqg"
   },
   "outputs": [],
   "source": [
    "train_roc_auc = [auc[0] for auc in results.values()]\n",
    "cv_roc_auc = [auc[1] for auc in results.values()]"
   ]
  },
  {
   "cell_type": "code",
   "execution_count": 6,
   "id": "xkF6HmqKaaQ-",
   "metadata": {
    "colab": {
     "base_uri": "https://localhost:8080/",
     "height": 543
    },
    "executionInfo": {
     "elapsed": 1690,
     "status": "ok",
     "timestamp": 1623689218941,
     "user": {
      "displayName": "Priyank Mishra",
      "photoUrl": "",
      "userId": "18008032652400229851"
     },
     "user_tz": -330
    },
    "id": "xkF6HmqKaaQ-",
    "outputId": "9664ee84-9aa8-45d3-aff6-d8ca113cc3ca"
   },
   "outputs": [
    {
     "data": {
      "image/png": "[encoded data removed]",
      "text/plain": [
       "<Figure size 1800x576 with 1 Axes>"
      ]
     },
     "metadata": {
      "needs_background": "light"
     },
     "output_type": "display_data"
    }
   ],
   "source": [
    "plt.figure(figsize=(25,8))\n",
    "hyperparam_vs_auc(train_roc_auc, cv_roc_auc)"
   ]
  },
  {
   "cell_type": "markdown",
   "id": "1xIoO5wLbCc9",
   "metadata": {
    "id": "1xIoO5wLbCc9"
   },
   "source": [
    "From the above plot, the best hyperaparameter index is 3.\n",
    "<br><br>"
   ]
  },
  {
   "cell_type": "code",
   "execution_count": 7,
   "id": "O_RKITQ0ayez",
   "metadata": {
    "executionInfo": {
     "elapsed": 489,
     "status": "ok",
     "timestamp": 1623689283664,
     "user": {
      "displayName": "Priyank Mishra",
      "photoUrl": "",
      "userId": "18008032652400229851"
     },
     "user_tz": -330
    },
    "id": "O_RKITQ0ayez"
   },
   "outputs": [],
   "source": [
    "best_params = list(results.keys())[3]"
   ]
  },
  {
   "cell_type": "code",
   "execution_count": 8,
   "id": "ylT2Yeywa2SA",
   "metadata": {
    "colab": {
     "base_uri": "https://localhost:8080/"
    },
    "executionInfo": {
     "elapsed": 12,
     "status": "ok",
     "timestamp": 1623689284313,
     "user": {
      "displayName": "Priyank Mishra",
      "photoUrl": "",
      "userId": "18008032652400229851"
     },
     "user_tz": -330
    },
    "id": "ylT2Yeywa2SA",
    "outputId": "7346a317-9a8b-47b6-8da0-91c80ccc6e8c"
   },
   "outputs": [
    {
     "name": "stdout",
     "output_type": "stream",
     "text": [
      "The Best Paramaters are learning_rate : 0.02 max_depth : 8 subsample : 0.8 colsample_bytree : 0.6 \n"
     ]
    }
   ],
   "source": [
    "print(\"The Best Paramaters are {} \".format(best_params))"
   ]
  }
 ],
 "metadata": {
  "accelerator": "GPU",
  "colab": {
   "collapsed_sections": [],
   "machine_shape": "hm",
   "name": "9.Final Hyperparameter Tuning.ipynb",
   "provenance": []
  },
  "kernelspec": {
   "display_name": "Python 3",
   "language": "python",
   "name": "python3"
  },
  "language_info": {
   "codemirror_mode": {
    "name": "ipython",
    "version": 3
   },
   "file_extension": ".py",
   "mimetype": "text/x-python",
   "name": "python",
   "nbconvert_exporter": "python",
   "pygments_lexer": "ipython3",
   "version": "3.9.1"
  }
 },
 "nbformat": 4,
 "nbformat_minor": 5
}
