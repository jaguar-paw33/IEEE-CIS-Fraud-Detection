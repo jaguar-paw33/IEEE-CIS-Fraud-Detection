{
 "cells": [
  {
   "cell_type": "code",
   "execution_count": 3,
   "id": "da6213d9",
   "metadata": {
    "executionInfo": {
     "elapsed": 706,
     "status": "ok",
     "timestamp": 1623528782129,
     "user": {
      "displayName": "Priyank Mishra",
      "photoUrl": "",
      "userId": "18008032652400229851"
     },
     "user_tz": -330
    },
    "id": "da6213d9"
   },
   "outputs": [],
   "source": [
    "import random\n",
    "import copy\n",
    "import pickle\n",
    "import numpy as np\n",
    "import pandas as pd\n",
    "import seaborn as sns\n",
    "import matplotlib.pyplot as plt\n",
    "%matplotlib inline\n",
    "import sklearn\n",
    "from sklearn import metrics\n",
    "import xgboost as xgb\n",
    "from xgboost import XGBClassifier\n",
    "from sklearn.model_selection import train_test_split\n",
    "from sklearn.preprocessing import LabelEncoder\n",
    "from sklearn.metrics import roc_auc_score\n",
    "import warnings\n",
    "warnings.filterwarnings(\"ignore\")"
   ]
  },
  {
   "cell_type": "code",
   "execution_count": 4,
   "id": "8bbc073b",
   "metadata": {
    "executionInfo": {
     "elapsed": 9861,
     "status": "ok",
     "timestamp": 1623528791988,
     "user": {
      "displayName": "Priyank Mishra",
      "photoUrl": "",
      "userId": "18008032652400229851"
     },
     "user_tz": -330
    },
    "id": "8bbc073b"
   },
   "outputs": [],
   "source": [
    "# Loading the merged train and test dataset\n",
    "\n",
    "train_data = pd.read_pickle('merged_train.pkl')\n",
    "test_data = pd.read_pickle('merged_test.pkl')"
   ]
  },
  {
   "cell_type": "code",
   "execution_count": 5,
   "id": "0480f790",
   "metadata": {
    "colab": {
     "base_uri": "https://localhost:8080/"
    },
    "executionInfo": {
     "elapsed": 31,
     "status": "ok",
     "timestamp": 1623528791997,
     "user": {
      "displayName": "Priyank Mishra",
      "photoUrl": "",
      "userId": "18008032652400229851"
     },
     "user_tz": -330
    },
    "id": "0480f790",
    "outputId": "aeddad61-7751-44c1-b3fc-343bd00177cc"
   },
   "outputs": [
    {
     "name": "stdout",
     "output_type": "stream",
     "text": [
      "*********************************************\n",
      "\n",
      " Train Data Shape : (590540, 434) \n",
      "\n",
      "\n",
      " Test Data Shape : (506691, 433) \n",
      "\n",
      "*********************************************\n"
     ]
    }
   ],
   "source": [
    "print(\"*\"*45)\n",
    "print(\"\\n Train Data Shape : {} \\n\".format(train_data.shape))\n",
    "print(\"\\n Test Data Shape : {} \\n\".format(test_data.shape))\n",
    "print(\"*\"*45)"
   ]
  },
  {
   "cell_type": "markdown",
   "id": "ac98964c",
   "metadata": {
    "id": "ac98964c"
   },
   "source": [
    "### Utility Functions\n",
    "\n",
    "<br>"
   ]
  },
  {
   "cell_type": "code",
   "execution_count": 6,
   "id": "780a3e54",
   "metadata": {
    "executionInfo": {
     "elapsed": 25,
     "status": "ok",
     "timestamp": 1623528791998,
     "user": {
      "displayName": "Priyank Mishra",
      "photoUrl": "",
      "userId": "18008032652400229851"
     },
     "user_tz": -330
    },
    "id": "780a3e54"
   },
   "outputs": [],
   "source": [
    "def cat_num_features(df):\n",
    "    \n",
    "    '''\n",
    "        Utility Function to get the names of Categorical Features and \n",
    "        Numerical Features of the given Dataset.\n",
    "    '''\n",
    "    \n",
    "    catf = []\n",
    "    numf = []\n",
    "    \n",
    "    # Given Categorical Features \n",
    "    catf = ['ProductCD', 'card1', 'card2', 'card3', 'card4', 'card5', \\\n",
    "            'card6', 'addr1', 'addr2', 'P_emaildomain', 'R_emaildomain', 'M1', 'M2', \\\n",
    "            'M3', 'M4', 'M5', 'M6', 'M7', 'M8', 'M9', \\\n",
    "            'DeviceType', 'DeviceInfo']\n",
    "    catf+=['id_'+str(i) for i in range(12,39)]\n",
    "\n",
    "\n",
    "    # Updating the Categorical Feature Names List based on the columns present in the dataframe\n",
    "    catf = [feature for feature in catf if feature in df.columns.values]\n",
    "    numf = [feature for feature in df.columns if feature not in catf and not feature == 'isFraud']\n",
    "    \n",
    "    return (catf, numf)  "
   ]
  },
  {
   "cell_type": "code",
   "execution_count": 7,
   "id": "dc6e1c9b",
   "metadata": {
    "executionInfo": {
     "elapsed": 24,
     "status": "ok",
     "timestamp": 1623528791999,
     "user": {
      "displayName": "Priyank Mishra",
      "photoUrl": "",
      "userId": "18008032652400229851"
     },
     "user_tz": -330
    },
    "id": "dc6e1c9b"
   },
   "outputs": [],
   "source": [
    "def label_encode(X_train, X_cv, X_test, catf):\n",
    "  \n",
    "  '''\n",
    "    Utility Function to Encode Categorical Features.\n",
    "  '''\n",
    "\n",
    "  for f in catf:\n",
    "    \n",
    "    X_train[f] = X_train[f].astype(str)\n",
    "    X_test[f] = X_test[f].astype(str)\n",
    "    \n",
    "    le = LabelEncoder()\n",
    "    le.fit(X_train[f])\n",
    "    mapping = dict(zip(le.classes_, le.transform(le.classes_)))\n",
    "    X_train[f] = le.transform(X_train[f])\n",
    "    \n",
    "    # Manually Encoding the CV and Test Dataset so as to avoid error for any category which is not present in train set\n",
    "    \n",
    "    # All the categories which are not present in train datset are encoded as -1    \n",
    "    X_cv[f] = [-1 if mapping.get(v, -1)==-1 else mapping[v] for v in X_cv[f].values ]\n",
    "    X_test[f] = [-1 if mapping.get(v, -1)==-1 else mapping[v] for v in X_test[f].values ]\n",
    "\n",
    "  return (X_train, X_cv, X_test)"
   ]
  },
  {
   "cell_type": "code",
   "execution_count": 8,
   "id": "c56487ad",
   "metadata": {
    "executionInfo": {
     "elapsed": 23,
     "status": "ok",
     "timestamp": 1623528792000,
     "user": {
      "displayName": "Priyank Mishra",
      "photoUrl": "",
      "userId": "18008032652400229851"
     },
     "user_tz": -330
    },
    "id": "c56487ad"
   },
   "outputs": [],
   "source": [
    "def tpr_fpr_threshold_auc(Y, proba):\n",
    "    \n",
    "    '''\n",
    "        Utility Function to return fpr, tpr, threshold and roc_auc.\n",
    "    '''\n",
    "    \n",
    "    fpr, tpr, threshold = sklearn.metrics.roc_curve(Y, proba)\n",
    "    roc_auc = metrics.auc(fpr, tpr)\n",
    "    \n",
    "    return (fpr, tpr, threshold, roc_auc)"
   ]
  },
  {
   "cell_type": "code",
   "execution_count": 9,
   "id": "4243fd60",
   "metadata": {
    "executionInfo": {
     "elapsed": 22,
     "status": "ok",
     "timestamp": 1623528792001,
     "user": {
      "displayName": "Priyank Mishra",
      "photoUrl": "",
      "userId": "18008032652400229851"
     },
     "user_tz": -330
    },
    "id": "4243fd60"
   },
   "outputs": [],
   "source": [
    "#Reference: https://stackoverflow.com/questions/25009284/how-to-plot-roc-curve-in-python\n",
    "\n",
    "def train_cv_auc(train_fpr, train_tpr, train_roc_auc, cv_fpr, cv_tpr, cv_roc_auc):\n",
    "\n",
    "    '''\n",
    "        Utility Function to Draw ROC-AUC Curves for Train and Validation Datasets.\n",
    "    '''\n",
    "    \n",
    "    plt.title('\\nReceiver Operating Characteristic\\n')\n",
    "    plt.plot(train_fpr, train_tpr, label = 'Train AUC = %0.2f' % train_roc_auc)\n",
    "    plt.plot(cv_fpr, cv_tpr, label = 'CV AUC = %0.2f' % cv_roc_auc)\n",
    "    plt.legend(loc = 'lower right')\n",
    "    plt.plot([0, 1], [0, 1],'r--')\n",
    "    plt.xlim([0, 1])\n",
    "    plt.ylim([0, 1])\n",
    "    plt.ylabel('True Positive Rate (TPR)')\n",
    "    plt.xlabel('False Positive Rate (FPR)')\n",
    "    plt.show()"
   ]
  },
  {
   "cell_type": "code",
   "execution_count": 10,
   "id": "c5dec7ae",
   "metadata": {
    "executionInfo": {
     "elapsed": 21,
     "status": "ok",
     "timestamp": 1623528792002,
     "user": {
      "displayName": "Priyank Mishra",
      "photoUrl": "",
      "userId": "18008032652400229851"
     },
     "user_tz": -330
    },
    "id": "c5dec7ae"
   },
   "outputs": [],
   "source": [
    "def best_threshold(threshold,tpr,fpr):\n",
    "    \n",
    "    '''\n",
    "        Utility Function to return the best threshold value based on the TPR and FPR values.\n",
    "    '''\n",
    "    \n",
    "    return threshold[np.argmax(tpr*(1-fpr))];\n",
    "\n",
    "\n",
    "def class_label(best_thr, pred_score):\n",
    "    \n",
    "    '''\n",
    "        Utility Function to return the class label based on the chosen threshold.\n",
    "    '''\n",
    "    return np.where(pred_score>best_thr,1,0);"
   ]
  },
  {
   "cell_type": "code",
   "execution_count": 11,
   "id": "765b12f2",
   "metadata": {
    "executionInfo": {
     "elapsed": 21,
     "status": "ok",
     "timestamp": 1623528792003,
     "user": {
      "displayName": "Priyank Mishra",
      "photoUrl": "",
      "userId": "18008032652400229851"
     },
     "user_tz": -330
    },
    "id": "765b12f2"
   },
   "outputs": [],
   "source": [
    "#Reference: https://stackoverflow.com/questions/61748441/how-to-fix-the-values-displayed-in-a-confusion-matrix-in-exponential-form-to-nor\n",
    "\n",
    "def draw_confusion_matrix(Y, predicted):\n",
    "    \n",
    "    '''\n",
    "        Utility Function to draw Confusion Matrix.\n",
    "    '''\n",
    "\n",
    "    cv_cm = metrics.confusion_matrix(Y, predicted)\n",
    "    sns.heatmap(cv_cm, annot=True,fmt=\"d\",cmap='Oranges', xticklabels=['Legit', 'Fraudulent'], yticklabels=['Legit', 'Fraudulent'])\n",
    "    plt.title('\\nConfusion  Matrix\\n')\n",
    "    plt.xlabel('True')\n",
    "    plt.ylabel('Predicted')\n",
    "    plt.show()"
   ]
  },
  {
   "cell_type": "code",
   "execution_count": 12,
   "id": "bb4acd3e",
   "metadata": {
    "executionInfo": {
     "elapsed": 19,
     "status": "ok",
     "timestamp": 1623528792003,
     "user": {
      "displayName": "Priyank Mishra",
      "photoUrl": "",
      "userId": "18008032652400229851"
     },
     "user_tz": -330
    },
    "id": "bb4acd3e"
   },
   "outputs": [],
   "source": [
    "def predict_and_save(prediction, name):\n",
    "    \n",
    "    '''\n",
    "        Utility Function to save the test data predictions locally.\n",
    "    '''\n",
    "  \n",
    "    df = pd.DataFrame({'TransactionID':test_ids.reshape(-1), 'isFraud':prediction.reshape(-1)})\n",
    "    df = df.sort_values('TransactionID')\n",
    "    df.to_csv(name, index=False)"
   ]
  },
  {
   "cell_type": "markdown",
   "id": "9dd59e19",
   "metadata": {
    "id": "9dd59e19"
   },
   "source": [
    "## Data Preparation\n",
    "<br>"
   ]
  },
  {
   "cell_type": "markdown",
   "id": "rQTzZJCOXX6R",
   "metadata": {
    "id": "rQTzZJCOXX6R"
   },
   "source": [
    "### Splitting the Dataset\n",
    "<br>"
   ]
  },
  {
   "cell_type": "code",
   "execution_count": 13,
   "id": "e75daf6b",
   "metadata": {
    "executionInfo": {
     "elapsed": 2263,
     "status": "ok",
     "timestamp": 1623528794928,
     "user": {
      "displayName": "Priyank Mishra",
      "photoUrl": "",
      "userId": "18008032652400229851"
     },
     "user_tz": -330
    },
    "id": "e75daf6b"
   },
   "outputs": [],
   "source": [
    "X = train_data.drop(['isFraud', 'TransactionID'], axis=1)\n",
    "y = train_data['isFraud']\n",
    "\n",
    "X_train, X_cv, y_train, y_cv = train_test_split(X, y, test_size=0.20, shuffle=False)\n",
    "del X, y\n",
    "\n",
    "X_test = test_data.drop(['TransactionID'], axis=1)\n",
    "test_ids = test_data['TransactionID'].values\n",
    "\n",
    "del train_data, test_data"
   ]
  },
  {
   "cell_type": "code",
   "execution_count": 14,
   "id": "08ddc3d8",
   "metadata": {
    "colab": {
     "base_uri": "https://localhost:8080/"
    },
    "executionInfo": {
     "elapsed": 6,
     "status": "ok",
     "timestamp": 1623528794931,
     "user": {
      "displayName": "Priyank Mishra",
      "photoUrl": "",
      "userId": "18008032652400229851"
     },
     "user_tz": -330
    },
    "id": "08ddc3d8",
    "outputId": "4caccfcd-c80f-430e-a438-aa71ec2549aa"
   },
   "outputs": [
    {
     "name": "stdout",
     "output_type": "stream",
     "text": [
      "*********************************************\n",
      "\n",
      " Train Data Shape : (472432, 432) \n",
      "\n",
      "\n",
      " Cross Validation Data Shape : (118108, 432) \n",
      "\n",
      "\n",
      " Test Data Shape : (506691, 432) \n",
      "\n",
      "*********************************************\n"
     ]
    }
   ],
   "source": [
    "print(\"*\"*45)\n",
    "print(\"\\n Train Data Shape : {} \\n\".format(X_train.shape))\n",
    "print(\"\\n Cross Validation Data Shape : {} \\n\".format(X_cv.shape))\n",
    "print(\"\\n Test Data Shape : {} \\n\".format(X_test.shape))\n",
    "print(\"*\"*45)"
   ]
  },
  {
   "cell_type": "code",
   "execution_count": 15,
   "id": "712e6afc",
   "metadata": {
    "executionInfo": {
     "elapsed": 5,
     "status": "ok",
     "timestamp": 1623528794932,
     "user": {
      "displayName": "Priyank Mishra",
      "photoUrl": "",
      "userId": "18008032652400229851"
     },
     "user_tz": -330
    },
    "id": "712e6afc"
   },
   "outputs": [],
   "source": [
    "# Storing Categorical and Numerical Feature Names \n",
    "\n",
    "catf, numf = cat_num_features(X_train)\n",
    "categorical_feature_indices = [X_train.columns.get_loc(f) for f in catf]"
   ]
  },
  {
   "cell_type": "markdown",
   "id": "a50561e7",
   "metadata": {
    "id": "a50561e7"
   },
   "source": [
    "#### Label Encoding Categorical Features\n",
    "<br>"
   ]
  },
  {
   "cell_type": "code",
   "execution_count": 16,
   "id": "3432d35f",
   "metadata": {
    "executionInfo": {
     "elapsed": 71813,
     "status": "ok",
     "timestamp": 1623528866740,
     "user": {
      "displayName": "Priyank Mishra",
      "photoUrl": "",
      "userId": "18008032652400229851"
     },
     "user_tz": -330
    },
    "id": "3432d35f"
   },
   "outputs": [],
   "source": [
    "# Imputing the missing values of Categorical Columns with \"missing\"\n",
    "\n",
    "X_train[catf] = X_train[catf].fillna('missing')\n",
    "X_cv[catf] = X_cv[catf].fillna('missing')\n",
    "X_test[catf] = X_test[catf].fillna('missing')\n",
    "\n",
    "\n",
    "# Label Encoding Categorical Features\n",
    "\n",
    "X_train, X_cv, X_test = label_encode(X_train, X_cv, X_test, catf)"
   ]
  },
  {
   "cell_type": "markdown",
   "id": "iCb0KrSu8XLx",
   "metadata": {
    "id": "iCb0KrSu8XLx"
   },
   "source": [
    "## Modeling\n",
    "<br>"
   ]
  },
  {
   "cell_type": "code",
   "execution_count": 17,
   "id": "mHlH2uhOqFAK",
   "metadata": {
    "colab": {
     "base_uri": "https://localhost:8080/"
    },
    "executionInfo": {
     "elapsed": 57873,
     "status": "ok",
     "timestamp": 1623528924589,
     "user": {
      "displayName": "Priyank Mishra",
      "photoUrl": "",
      "userId": "18008032652400229851"
     },
     "user_tz": -330
    },
    "id": "mHlH2uhOqFAK",
    "outputId": "dc8fee89-0323-4a41-a288-97c6c257a968"
   },
   "outputs": [
    {
     "name": "stdout",
     "output_type": "stream",
     "text": [
      "[0]\tvalidation_0-auc:0.81429\n",
      "Will train until validation_0-auc hasn't improved in 100 rounds.\n",
      "[50]\tvalidation_0-auc:0.855966\n",
      "[100]\tvalidation_0-auc:0.862375\n",
      "[150]\tvalidation_0-auc:0.862453\n",
      "[200]\tvalidation_0-auc:0.863885\n",
      "[250]\tvalidation_0-auc:0.870111\n",
      "[300]\tvalidation_0-auc:0.872289\n",
      "[350]\tvalidation_0-auc:0.873308\n",
      "[400]\tvalidation_0-auc:0.873473\n",
      "Stopping. Best iteration:\n",
      "[344]\tvalidation_0-auc:0.87418\n",
      "\n"
     ]
    }
   ],
   "source": [
    "clf = XGBClassifier(\n",
    "    objective='binary:logistic',\n",
    "    eval_metric='auc',\n",
    "    n_estimators=3000,\n",
    "    tree_method='gpu_hist',\n",
    "    random_state=3,\n",
    "    subsample=0.8,\n",
    "    max_depth=12,\n",
    "    colsample_bytree=0.6,\n",
    "    learning_rate=0.02\n",
    ")\n",
    "\n",
    "results = clf.fit(X_train, y_train, eval_set=[(X_cv, y_cv)], verbose=50, early_stopping_rounds=100)"
   ]
  },
  {
   "cell_type": "code",
   "execution_count": 18,
   "id": "-SHdGNS3yRmQ",
   "metadata": {
    "colab": {
     "base_uri": "https://localhost:8080/",
     "height": 1000
    },
    "executionInfo": {
     "elapsed": 2300,
     "status": "ok",
     "timestamp": 1623528926857,
     "user": {
      "displayName": "Priyank Mishra",
      "photoUrl": "",
      "userId": "18008032652400229851"
     },
     "user_tz": -330
    },
    "id": "-SHdGNS3yRmQ",
    "outputId": "2b2302b9-f05a-42dd-af72-9d87ddf19475"
   },
   "outputs": [
    {
     "data": {
      "image/png": "[encoded data removed]",
      "text/plain": [
       "<Figure size 1008x1440 with 1 Axes>"
      ]
     },
     "metadata": {
      "needs_background": "light",
      "tags": []
     },
     "output_type": "display_data"
    }
   ],
   "source": [
    "plt.rcParams[\"figure.figsize\"] = (14, 20)\n",
    "xgb.plot_importance(clf,max_num_features=50, grid=False, height=0.4)\n",
    "plt.show()"
   ]
  },
  {
   "cell_type": "code",
   "execution_count": 19,
   "id": "66rl1EQmAWlY",
   "metadata": {
    "executionInfo": {
     "elapsed": 17319,
     "status": "ok",
     "timestamp": 1623528944160,
     "user": {
      "displayName": "Priyank Mishra",
      "photoUrl": "",
      "userId": "18008032652400229851"
     },
     "user_tz": -330
    },
    "id": "66rl1EQmAWlY"
   },
   "outputs": [],
   "source": [
    "train_proba = clf.predict_proba(X_train)[:,1]\n",
    "cv_proba = clf.predict_proba(X_cv)[:,1]\n",
    "test_proba = clf.predict_proba(X_test)[:,1]"
   ]
  },
  {
   "cell_type": "code",
   "execution_count": 20,
   "id": "uWBCfYCfH8Fs",
   "metadata": {
    "executionInfo": {
     "elapsed": 40,
     "status": "ok",
     "timestamp": 1623528944161,
     "user": {
      "displayName": "Priyank Mishra",
      "photoUrl": "",
      "userId": "18008032652400229851"
     },
     "user_tz": -330
    },
    "id": "uWBCfYCfH8Fs"
   },
   "outputs": [],
   "source": [
    "train_fpr, train_tpr, train_threshold, train_roc_auc = tpr_fpr_threshold_auc(y_train, train_proba)\n",
    "cv_fpr, cv_tpr, cv_threshold, cv_roc_auc = tpr_fpr_threshold_auc(y_cv, cv_proba)"
   ]
  },
  {
   "cell_type": "code",
   "execution_count": 21,
   "id": "6UDIifisH8Fs",
   "metadata": {
    "colab": {
     "base_uri": "https://localhost:8080/",
     "height": 380
    },
    "executionInfo": {
     "elapsed": 37,
     "status": "ok",
     "timestamp": 1623528944162,
     "user": {
      "displayName": "Priyank Mishra",
      "photoUrl": "",
      "userId": "18008032652400229851"
     },
     "user_tz": -330
    },
    "id": "6UDIifisH8Fs",
    "outputId": "a79eaaff-c36d-492a-e958-cfa392b23f8c"
   },
   "outputs": [
    {
     "data": {
      "image/png": "[encoded data removed]",
      "text/plain": [
       "<Figure size 432x360 with 1 Axes>"
      ]
     },
     "metadata": {
      "needs_background": "light",
      "tags": []
     },
     "output_type": "display_data"
    }
   ],
   "source": [
    "plt.rcParams[\"figure.figsize\"] = (6, 5)\n",
    "train_cv_auc(train_fpr, train_tpr, train_roc_auc, cv_fpr, cv_tpr, cv_roc_auc)"
   ]
  },
  {
   "cell_type": "code",
   "execution_count": 22,
   "id": "GiDqkASOH8Ft",
   "metadata": {
    "colab": {
     "base_uri": "https://localhost:8080/",
     "height": 380
    },
    "executionInfo": {
     "elapsed": 935,
     "status": "ok",
     "timestamp": 1623528945067,
     "user": {
      "displayName": "Priyank Mishra",
      "photoUrl": "",
      "userId": "18008032652400229851"
     },
     "user_tz": -330
    },
    "id": "GiDqkASOH8Ft",
    "outputId": "8b764f3e-9c08-4c9b-d925-9da3066079c7",
    "scrolled": true
   },
   "outputs": [
    {
     "data": {
      "image/png": "[encoded data removed]",
      "text/plain": [
       "<Figure size 432x360 with 2 Axes>"
      ]
     },
     "metadata": {
      "needs_background": "light",
      "tags": []
     },
     "output_type": "display_data"
    }
   ],
   "source": [
    "best_thr = best_threshold(cv_threshold, cv_tpr, cv_fpr)\n",
    "cv_pred = class_label(best_thr, cv_proba)\n",
    "\n",
    "draw_confusion_matrix(y_cv, cv_pred)"
   ]
  },
  {
   "cell_type": "code",
   "execution_count": 23,
   "id": "_i-h6_RNH8Ft",
   "metadata": {
    "executionInfo": {
     "elapsed": 436,
     "status": "ok",
     "timestamp": 1623528945500,
     "user": {
      "displayName": "Priyank Mishra",
      "photoUrl": "",
      "userId": "18008032652400229851"
     },
     "user_tz": -330
    },
    "id": "_i-h6_RNH8Ft"
   },
   "outputs": [],
   "source": [
    "predict_and_save(test_proba, 'tuned_submission.csv')"
   ]
  },
  {
   "cell_type": "markdown",
   "id": "Uwzz4EwHCJ8Y",
   "metadata": {
    "id": "Uwzz4EwHCJ8Y"
   },
   "source": [
    "> __Kaggle Submission__"
   ]
  },
  {
   "cell_type": "markdown",
   "id": "-Jk2oLBICPll",
   "metadata": {
    "id": "-Jk2oLBICPll"
   },
   "source": [
    "<img src=https://i.ibb.co/7XxGYb7/Screenshot-from-2021-06-14-23-34-43.png>"
   ]
  }
 ],
 "metadata": {
  "accelerator": "GPU",
  "colab": {
   "collapsed_sections": [],
   "machine_shape": "hm",
   "name": "4.Tuned Prediction.ipynb",
   "provenance": []
  },
  "kernelspec": {
   "display_name": "Python 3",
   "language": "python",
   "name": "python3"
  },
  "language_info": {
   "codemirror_mode": {
    "name": "ipython",
    "version": 3
   },
   "file_extension": ".py",
   "mimetype": "text/x-python",
   "name": "python",
   "nbconvert_exporter": "python",
   "pygments_lexer": "ipython3",
   "version": "3.9.1"
  }
 },
 "nbformat": 4,
 "nbformat_minor": 5
}
