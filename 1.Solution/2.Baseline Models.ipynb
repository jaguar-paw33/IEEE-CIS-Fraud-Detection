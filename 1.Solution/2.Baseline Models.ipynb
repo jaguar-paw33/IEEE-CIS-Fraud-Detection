{
 "cells": [
  {
   "cell_type": "code",
   "execution_count": null,
   "id": "da6213d9",
   "metadata": {
    "id": "da6213d9"
   },
   "outputs": [],
   "source": [
    "import random\n",
    "import pickle\n",
    "import numpy as np\n",
    "import pandas as pd\n",
    "import seaborn as sns\n",
    "import matplotlib.pyplot as plt\n",
    "%matplotlib inline\n",
    "from prettytable import PrettyTable\n",
    "import sklearn\n",
    "from sklearn import metrics\n",
    "from sklearn.naive_bayes import GaussianNB\n",
    "from sklearn.linear_model import LogisticRegression\n",
    "from sklearn.tree import DecisionTreeClassifier\n",
    "from sklearn.ensemble import RandomForestClassifier, AdaBoostClassifier\n",
    "from xgboost import XGBClassifier\n",
    "from sklearn.model_selection import TimeSeriesSplit, train_test_split, GridSearchCV\n",
    "from sklearn.preprocessing import LabelEncoder\n",
    "from sklearn.metrics import roc_auc_score\n",
    "from sklearn.calibration import CalibratedClassifierCV\n",
    "import warnings\n",
    "warnings.filterwarnings(\"ignore\")"
   ]
  },
  {
   "cell_type": "code",
   "execution_count": null,
   "id": "8bbc073b",
   "metadata": {
    "id": "8bbc073b"
   },
   "outputs": [],
   "source": [
    "# Loading the merged train and test dataset\n",
    "\n",
    "train_data = pd.read_pickle('merged_train.pkl')\n",
    "test_data = pd.read_pickle('merged_test.pkl')"
   ]
  },
  {
   "cell_type": "code",
   "execution_count": null,
   "id": "0480f790",
   "metadata": {
    "colab": {
     "base_uri": "https://localhost:8080/"
    },
    "executionInfo": {
     "elapsed": 26,
     "status": "ok",
     "timestamp": 1623157910673,
     "user": {
      "displayName": "Priyank Mishra",
      "photoUrl": "",
      "userId": "18008032652400229851"
     },
     "user_tz": -330
    },
    "id": "0480f790",
    "outputId": "952b0383-9933-433d-d17d-5253ddb29d97"
   },
   "outputs": [
    {
     "name": "stdout",
     "output_type": "stream",
     "text": [
      "*********************************************\n",
      "\n",
      " Train Data Shape : (590540, 434) \n",
      "\n",
      "\n",
      " Test Data Shape : (506691, 433) \n",
      "\n",
      "*********************************************\n"
     ]
    }
   ],
   "source": [
    "print(\"*\"*45)\n",
    "print(\"\\n Train Data Shape : {} \\n\".format(train_data.shape))\n",
    "print(\"\\n Test Data Shape : {} \\n\".format(test_data.shape))\n",
    "print(\"*\"*45)"
   ]
  },
  {
   "cell_type": "markdown",
   "id": "eO36Arb_F0_7",
   "metadata": {
    "id": "eO36Arb_F0_7"
   },
   "source": [
    "## Utility Functions\n",
    "<br>"
   ]
  },
  {
   "cell_type": "code",
   "execution_count": null,
   "id": "780a3e54",
   "metadata": {
    "id": "780a3e54"
   },
   "outputs": [],
   "source": [
    "def cat_num_features(df):\n",
    "    \n",
    "    '''\n",
    "        Utility Function to get the names of Categorical Features and \n",
    "        Numerical Features of the given Dataset.\n",
    "    '''\n",
    "    \n",
    "    catf = []\n",
    "    numf = []\n",
    "    \n",
    "    # Given Categorical Features \n",
    "    catf = ['ProductCD', 'card1', 'card2', 'card3', 'card4', 'card5', \\\n",
    "            'card6', 'addr1', 'addr2', 'P_emaildomain', 'R_emaildomain', 'M1', 'M2', \\\n",
    "            'M3', 'M4', 'M5', 'M6', 'M7', 'M8', 'M9', \\\n",
    "            'DeviceType', 'DeviceInfo']\n",
    "    catf+=['id_'+str(i) for i in range(12,39)]\n",
    "\n",
    "\n",
    "    # Updating the Categorical Feature Names List based on the columns present in the dataframe\n",
    "    catf = [feature for feature in catf if feature in df.columns.values]\n",
    "    numf = [feature for feature in df.columns if feature not in catf and not feature == 'isFraud']\n",
    "    \n",
    "    return (catf, numf)  "
   ]
  },
  {
   "cell_type": "code",
   "execution_count": null,
   "id": "dc6e1c9b",
   "metadata": {
    "id": "dc6e1c9b"
   },
   "outputs": [],
   "source": [
    "def label_encode(X_train, X_test, catf):\n",
    "  \n",
    "  '''\n",
    "    Utility Function to Encode Categorical Features.\n",
    "  '''\n",
    "\n",
    "  for f in catf:\n",
    "    \n",
    "    X_train[f] = X_train[f].astype(str)\n",
    "    X_test[f] = X_test[f].astype(str)\n",
    "    \n",
    "    le = LabelEncoder()\n",
    "    le.fit(X_train[f])\n",
    "    mapping = dict(zip(le.classes_, le.transform(le.classes_)))\n",
    "    X_train[f] = le.transform(X_train[f])\n",
    "    \n",
    "    # Manually Encoding the CV and Test Dataset so as to avoid error for any category which is not present in train set\n",
    "    \n",
    "    # All the categories which are not present in train datset are encoded as -1\n",
    "    \n",
    "    X_test[f] = [-1 if mapping.get(v, -1)==-1 else mapping[v] for v in X_test[f].values ]\n",
    "\n",
    "  return (X_train, X_test)"
   ]
  },
  {
   "cell_type": "code",
   "execution_count": null,
   "id": "2e284786",
   "metadata": {
    "id": "2e284786"
   },
   "outputs": [],
   "source": [
    "def normalize(X_train, X_test):\n",
    "    '''\n",
    "        Utility Function to scale the values of the Train, CV and Test Datasets between 0 and 1.\n",
    "    '''\n",
    "    \n",
    "    for f in X_train.columns:\n",
    "\n",
    "        min_val = X_train[f].min()\n",
    "        max_val = X_train[f].max()\n",
    "        \n",
    "        X_train[f] = (X_train[f]-min_val)/(max_val-min_val)\n",
    "        X_test[f] = (X_test[f]-min_val)/(max_val-min_val)\n",
    "        \n",
    "    return (X_train, X_test)"
   ]
  },
  {
   "cell_type": "code",
   "execution_count": null,
   "id": "bb4acd3e",
   "metadata": {
    "id": "bb4acd3e"
   },
   "outputs": [],
   "source": [
    "def predict_and_save(prediction, name):\n",
    "    \n",
    "    '''\n",
    "        Utility Function to save the test data predictions locally.\n",
    "    '''\n",
    "\n",
    "    df = pd.DataFrame({'TransactionID':test_ids.reshape(-1), 'isFraud':prediction.reshape(-1)})\n",
    "    df = df.sort_values('TransactionID')\n",
    "    df.to_csv(name, index=False)"
   ]
  },
  {
   "cell_type": "markdown",
   "id": "9dd59e19",
   "metadata": {
    "id": "9dd59e19"
   },
   "source": [
    "## Data Preparation\n",
    "<br>"
   ]
  },
  {
   "cell_type": "markdown",
   "id": "rQTzZJCOXX6R",
   "metadata": {
    "id": "rQTzZJCOXX6R"
   },
   "source": [
    "### Splitting the Dataset\n",
    "<br>"
   ]
  },
  {
   "cell_type": "code",
   "execution_count": null,
   "id": "e75daf6b",
   "metadata": {
    "id": "e75daf6b"
   },
   "outputs": [],
   "source": [
    "X_train = train_data.drop(['isFraud', 'TransactionID'], axis=1)\n",
    "y_train = train_data['isFraud']\n",
    "\n",
    "X_test = test_data.drop(['TransactionID'], axis=1)\n",
    "test_ids = test_data['TransactionID'].values\n",
    "\n",
    "del train_data, test_data"
   ]
  },
  {
   "cell_type": "code",
   "execution_count": null,
   "id": "08ddc3d8",
   "metadata": {
    "colab": {
     "base_uri": "https://localhost:8080/"
    },
    "executionInfo": {
     "elapsed": 7,
     "status": "ok",
     "timestamp": 1623157913990,
     "user": {
      "displayName": "Priyank Mishra",
      "photoUrl": "",
      "userId": "18008032652400229851"
     },
     "user_tz": -330
    },
    "id": "08ddc3d8",
    "outputId": "77144020-0d80-4ba8-f282-71736cbbd21d",
    "scrolled": true
   },
   "outputs": [
    {
     "name": "stdout",
     "output_type": "stream",
     "text": [
      "*********************************************\n",
      "\n",
      " Train Data Shape : (590540, 432) \n",
      "\n",
      "\n",
      " Test Data Shape : (506691, 432) \n",
      "\n",
      "*********************************************\n"
     ]
    }
   ],
   "source": [
    "print(\"*\"*45)\n",
    "print(\"\\n Train Data Shape : {} \\n\".format(X_train.shape))\n",
    "print(\"\\n Test Data Shape : {} \\n\".format(X_test.shape))\n",
    "print(\"*\"*45)"
   ]
  },
  {
   "cell_type": "code",
   "execution_count": null,
   "id": "712e6afc",
   "metadata": {
    "id": "712e6afc"
   },
   "outputs": [],
   "source": [
    "# Storing Categorical and Numerical Feature Names \n",
    "\n",
    "catf, numf = cat_num_features(X_train)\n",
    "categorical_feature_indices = [X_train.columns.get_loc(f) for f in catf]"
   ]
  },
  {
   "cell_type": "markdown",
   "id": "a50561e7",
   "metadata": {
    "id": "a50561e7"
   },
   "source": [
    "#### Label Encoding Categorical Features\n",
    "<br>\n",
    "We will be creating three sets, one having imputed missing values to be used with models which do not handle missing values on their own and the other whose missing values will be imputed and also it will be scaled between 0 and 1 to be used with models like Naive Bayes and Logisitic Regression and the third which is to be used with model like XgBoost which can handle missing values on its own.\n",
    "<br><br>"
   ]
  },
  {
   "cell_type": "code",
   "execution_count": null,
   "id": "3432d35f",
   "metadata": {
    "id": "3432d35f"
   },
   "outputs": [],
   "source": [
    "# Imputing the missing values of Categorical Columns with \"missing\"\n",
    "\n",
    "X_train[catf] = X_train[catf].fillna('missing')\n",
    "X_test[catf] = X_test[catf].fillna('missing')\n",
    "\n",
    "\n",
    "# Label Encoding Categorical Features\n",
    "\n",
    "X_train, X_test = label_encode(X_train, X_test, catf)"
   ]
  },
  {
   "cell_type": "code",
   "execution_count": null,
   "id": "10320f4d",
   "metadata": {
    "id": "10320f4d"
   },
   "outputs": [],
   "source": [
    "# Set1 (Imputed and Normalized)\n",
    "\n",
    "X_train1 = X_train.fillna(-999)\n",
    "X_test1 = X_test.fillna(-999)\n",
    "X_train1, X_test1 = normalize(X_train1, X_test1)\n",
    "\n",
    "\n",
    "\n",
    "# Set2 (Imputed)\n",
    "\n",
    "X_train2 = X_train.fillna(-999)\n",
    "X_test2 = X_test.fillna(-999)\n",
    "\n",
    "\n",
    "\n",
    "# Set3 (Raw)\n",
    "\n",
    "X_train3 = X_train\n",
    "X_test3 = X_test\n",
    "\n",
    "del X_train, X_test"
   ]
  },
  {
   "cell_type": "code",
   "execution_count": null,
   "id": "f5ba53e8",
   "metadata": {
    "id": "f5ba53e8"
   },
   "outputs": [],
   "source": [
    "train1 = X_train1\n",
    "train1['isFraud'] = y_train\n",
    "\n",
    "test1 = X_test1\n",
    "\n",
    "del X_train1, X_test1\n",
    "\n",
    "\n",
    "\n",
    "train2 = X_train2\n",
    "train2['isFraud'] = y_train\n",
    "\n",
    "test2 = X_test2\n",
    "\n",
    "del X_train2, X_test2\n",
    "\n",
    "\n",
    "\n",
    "train3 = X_train3\n",
    "train3['isFraud'] = y_train\n",
    "\n",
    "test3 = X_test3\n",
    "\n",
    "del X_train3, y_train, X_test3"
   ]
  },
  {
   "cell_type": "code",
   "execution_count": null,
   "id": "385bc132",
   "metadata": {
    "id": "385bc132"
   },
   "outputs": [],
   "source": [
    "y_train = train1.pop('isFraud')\n",
    "_ = train2.pop('isFraud')\n",
    "_ = train3.pop('isFraud')\n",
    "\n",
    "\n",
    "X_train1 = train1\n",
    "X_test1 = test1 \n",
    "\n",
    "X_train2 = train2\n",
    "X_test2 = test2 \n",
    "\n",
    "X_train3 = train3\n",
    "X_test3 = test3 \n",
    "\n",
    "del train1, train2, train3"
   ]
  },
  {
   "cell_type": "code",
   "execution_count": null,
   "id": "77b932d2",
   "metadata": {
    "colab": {
     "base_uri": "https://localhost:8080/"
    },
    "executionInfo": {
     "elapsed": 14,
     "status": "ok",
     "timestamp": 1623158006995,
     "user": {
      "displayName": "Priyank Mishra",
      "photoUrl": "",
      "userId": "18008032652400229851"
     },
     "user_tz": -330
    },
    "id": "77b932d2",
    "outputId": "9a4b92b6-ec49-4818-c965-6ac6824c73ba"
   },
   "outputs": [
    {
     "name": "stdout",
     "output_type": "stream",
     "text": [
      "************************************************************\n",
      "\n",
      " Train Dataset Set1 Shape : (590540, 432) \n",
      "\n",
      "\n",
      " Test Dataset Set1 Shape : (506691, 432) \n",
      "\n",
      "************************************************************\n",
      "\n",
      " Train Dataset Set1 Shape : (590540, 432) \n",
      "\n",
      "\n",
      " Test Dataset Set2 Shape : (506691, 432) \n",
      "\n",
      "************************************************************\n",
      "\n",
      " Train Dataset Set1 Shape : (590540, 432) \n",
      "\n",
      "\n",
      " Test Dataset Set3 Shape : (506691, 432) \n",
      "\n",
      "************************************************************\n"
     ]
    }
   ],
   "source": [
    "print(\"*\"*60)\n",
    "print(\"\\n Train Dataset Set1 Shape : {} \\n\".format(X_train1.shape))\n",
    "print(\"\\n Test Dataset Set1 Shape : {} \\n\".format(X_test1.shape))\n",
    "print(\"*\"*60)\n",
    "print(\"\\n Train Dataset Set1 Shape : {} \\n\".format(X_train1.shape))\n",
    "print(\"\\n Test Dataset Set2 Shape : {} \\n\".format(X_test2.shape))\n",
    "print(\"*\"*60)\n",
    "print(\"\\n Train Dataset Set1 Shape : {} \\n\".format(X_train1.shape))\n",
    "print(\"\\n Test Dataset Set3 Shape : {} \\n\".format(X_test3.shape))\n",
    "print(\"*\"*60)"
   ]
  },
  {
   "cell_type": "markdown",
   "id": "48d2678b",
   "metadata": {
    "id": "48d2678b"
   },
   "source": [
    "## Base Line Models\n",
    "<br>"
   ]
  },
  {
   "cell_type": "markdown",
   "id": "2ba10ea9",
   "metadata": {
    "id": "2ba10ea9"
   },
   "source": [
    "<br>\n",
    "\n",
    "### 1. Naive Bayes\n",
    "\n",
    "<br>"
   ]
  },
  {
   "cell_type": "code",
   "execution_count": null,
   "id": "bc1eab3f",
   "metadata": {
    "id": "bc1eab3f",
    "outputId": "24a57974-e8da-4953-ee3b-a6bf1bb027da"
   },
   "outputs": [
    {
     "data": {
      "text/plain": [
       "GaussianNB(priors=[0.5, 0.5])"
      ]
     },
     "execution_count": 17,
     "metadata": {
      "tags": []
     },
     "output_type": "execute_result"
    }
   ],
   "source": [
    "nb = GaussianNB(priors=[0.5,0.5]) \n",
    "nb.fit(X_train1, y_train)"
   ]
  },
  {
   "cell_type": "code",
   "execution_count": null,
   "id": "56f447fe",
   "metadata": {
    "id": "56f447fe"
   },
   "outputs": [],
   "source": [
    "nb_test_proba = nb.predict_proba(X_test1)[:,1]"
   ]
  },
  {
   "cell_type": "code",
   "execution_count": null,
   "id": "d87c5565",
   "metadata": {
    "id": "d87c5565"
   },
   "outputs": [],
   "source": [
    "predict_and_save(nb_test_proba, 'nb_pred_bl.csv')"
   ]
  },
  {
   "cell_type": "markdown",
   "id": "2f682103",
   "metadata": {
    "id": "2f682103"
   },
   "source": [
    "> __Kaggle Submission__"
   ]
  },
  {
   "cell_type": "markdown",
   "id": "991ca69c",
   "metadata": {
    "id": "991ca69c"
   },
   "source": [
    "<img src= https://i.ibb.co/Jv1f53w/Screenshot-from-2021-06-08-17-20-04.png>"
   ]
  },
  {
   "cell_type": "markdown",
   "id": "773e6871",
   "metadata": {
    "id": "773e6871"
   },
   "source": [
    "<br>\n",
    "\n",
    "### 2. Logistic Regression\n",
    "\n",
    "<br>"
   ]
  },
  {
   "cell_type": "code",
   "execution_count": null,
   "id": "ffe86e7b",
   "metadata": {
    "id": "ffe86e7b",
    "outputId": "2581b7b8-8daa-473d-ef00-d5961ac3f4b9",
    "scrolled": true
   },
   "outputs": [
    {
     "data": {
      "text/plain": [
       "LogisticRegression(class_weight='balanced', n_jobs=-1, random_state=3)"
      ]
     },
     "execution_count": 20,
     "metadata": {
      "tags": []
     },
     "output_type": "execute_result"
    }
   ],
   "source": [
    "lr = LogisticRegression(n_jobs = -1, class_weight = 'balanced', random_state = 3) \n",
    "lr.fit(X_train1, y_train)"
   ]
  },
  {
   "cell_type": "code",
   "execution_count": null,
   "id": "82b04f35",
   "metadata": {
    "id": "82b04f35"
   },
   "outputs": [],
   "source": [
    "lr_test_proba = lr.predict_proba(X_test1)[:,1]"
   ]
  },
  {
   "cell_type": "code",
   "execution_count": null,
   "id": "8441e4ca",
   "metadata": {
    "id": "8441e4ca"
   },
   "outputs": [],
   "source": [
    "predict_and_save(lr_test_proba, 'lr_pred_bl.csv')"
   ]
  },
  {
   "cell_type": "markdown",
   "id": "e9ab4eb2",
   "metadata": {
    "id": "e9ab4eb2"
   },
   "source": [
    "> __Kaggle Submission__"
   ]
  },
  {
   "cell_type": "markdown",
   "id": "afaf1ff4",
   "metadata": {
    "id": "afaf1ff4"
   },
   "source": [
    "<img src= https://i.ibb.co/FqGD60V/Screenshot-from-2021-06-08-17-20-56.png>"
   ]
  },
  {
   "cell_type": "markdown",
   "id": "bfec8799",
   "metadata": {
    "id": "bfec8799"
   },
   "source": [
    "<br>\n",
    "\n",
    "### 3. Decision Tree\n",
    "\n",
    "<br>"
   ]
  },
  {
   "cell_type": "code",
   "execution_count": null,
   "id": "efb16011",
   "metadata": {
    "id": "efb16011",
    "outputId": "51e48561-7438-4747-90e3-e3534ef385f0",
    "scrolled": true
   },
   "outputs": [
    {
     "data": {
      "text/plain": [
       "DecisionTreeClassifier(class_weight='balanced', random_state=3)"
      ]
     },
     "execution_count": 23,
     "metadata": {
      "tags": []
     },
     "output_type": "execute_result"
    }
   ],
   "source": [
    "dt =  DecisionTreeClassifier(random_state=3, class_weight='balanced')\n",
    "dt.fit(X_train2, y_train)"
   ]
  },
  {
   "cell_type": "code",
   "execution_count": null,
   "id": "23965755",
   "metadata": {
    "id": "23965755"
   },
   "outputs": [],
   "source": [
    "dt_test_proba = dt.predict_proba(X_test2)[:,1]"
   ]
  },
  {
   "cell_type": "code",
   "execution_count": null,
   "id": "3yHe8gNOH8Fl",
   "metadata": {
    "id": "3yHe8gNOH8Fl"
   },
   "outputs": [],
   "source": [
    "predict_and_save(dt_test_proba, 'dt_pred_bl.csv')"
   ]
  },
  {
   "cell_type": "markdown",
   "id": "f52321ae",
   "metadata": {
    "id": "f52321ae"
   },
   "source": [
    "> __Kaggle Submission__"
   ]
  },
  {
   "cell_type": "markdown",
   "id": "26b9bf84",
   "metadata": {
    "id": "26b9bf84"
   },
   "source": [
    "<img src= https://i.ibb.co/dkJ67ym/Screenshot-from-2021-06-08-17-21-47.png>"
   ]
  },
  {
   "cell_type": "markdown",
   "id": "2ae3eb8c",
   "metadata": {
    "id": "2ae3eb8c"
   },
   "source": [
    "<br>\n",
    "\n",
    "### 4. Random Forest\n",
    "\n",
    "<br>"
   ]
  },
  {
   "cell_type": "code",
   "execution_count": null,
   "id": "dc4b60d0",
   "metadata": {
    "id": "dc4b60d0",
    "outputId": "0ef5eb03-9917-4a33-ba85-75a4a298f398"
   },
   "outputs": [
    {
     "data": {
      "text/plain": [
       "RandomForestClassifier(class_weight='balanced', n_jobs=-1, random_state=3)"
      ]
     },
     "execution_count": 26,
     "metadata": {
      "tags": []
     },
     "output_type": "execute_result"
    }
   ],
   "source": [
    "rf =  RandomForestClassifier(n_jobs = -1, class_weight = 'balanced', random_state = 3)\n",
    "rf.fit(X_train2, y_train)"
   ]
  },
  {
   "cell_type": "code",
   "execution_count": null,
   "id": "ac0cd53a",
   "metadata": {
    "id": "ac0cd53a"
   },
   "outputs": [],
   "source": [
    "rf_test_proba = rf.predict_proba(X_test2)[:,1]"
   ]
  },
  {
   "cell_type": "code",
   "execution_count": null,
   "id": "PU_on3-vH8Fn",
   "metadata": {
    "id": "PU_on3-vH8Fn"
   },
   "outputs": [],
   "source": [
    "predict_and_save(rf_test_proba, 'rf_pred_bl.csv')"
   ]
  },
  {
   "cell_type": "markdown",
   "id": "3df3a757",
   "metadata": {
    "id": "3df3a757"
   },
   "source": [
    "> __Kaggle Submission__"
   ]
  },
  {
   "cell_type": "markdown",
   "id": "c7c94c51",
   "metadata": {
    "id": "c7c94c51"
   },
   "source": [
    "<img src= https://i.ibb.co/bNBXMPm/Screenshot-from-2021-06-08-17-22-29.png>"
   ]
  },
  {
   "cell_type": "markdown",
   "id": "56ea2aee",
   "metadata": {
    "id": "56ea2aee"
   },
   "source": [
    "<br>\n",
    "\n",
    "### 5. Adaptive Boosting\n",
    "\n",
    "<br>"
   ]
  },
  {
   "cell_type": "code",
   "execution_count": null,
   "id": "2be1c5c7",
   "metadata": {
    "id": "2be1c5c7",
    "outputId": "b25c7d0a-91f0-42b1-9b73-0299c745a092"
   },
   "outputs": [
    {
     "data": {
      "text/plain": [
       "AdaBoostClassifier(random_state=3)"
      ]
     },
     "execution_count": 29,
     "metadata": {
      "tags": []
     },
     "output_type": "execute_result"
    }
   ],
   "source": [
    "ab =  AdaBoostClassifier(random_state = 3)\n",
    "ab.fit(X_train2, y_train)"
   ]
  },
  {
   "cell_type": "code",
   "execution_count": null,
   "id": "6046bc34",
   "metadata": {
    "id": "6046bc34"
   },
   "outputs": [],
   "source": [
    "ab_test_proba = ab.predict_proba(X_test2)[:,1]"
   ]
  },
  {
   "cell_type": "code",
   "execution_count": null,
   "id": "rGJKo8uoH8Fq",
   "metadata": {
    "id": "rGJKo8uoH8Fq"
   },
   "outputs": [],
   "source": [
    "predict_and_save(ab_test_proba, 'ab_pred_bl.csv')"
   ]
  },
  {
   "cell_type": "markdown",
   "id": "ec181c22",
   "metadata": {
    "id": "ec181c22"
   },
   "source": [
    "> __Kaggle Submission__"
   ]
  },
  {
   "cell_type": "markdown",
   "id": "79f3ec35",
   "metadata": {
    "id": "79f3ec35"
   },
   "source": [
    "<img src= https://i.ibb.co/2SJZgjv/Screenshot-from-2021-06-08-17-27-05.png>"
   ]
  },
  {
   "cell_type": "markdown",
   "id": "1a02f819",
   "metadata": {
    "id": "1a02f819"
   },
   "source": [
    "<br>\n",
    "\n",
    "### 6. Gradient Boosted Decision Tree (XGBoost)\n",
    "\n",
    "<br>"
   ]
  },
  {
   "cell_type": "code",
   "execution_count": null,
   "id": "b6d72d7e",
   "metadata": {
    "id": "b6d72d7e"
   },
   "outputs": [],
   "source": [
    "weight = y_train.value_counts()[0]/y_train.value_counts()[1]"
   ]
  },
  {
   "cell_type": "code",
   "execution_count": null,
   "id": "6b91aa61",
   "metadata": {
    "colab": {
     "base_uri": "https://localhost:8080/"
    },
    "id": "6b91aa61",
    "outputId": "2375d62a-c3a5-4d35-b6b5-00b032fdc0d9"
   },
   "outputs": [
    {
     "data": {
      "text/plain": [
       "XGBClassifier(base_score=0.5, booster='gbtree', colsample_bylevel=1,\n",
       "              colsample_bynode=1, colsample_bytree=1, eval_metric='auc',\n",
       "              gamma=0, learning_rate=0.1, max_delta_step=0, max_depth=3,\n",
       "              min_child_weight=1, missing=None, n_estimators=100, n_jobs=1,\n",
       "              nthread=None, objective='binary:logistic', random_state=3,\n",
       "              reg_alpha=0, reg_lambda=1, scale_pos_weight=27.579586700866283,\n",
       "              seed=None, silent=None, subsample=1, tree_method='gpu_hist',\n",
       "              verbosity=1)"
      ]
     },
     "execution_count": 25,
     "metadata": {
      "tags": []
     },
     "output_type": "execute_result"
    }
   ],
   "source": [
    "xgboost =  XGBClassifier(scale_pos_weight = weight, objective='binary:logistic', eval_metric = 'auc', random_state = 3, tree_method = 'gpu_hist')\n",
    "xgboost.fit(X_train3, y_train)"
   ]
  },
  {
   "cell_type": "code",
   "execution_count": null,
   "id": "40974125",
   "metadata": {
    "id": "40974125"
   },
   "outputs": [],
   "source": [
    "xgboost_test_proba = xgboost.predict_proba(X_test3)[:,1]"
   ]
  },
  {
   "cell_type": "code",
   "execution_count": null,
   "id": "_i-h6_RNH8Ft",
   "metadata": {
    "id": "_i-h6_RNH8Ft"
   },
   "outputs": [],
   "source": [
    "predict_and_save(xgboost_test_proba, 'xgboost_pred_bl.csv')"
   ]
  },
  {
   "cell_type": "markdown",
   "id": "2AWwvJuojtV5",
   "metadata": {
    "id": "2AWwvJuojtV5"
   },
   "source": [
    "__Kaggle Submission__"
   ]
  },
  {
   "cell_type": "markdown",
   "id": "uoP3uyvDjwtF",
   "metadata": {
    "id": "uoP3uyvDjwtF"
   },
   "source": [
    "<img src= https://i.ibb.co/TRB96hh/Screenshot-from-2021-06-08-17-47-20.png>"
   ]
  },
  {
   "cell_type": "markdown",
   "id": "8_pzo2WEGnqf",
   "metadata": {
    "id": "8_pzo2WEGnqf"
   },
   "source": [
    "## Conclusion"
   ]
  },
  {
   "cell_type": "markdown",
   "id": "KhzqLd6tGply",
   "metadata": {
    "id": "KhzqLd6tGply"
   },
   "source": [
    "From the above results, it is quite clear that the Decision Tree based Ensemble is working best for our problem. Hence, from now on we will be using Tree based Ensemble only and will try to optimize the data and models to get more better score."
   ]
  }
 ],
 "metadata": {
  "accelerator": "GPU",
  "colab": {
   "collapsed_sections": [],
   "machine_shape": "hm",
   "name": "2.Baseline Models.ipynb",
   "provenance": []
  },
  "kernelspec": {
   "display_name": "Python 3",
   "language": "python",
   "name": "python3"
  },
  "language_info": {
   "codemirror_mode": {
    "name": "ipython",
    "version": 3
   },
   "file_extension": ".py",
   "mimetype": "text/x-python",
   "name": "python",
   "nbconvert_exporter": "python",
   "pygments_lexer": "ipython3",
   "version": "3.9.1"
  }
 },
 "nbformat": 4,
 "nbformat_minor": 5
}
