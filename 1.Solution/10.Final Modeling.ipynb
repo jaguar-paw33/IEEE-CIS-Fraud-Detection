{
 "cells": [
  {
   "cell_type": "code",
   "execution_count": 1,
   "id": "da6213d9",
   "metadata": {
    "executionInfo": {
     "elapsed": 621,
     "status": "ok",
     "timestamp": 1623697596970,
     "user": {
      "displayName": "Priyank Mishra",
      "photoUrl": "",
      "userId": "18008032652400229851"
     },
     "user_tz": -330
    },
    "id": "da6213d9"
   },
   "outputs": [],
   "source": [
    "import random\n",
    "import copy\n",
    "import pickle\n",
    "import numpy as np\n",
    "import pandas as pd\n",
    "import seaborn as sns\n",
    "import matplotlib.pyplot as plt\n",
    "%matplotlib inline\n",
    "import sklearn\n",
    "from sklearn import metrics\n",
    "import xgboost as xgb\n",
    "from xgboost import XGBClassifier\n",
    "from sklearn.model_selection import train_test_split, GroupKFold\n",
    "from sklearn.preprocessing import LabelEncoder\n",
    "from sklearn.metrics import roc_auc_score, confusion_matrix\n",
    "import warnings\n",
    "warnings.filterwarnings(\"ignore\")"
   ]
  },
  {
   "cell_type": "code",
   "execution_count": 2,
   "id": "8bbc073b",
   "metadata": {
    "executionInfo": {
     "elapsed": 4958,
     "status": "ok",
     "timestamp": 1623697601921,
     "user": {
      "displayName": "Priyank Mishra",
      "photoUrl": "",
      "userId": "18008032652400229851"
     },
     "user_tz": -330
    },
    "id": "8bbc073b"
   },
   "outputs": [],
   "source": [
    "# Loading the merged train and test dataset\n",
    "\n",
    "train_data = pd.read_pickle('advanced_fe_train.pkl')\n",
    "test_data = pd.read_pickle('advanced_fe_test.pkl')"
   ]
  },
  {
   "cell_type": "code",
   "execution_count": 3,
   "id": "0480f790",
   "metadata": {
    "colab": {
     "base_uri": "https://localhost:8080/"
    },
    "executionInfo": {
     "elapsed": 24,
     "status": "ok",
     "timestamp": 1623697601927,
     "user": {
      "displayName": "Priyank Mishra",
      "photoUrl": "",
      "userId": "18008032652400229851"
     },
     "user_tz": -330
    },
    "id": "0480f790",
    "outputId": "7718b36c-0b6b-4dfd-9ecc-2fe9d9f78d34"
   },
   "outputs": [
    {
     "name": "stdout",
     "output_type": "stream",
     "text": [
      "*********************************************\n",
      "\n",
      " Train Data Shape : (590538, 313) \n",
      "\n",
      "\n",
      " Test Data Shape : (506691, 312) \n",
      "\n",
      "*********************************************\n"
     ]
    }
   ],
   "source": [
    "print(\"*\"*45)\n",
    "print(\"\\n Train Data Shape : {} \\n\".format(train_data.shape))\n",
    "print(\"\\n Test Data Shape : {} \\n\".format(test_data.shape))\n",
    "print(\"*\"*45)"
   ]
  },
  {
   "cell_type": "code",
   "execution_count": 4,
   "id": "J8P4hzuBYnn4",
   "metadata": {
    "executionInfo": {
     "elapsed": 14,
     "status": "ok",
     "timestamp": 1623697601929,
     "user": {
      "displayName": "Priyank Mishra",
      "photoUrl": "",
      "userId": "18008032652400229851"
     },
     "user_tz": -330
    },
    "id": "J8P4hzuBYnn4"
   },
   "outputs": [],
   "source": [
    "with open(\"features_having_covariate_shift.pkl\", 'rb') as handle:\n",
    "  drop_cols = pickle.load(handle)"
   ]
  },
  {
   "cell_type": "markdown",
   "id": "eaTgbeu00_x2",
   "metadata": {
    "id": "eaTgbeu00_x2"
   },
   "source": [
    "## Utility Functions\n",
    "<br>"
   ]
  },
  {
   "cell_type": "code",
   "execution_count": 5,
   "id": "aoZzZFkERuGP",
   "metadata": {
    "executionInfo": {
     "elapsed": 13,
     "status": "ok",
     "timestamp": 1623697608637,
     "user": {
      "displayName": "Priyank Mishra",
      "photoUrl": "",
      "userId": "18008032652400229851"
     },
     "user_tz": -330
    },
    "id": "aoZzZFkERuGP"
   },
   "outputs": [],
   "source": [
    "def tpr_fpr_threshold_auc(Y, proba):\n",
    "    \n",
    "    '''\n",
    "        Utility Function to return fpr, tpr, threshold and roc_auc.\n",
    "    '''\n",
    "    \n",
    "    fpr, tpr, threshold = sklearn.metrics.roc_curve(Y, proba)\n",
    "    roc_auc = metrics.auc(fpr, tpr)\n",
    "    \n",
    "    return (fpr, tpr, threshold, roc_auc)"
   ]
  },
  {
   "cell_type": "code",
   "execution_count": 6,
   "id": "eyhz0pIgRuDj",
   "metadata": {
    "executionInfo": {
     "elapsed": 10,
     "status": "ok",
     "timestamp": 1623697608639,
     "user": {
      "displayName": "Priyank Mishra",
      "photoUrl": "",
      "userId": "18008032652400229851"
     },
     "user_tz": -330
    },
    "id": "eyhz0pIgRuDj"
   },
   "outputs": [],
   "source": [
    "#Reference: https://stackoverflow.com/questions/25009284/how-to-plot-roc-curve-in-python\n",
    "\n",
    "def train_cv_auc(train_fpr, train_tpr, train_roc_auc, cv_fpr, cv_tpr, cv_roc_auc):\n",
    "\n",
    "    '''\n",
    "        Utility Function to Draw ROC-AUC Curves for Train and Validation Datasets.\n",
    "    '''\n",
    "    \n",
    "    plt.title('\\nReceiver Operating Characteristic\\n')\n",
    "    plt.plot(train_fpr, train_tpr, label = 'Train AUC = %0.2f' % train_roc_auc)\n",
    "    plt.plot(cv_fpr, cv_tpr, label = 'CV AUC = %0.2f' % cv_roc_auc)\n",
    "    plt.legend(loc = 'lower right')\n",
    "    plt.plot([0, 1], [0, 1],'r--')\n",
    "    plt.xlim([0, 1])\n",
    "    plt.ylim([0, 1])\n",
    "    plt.ylabel('True Positive Rate (TPR)')\n",
    "    plt.xlabel('False Positive Rate (FPR)')\n",
    "    plt.show()"
   ]
  },
  {
   "cell_type": "code",
   "execution_count": 7,
   "id": "TYlqJaPsRuA0",
   "metadata": {
    "executionInfo": {
     "elapsed": 12,
     "status": "ok",
     "timestamp": 1623697609896,
     "user": {
      "displayName": "Priyank Mishra",
      "photoUrl": "",
      "userId": "18008032652400229851"
     },
     "user_tz": -330
    },
    "id": "TYlqJaPsRuA0"
   },
   "outputs": [],
   "source": [
    "def best_threshold(threshold,tpr,fpr):\n",
    "    \n",
    "    '''\n",
    "        Utility Function to return the best threshold value based on the TPR and FPR values.\n",
    "    '''\n",
    "    \n",
    "    return threshold[np.argmax(tpr*(1-fpr))];\n",
    "\n",
    "\n",
    "def class_label(best_thr, pred_score):\n",
    "    \n",
    "    '''\n",
    "        Utility Function to return the class label based on the chosen threshold.\n",
    "    '''\n",
    "    return np.where(pred_score>best_thr,1,0);"
   ]
  },
  {
   "cell_type": "code",
   "execution_count": 8,
   "id": "8Ev0kmGdRwuO",
   "metadata": {
    "executionInfo": {
     "elapsed": 11,
     "status": "ok",
     "timestamp": 1623697609898,
     "user": {
      "displayName": "Priyank Mishra",
      "photoUrl": "",
      "userId": "18008032652400229851"
     },
     "user_tz": -330
    },
    "id": "8Ev0kmGdRwuO"
   },
   "outputs": [],
   "source": [
    "#Reference: https://stackoverflow.com/questions/61748441/how-to-fix-the-values-displayed-in-a-confusion-matrix-in-exponential-form-to-nor\n",
    "\n",
    "def draw_confusion_matrix(Y, predicted):\n",
    "    \n",
    "    '''\n",
    "        Utility Function to draw Confusion Matrix.\n",
    "    '''\n",
    "\n",
    "    cv_cm = confusion_matrix(Y, predicted)\n",
    "    sns.heatmap(cv_cm, annot=True,fmt=\"d\",cmap='Oranges', xticklabels=['Legit', 'Fraudulent'], yticklabels=['Legit', 'Fraudulent'])\n",
    "    plt.title('\\nConfusion  Matrix\\n')\n",
    "    plt.xlabel('True')\n",
    "    plt.ylabel('Predicted')\n",
    "    plt.show()"
   ]
  },
  {
   "cell_type": "code",
   "execution_count": 9,
   "id": "Fvvl4UJ_RiSs",
   "metadata": {
    "executionInfo": {
     "elapsed": 11,
     "status": "ok",
     "timestamp": 1623697609900,
     "user": {
      "displayName": "Priyank Mishra",
      "photoUrl": "",
      "userId": "18008032652400229851"
     },
     "user_tz": -330
    },
    "id": "Fvvl4UJ_RiSs"
   },
   "outputs": [],
   "source": [
    "def predict_and_save(prediction, name):\n",
    "    \n",
    "    '''\n",
    "        Utility Function to save the test data predictions locally.\n",
    "    '''\n",
    "\n",
    "    df = pd.DataFrame({'TransactionID':test_ids.reshape(-1), 'isFraud':prediction.reshape(-1)})\n",
    "    df = df.sort_values('TransactionID')\n",
    "    df.to_csv(name, index=False)"
   ]
  },
  {
   "cell_type": "markdown",
   "id": "9dd59e19",
   "metadata": {
    "id": "9dd59e19"
   },
   "source": [
    "## Data Preparation\n",
    "<br>"
   ]
  },
  {
   "cell_type": "markdown",
   "id": "rQTzZJCOXX6R",
   "metadata": {
    "id": "rQTzZJCOXX6R"
   },
   "source": [
    "### Splitting the Dataset\n",
    "<br>"
   ]
  },
  {
   "cell_type": "code",
   "execution_count": 10,
   "id": "e75daf6b",
   "metadata": {
    "executionInfo": {
     "elapsed": 509,
     "status": "ok",
     "timestamp": 1623697611301,
     "user": {
      "displayName": "Priyank Mishra",
      "photoUrl": "",
      "userId": "18008032652400229851"
     },
     "user_tz": -330
    },
    "id": "e75daf6b"
   },
   "outputs": [],
   "source": [
    "X = train_data.drop(['isFraud']+drop_cols, axis=1)\n",
    "y = train_data['isFraud']\n",
    "\n",
    "X_train, X_cv, y_train, y_cv = train_test_split(X, y, test_size=0.20, shuffle=False)\n",
    "del X, y"
   ]
  },
  {
   "cell_type": "code",
   "execution_count": 11,
   "id": "08ddc3d8",
   "metadata": {
    "colab": {
     "base_uri": "https://localhost:8080/"
    },
    "executionInfo": {
     "elapsed": 3,
     "status": "ok",
     "timestamp": 1623697611301,
     "user": {
      "displayName": "Priyank Mishra",
      "photoUrl": "",
      "userId": "18008032652400229851"
     },
     "user_tz": -330
    },
    "id": "08ddc3d8",
    "outputId": "af3d3b5c-9bc1-4cc9-c41c-cac7199190cb"
   },
   "outputs": [
    {
     "name": "stdout",
     "output_type": "stream",
     "text": [
      "*********************************************\n",
      "\n",
      " Train Data Shape : (472430, 300) \n",
      "\n",
      "\n",
      " Cross Validation Data Shape : (118108, 300) \n",
      "\n",
      "*********************************************\n"
     ]
    }
   ],
   "source": [
    "print(\"*\"*45)\n",
    "print(\"\\n Train Data Shape : {} \\n\".format(X_train.shape))\n",
    "print(\"\\n Cross Validation Data Shape : {} \\n\".format(X_cv.shape))\n",
    "print(\"*\"*45)"
   ]
  },
  {
   "cell_type": "markdown",
   "id": "1a02f819",
   "metadata": {
    "id": "1a02f819"
   },
   "source": [
    "<br>\n",
    "\n",
    "## Modeling\n",
    "\n",
    "<br>"
   ]
  },
  {
   "cell_type": "code",
   "execution_count": 12,
   "id": "4r8L_pBM2Nim",
   "metadata": {
    "colab": {
     "base_uri": "https://localhost:8080/"
    },
    "executionInfo": {
     "elapsed": 84788,
     "status": "ok",
     "timestamp": 1623697717569,
     "user": {
      "displayName": "Priyank Mishra",
      "photoUrl": "",
      "userId": "18008032652400229851"
     },
     "user_tz": -330
    },
    "id": "4r8L_pBM2Nim",
    "outputId": "3afef46d-02a8-4072-b65c-48808e09bbc1",
    "scrolled": true
   },
   "outputs": [
    {
     "name": "stdout",
     "output_type": "stream",
     "text": [
      "[0]\tvalidation_0-auc:0.77739\n",
      "[50]\tvalidation_0-auc:0.84886\n",
      "[100]\tvalidation_0-auc:0.86318\n",
      "[150]\tvalidation_0-auc:0.87876\n",
      "[200]\tvalidation_0-auc:0.89004\n",
      "[250]\tvalidation_0-auc:0.90065\n",
      "[300]\tvalidation_0-auc:0.90842\n",
      "[350]\tvalidation_0-auc:0.91347\n",
      "[400]\tvalidation_0-auc:0.91690\n",
      "[450]\tvalidation_0-auc:0.91956\n",
      "[500]\tvalidation_0-auc:0.92125\n",
      "[550]\tvalidation_0-auc:0.92256\n",
      "[600]\tvalidation_0-auc:0.92348\n",
      "[650]\tvalidation_0-auc:0.92433\n",
      "[700]\tvalidation_0-auc:0.92551\n",
      "[750]\tvalidation_0-auc:0.92643\n",
      "[800]\tvalidation_0-auc:0.92729\n",
      "[850]\tvalidation_0-auc:0.92763\n",
      "[900]\tvalidation_0-auc:0.92798\n",
      "[950]\tvalidation_0-auc:0.92827\n",
      "[1000]\tvalidation_0-auc:0.92839\n",
      "[1050]\tvalidation_0-auc:0.92872\n",
      "[1100]\tvalidation_0-auc:0.92895\n",
      "[1150]\tvalidation_0-auc:0.92904\n",
      "[1200]\tvalidation_0-auc:0.92921\n",
      "[1250]\tvalidation_0-auc:0.92935\n",
      "[1300]\tvalidation_0-auc:0.92939\n",
      "[1350]\tvalidation_0-auc:0.92949\n",
      "[1400]\tvalidation_0-auc:0.92969\n",
      "[1450]\tvalidation_0-auc:0.92973\n",
      "[1500]\tvalidation_0-auc:0.92970\n",
      "[1550]\tvalidation_0-auc:0.92982\n",
      "[1600]\tvalidation_0-auc:0.92988\n",
      "[1650]\tvalidation_0-auc:0.92994\n",
      "[1700]\tvalidation_0-auc:0.92985\n",
      "[1735]\tvalidation_0-auc:0.92983\n"
     ]
    }
   ],
   "source": [
    "clf = XGBClassifier(\n",
    "    objective='binary:logistic',\n",
    "    eval_metric='auc',\n",
    "    n_estimators=3000,\n",
    "    tree_method='gpu_hist',\n",
    "    random_state=3,\n",
    "    subsample=0.8,\n",
    "    max_depth=8,\n",
    "    colsample_bytree=0.6,\n",
    "    learning_rate=0.02\n",
    ")\n",
    "\n",
    "results = clf.fit(X_train, y_train, eval_set=[(X_cv, y_cv)], verbose=50, early_stopping_rounds=100)"
   ]
  },
  {
   "cell_type": "code",
   "execution_count": 13,
   "id": "QAbDPqes3VD5",
   "metadata": {
    "colab": {
     "base_uri": "https://localhost:8080/",
     "height": 1000
    },
    "executionInfo": {
     "elapsed": 1840,
     "status": "ok",
     "timestamp": 1623697719395,
     "user": {
      "displayName": "Priyank Mishra",
      "photoUrl": "",
      "userId": "18008032652400229851"
     },
     "user_tz": -330
    },
    "id": "QAbDPqes3VD5",
    "outputId": "ad705e86-09ee-4d28-a910-0061f80e398a"
   },
   "outputs": [
    {
     "data": {
      "image/png": "[encoded data removed]",
      "text/plain": [
       "<Figure size 1008x1440 with 1 Axes>"
      ]
     },
     "metadata": {
      "needs_background": "light"
     },
     "output_type": "display_data"
    }
   ],
   "source": [
    "plt.rcParams[\"figure.figsize\"] = (14, 20)\n",
    "xgb.plot_importance(clf,max_num_features=50, grid=False, height=0.4)\n",
    "plt.show()"
   ]
  },
  {
   "cell_type": "code",
   "execution_count": 14,
   "id": "4mezUJ9EJM4f",
   "metadata": {
    "executionInfo": {
     "elapsed": 17494,
     "status": "ok",
     "timestamp": 1623697736880,
     "user": {
      "displayName": "Priyank Mishra",
      "photoUrl": "",
      "userId": "18008032652400229851"
     },
     "user_tz": -330
    },
    "id": "4mezUJ9EJM4f"
   },
   "outputs": [],
   "source": [
    "train_proba = clf.predict_proba(X_train)[:,1]\n",
    "cv_proba = clf.predict_proba(X_cv)[:,1]"
   ]
  },
  {
   "cell_type": "code",
   "execution_count": 15,
   "id": "Mplli3b4JMu8",
   "metadata": {
    "executionInfo": {
     "elapsed": 27,
     "status": "ok",
     "timestamp": 1623697736881,
     "user": {
      "displayName": "Priyank Mishra",
      "photoUrl": "",
      "userId": "18008032652400229851"
     },
     "user_tz": -330
    },
    "id": "Mplli3b4JMu8"
   },
   "outputs": [],
   "source": [
    "train_fpr, train_tpr, train_threshold, train_roc_auc = tpr_fpr_threshold_auc(y_train, train_proba)\n",
    "cv_fpr, cv_tpr, cv_threshold, cv_roc_auc = tpr_fpr_threshold_auc(y_cv, cv_proba)"
   ]
  },
  {
   "cell_type": "code",
   "execution_count": 16,
   "id": "f5y00LOKJMsk",
   "metadata": {
    "colab": {
     "base_uri": "https://localhost:8080/",
     "height": 380
    },
    "executionInfo": {
     "elapsed": 26,
     "status": "ok",
     "timestamp": 1623697736882,
     "user": {
      "displayName": "Priyank Mishra",
      "photoUrl": "",
      "userId": "18008032652400229851"
     },
     "user_tz": -330
    },
    "id": "f5y00LOKJMsk",
    "outputId": "aac0cb20-7489-4864-c291-dd914302ac99"
   },
   "outputs": [
    {
     "data": {
      "image/png": "[encoded data removed]",
      "text/plain": [
       "<Figure size 432x360 with 1 Axes>"
      ]
     },
     "metadata": {
      "needs_background": "light"
     },
     "output_type": "display_data"
    }
   ],
   "source": [
    "plt.rcParams[\"figure.figsize\"] = (6, 5)\n",
    "train_cv_auc(train_fpr, train_tpr, train_roc_auc, cv_fpr, cv_tpr, cv_roc_auc)"
   ]
  },
  {
   "cell_type": "code",
   "execution_count": 17,
   "id": "lxxj4TkFRrwd",
   "metadata": {
    "colab": {
     "base_uri": "https://localhost:8080/",
     "height": 380
    },
    "executionInfo": {
     "elapsed": 861,
     "status": "ok",
     "timestamp": 1623697737721,
     "user": {
      "displayName": "Priyank Mishra",
      "photoUrl": "",
      "userId": "18008032652400229851"
     },
     "user_tz": -330
    },
    "id": "lxxj4TkFRrwd",
    "outputId": "7fca6377-4a39-466c-b88e-693e684815fe"
   },
   "outputs": [
    {
     "data": {
      "image/png": "[encoded data removed]",
      "text/plain": [
       "<Figure size 432x360 with 2 Axes>"
      ]
     },
     "metadata": {
      "needs_background": "light"
     },
     "output_type": "display_data"
    }
   ],
   "source": [
    "best_thr = best_threshold(cv_threshold, cv_tpr, cv_fpr)\n",
    "cv_pred = class_label(best_thr, cv_proba)\n",
    "\n",
    "draw_confusion_matrix(y_cv, cv_pred)"
   ]
  },
  {
   "cell_type": "code",
   "execution_count": 18,
   "id": "LIR3qEzNx361",
   "metadata": {
    "executionInfo": {
     "elapsed": 13,
     "status": "ok",
     "timestamp": 1623697737723,
     "user": {
      "displayName": "Priyank Mishra",
      "photoUrl": "",
      "userId": "18008032652400229851"
     },
     "user_tz": -330
    },
    "id": "LIR3qEzNx361"
   },
   "outputs": [],
   "source": [
    "del X_train, y_train"
   ]
  },
  {
   "cell_type": "markdown",
   "id": "H1l93KbBcQ28",
   "metadata": {
    "id": "H1l93KbBcQ28"
   },
   "source": [
    "### Test Prediction\n",
    "<br>\n",
    "\n",
    "https://www.kaggle.com/cdeotte/xgb-fraud-with-magic-0-9600\n",
    "\n",
    "We will predict test.csv using GroupKFold with months as groups. The training data are 12, 13, 14, 15, 16, 17. Fold one in GroupKFold will train on months 13 thru 17 and predict month 12. Note that the only purpose of month 12 is to tell XGB when to early_stop we don't actual care about the backwards time predictions. The model trained on months 13 thru 17 will also predict test.csv which is forward in time.\n",
    "\n",
    "Note that we use local validation to determine features but GroupKFold to predict test.csv. Many other prediction schemes were tried but GroupKFold performed best.\n",
    "<br><br>"
   ]
  },
  {
   "cell_type": "code",
   "execution_count": 19,
   "id": "MDKXdz8Q7SKU",
   "metadata": {
    "executionInfo": {
     "elapsed": 582,
     "status": "ok",
     "timestamp": 1623697752719,
     "user": {
      "displayName": "Priyank Mishra",
      "photoUrl": "",
      "userId": "18008032652400229851"
     },
     "user_tz": -330
    },
    "id": "MDKXdz8Q7SKU"
   },
   "outputs": [],
   "source": [
    "X_train = train_data.drop('isFraud', axis=1)\n",
    "y_train = train_data['isFraud']\n",
    "\n",
    "X_test = test_data\n",
    "test_ids = test_data['TransactionID'].values\n",
    "\n",
    "cols = [f for f in X_train if f not in drop_cols]\n",
    "\n",
    "del train_data, test_data"
   ]
  },
  {
   "cell_type": "code",
   "execution_count": 20,
   "id": "U2GTQV5IwrCN",
   "metadata": {
    "colab": {
     "base_uri": "https://localhost:8080/"
    },
    "executionInfo": {
     "elapsed": 6,
     "status": "ok",
     "timestamp": 1623697753554,
     "user": {
      "displayName": "Priyank Mishra",
      "photoUrl": "",
      "userId": "18008032652400229851"
     },
     "user_tz": -330
    },
    "id": "U2GTQV5IwrCN",
    "outputId": "e00f0c3c-cc62-4182-be8f-3e9365f19219"
   },
   "outputs": [
    {
     "name": "stdout",
     "output_type": "stream",
     "text": [
      "*********************************************\n",
      "\n",
      " Train Data Shape : (590538, 312) \n",
      "\n",
      "\n",
      " Test Data Shape : (506691, 312) \n",
      "\n",
      "*********************************************\n"
     ]
    }
   ],
   "source": [
    "print(\"*\"*45)\n",
    "print(\"\\n Train Data Shape : {} \\n\".format(X_train.shape))\n",
    "print(\"\\n Test Data Shape : {} \\n\".format(X_test.shape))\n",
    "print(\"*\"*45)"
   ]
  },
  {
   "cell_type": "code",
   "execution_count": 21,
   "id": "bBnM05cg7SH5",
   "metadata": {
    "colab": {
     "base_uri": "https://localhost:8080/"
    },
    "executionInfo": {
     "elapsed": 684457,
     "status": "ok",
     "timestamp": 1623698451316,
     "user": {
      "displayName": "Priyank Mishra",
      "photoUrl": "",
      "userId": "18008032652400229851"
     },
     "user_tz": -330
    },
    "id": "bBnM05cg7SH5",
    "outputId": "b808d4e7-bcc6-40d4-f356-9bdd2969bf5c",
    "scrolled": true
   },
   "outputs": [
    {
     "name": "stdout",
     "output_type": "stream",
     "text": [
      "Fold 0 withholding month 12\n",
      " rows of train = 453217 rows of holdout = 137321\n",
      "[0]\tvalidation_0-auc:0.76638\n",
      "[100]\tvalidation_0-auc:0.85306\n",
      "[200]\tvalidation_0-auc:0.87746\n",
      "[300]\tvalidation_0-auc:0.89404\n",
      "[400]\tvalidation_0-auc:0.90220\n",
      "[500]\tvalidation_0-auc:0.90611\n",
      "[600]\tvalidation_0-auc:0.90810\n",
      "[700]\tvalidation_0-auc:0.90990\n",
      "[800]\tvalidation_0-auc:0.91063\n",
      "[900]\tvalidation_0-auc:0.91134\n",
      "[1000]\tvalidation_0-auc:0.91171\n",
      "[1100]\tvalidation_0-auc:0.91230\n",
      "[1200]\tvalidation_0-auc:0.91250\n",
      "[1300]\tvalidation_0-auc:0.91240\n",
      "[1400]\tvalidation_0-auc:0.91191\n",
      "[1414]\tvalidation_0-auc:0.91184\n",
      "Fold 1 withholding month 15\n",
      " rows of train = 488906 rows of holdout = 101632\n",
      "[0]\tvalidation_0-auc:0.78796\n",
      "[100]\tvalidation_0-auc:0.87774\n",
      "[200]\tvalidation_0-auc:0.90482\n",
      "[300]\tvalidation_0-auc:0.92256\n",
      "[400]\tvalidation_0-auc:0.93093\n",
      "[500]\tvalidation_0-auc:0.93517\n",
      "[600]\tvalidation_0-auc:0.93738\n",
      "[700]\tvalidation_0-auc:0.93917\n",
      "[800]\tvalidation_0-auc:0.94044\n",
      "[900]\tvalidation_0-auc:0.94119\n",
      "[1000]\tvalidation_0-auc:0.94200\n",
      "[1100]\tvalidation_0-auc:0.94245\n",
      "[1200]\tvalidation_0-auc:0.94278\n",
      "[1300]\tvalidation_0-auc:0.94265\n",
      "[1400]\tvalidation_0-auc:0.94261\n",
      "[1425]\tvalidation_0-auc:0.94255\n",
      "Fold 2 withholding month 13\n",
      " rows of train = 497953 rows of holdout = 92585\n",
      "[0]\tvalidation_0-auc:0.78416\n",
      "[100]\tvalidation_0-auc:0.88264\n",
      "[200]\tvalidation_0-auc:0.90386\n",
      "[300]\tvalidation_0-auc:0.92031\n",
      "[400]\tvalidation_0-auc:0.92725\n",
      "[500]\tvalidation_0-auc:0.93147\n",
      "[600]\tvalidation_0-auc:0.93431\n",
      "[700]\tvalidation_0-auc:0.93622\n",
      "[800]\tvalidation_0-auc:0.93754\n",
      "[900]\tvalidation_0-auc:0.93906\n",
      "[1000]\tvalidation_0-auc:0.93952\n",
      "[1100]\tvalidation_0-auc:0.94058\n",
      "[1200]\tvalidation_0-auc:0.94075\n",
      "[1300]\tvalidation_0-auc:0.94111\n",
      "[1400]\tvalidation_0-auc:0.94120\n",
      "[1500]\tvalidation_0-auc:0.94157\n",
      "[1600]\tvalidation_0-auc:0.94146\n",
      "[1700]\tvalidation_0-auc:0.94156\n",
      "[1800]\tvalidation_0-auc:0.94173\n",
      "[1900]\tvalidation_0-auc:0.94168\n",
      "[2000]\tvalidation_0-auc:0.94161\n",
      "[2100]\tvalidation_0-auc:0.94166\n",
      "[2142]\tvalidation_0-auc:0.94169\n",
      "Fold 3 withholding month 17\n",
      " rows of train = 501212 rows of holdout = 89326\n",
      "[0]\tvalidation_0-auc:0.78487\n",
      "[100]\tvalidation_0-auc:0.87116\n",
      "[200]\tvalidation_0-auc:0.89775\n",
      "[300]\tvalidation_0-auc:0.91613\n",
      "[400]\tvalidation_0-auc:0.92395\n",
      "[500]\tvalidation_0-auc:0.92791\n",
      "[600]\tvalidation_0-auc:0.93052\n",
      "[700]\tvalidation_0-auc:0.93232\n",
      "[800]\tvalidation_0-auc:0.93387\n",
      "[900]\tvalidation_0-auc:0.93520\n",
      "[1000]\tvalidation_0-auc:0.93584\n",
      "[1100]\tvalidation_0-auc:0.93623\n",
      "[1200]\tvalidation_0-auc:0.93666\n",
      "[1300]\tvalidation_0-auc:0.93673\n",
      "[1400]\tvalidation_0-auc:0.93698\n",
      "[1500]\tvalidation_0-auc:0.93711\n",
      "[1600]\tvalidation_0-auc:0.93707\n",
      "[1700]\tvalidation_0-auc:0.93697\n",
      "[1715]\tvalidation_0-auc:0.93689\n",
      "Fold 4 withholding month 14\n",
      " rows of train = 504519 rows of holdout = 86019\n",
      "[0]\tvalidation_0-auc:0.82152\n",
      "[100]\tvalidation_0-auc:0.89694\n",
      "[200]\tvalidation_0-auc:0.92068\n",
      "[300]\tvalidation_0-auc:0.93503\n",
      "[400]\tvalidation_0-auc:0.93992\n",
      "[500]\tvalidation_0-auc:0.94222\n",
      "[600]\tvalidation_0-auc:0.94376\n",
      "[700]\tvalidation_0-auc:0.94454\n",
      "[800]\tvalidation_0-auc:0.94503\n",
      "[900]\tvalidation_0-auc:0.94522\n",
      "[1000]\tvalidation_0-auc:0.94510\n",
      "[1100]\tvalidation_0-auc:0.94520\n",
      "[1146]\tvalidation_0-auc:0.94516\n",
      "Fold 5 withholding month 16\n",
      " rows of train = 506883 rows of holdout = 83655\n",
      "[0]\tvalidation_0-auc:0.77788\n",
      "[100]\tvalidation_0-auc:0.87341\n",
      "[200]\tvalidation_0-auc:0.90398\n",
      "[300]\tvalidation_0-auc:0.92509\n",
      "[400]\tvalidation_0-auc:0.93447\n",
      "[500]\tvalidation_0-auc:0.94006\n",
      "[600]\tvalidation_0-auc:0.94320\n",
      "[700]\tvalidation_0-auc:0.94566\n",
      "[800]\tvalidation_0-auc:0.94742\n",
      "[900]\tvalidation_0-auc:0.94876\n",
      "[1000]\tvalidation_0-auc:0.94975\n",
      "[1100]\tvalidation_0-auc:0.95054\n",
      "[1200]\tvalidation_0-auc:0.95103\n",
      "[1300]\tvalidation_0-auc:0.95134\n",
      "[1400]\tvalidation_0-auc:0.95150\n",
      "[1500]\tvalidation_0-auc:0.95165\n",
      "[1600]\tvalidation_0-auc:0.95166\n",
      "[1700]\tvalidation_0-auc:0.95174\n",
      "[1800]\tvalidation_0-auc:0.95164\n",
      "[1866]\tvalidation_0-auc:0.95178\n"
     ]
    }
   ],
   "source": [
    "# https://www.kaggle.com/cdeotte/xgb-fraud-with-magic-0-9600\n",
    "\n",
    "test_proba = np.zeros(len(X_test))\n",
    "\n",
    "skf = GroupKFold(n_splits=6)\n",
    "\n",
    "for i, (idxT, idxV) in enumerate( skf.split(X_train, y_train, groups=X_train['DT_M']) ):\n",
    "    month = X_train.iloc[idxV]['DT_M'].iloc[0] \n",
    "    print('Fold',i,'withholding month',month)\n",
    "    print(' rows of train =',len(idxT),'rows of holdout =',len(idxV))\n",
    "  \n",
    "    clf = XGBClassifier(\n",
    "        objective='binary:logistic',\n",
    "        eval_metric='auc',\n",
    "        n_estimators=3000,\n",
    "        tree_method='gpu_hist',\n",
    "        random_state=3,\n",
    "        subsample=0.8,\n",
    "        max_depth=8,\n",
    "        colsample_bytree=0.6,\n",
    "        learning_rate=0.02\n",
    "    )      \n",
    "\n",
    "    h = clf.fit(X_train[cols].iloc[idxT], y_train.iloc[idxT], \n",
    "            eval_set=[(X_train[cols].iloc[idxV],y_train.iloc[idxV])],\n",
    "            verbose=100, early_stopping_rounds=200)\n",
    "\n",
    "    test_proba += clf.predict_proba(X_test[cols])[:,1]/skf.n_splits"
   ]
  },
  {
   "cell_type": "code",
   "execution_count": 22,
   "id": "zTT-cSuB7SFQ",
   "metadata": {
    "executionInfo": {
     "elapsed": 845,
     "status": "ok",
     "timestamp": 1623698452143,
     "user": {
      "displayName": "Priyank Mishra",
      "photoUrl": "",
      "userId": "18008032652400229851"
     },
     "user_tz": -330
    },
    "id": "zTT-cSuB7SFQ"
   },
   "outputs": [],
   "source": [
    "predict_and_save(test_proba, 'final_submission.csv')"
   ]
  },
  {
   "cell_type": "markdown",
   "id": "59C-C0TRgLxY",
   "metadata": {
    "id": "59C-C0TRgLxY"
   },
   "source": [
    "> __Kaggle Submission__"
   ]
  },
  {
   "cell_type": "markdown",
   "id": "SFGpRkrfgOXT",
   "metadata": {
    "id": "SFGpRkrfgOXT"
   },
   "source": [
    "<img src=https://i.ibb.co/4Vrw2BG/Screenshot-from-2021-06-18-18-41-38.png>"
   ]
  }
 ],
 "metadata": {
  "accelerator": "GPU",
  "colab": {
   "collapsed_sections": [],
   "machine_shape": "hm",
   "name": "10.Final Modeling.ipynb",
   "provenance": []
  },
  "kernelspec": {
   "display_name": "Python 3",
   "language": "python",
   "name": "python3"
  },
  "language_info": {
   "codemirror_mode": {
    "name": "ipython",
    "version": 3
   },
   "file_extension": ".py",
   "mimetype": "text/x-python",
   "name": "python",
   "nbconvert_exporter": "python",
   "pygments_lexer": "ipython3",
   "version": "3.9.1"
  }
 },
 "nbformat": 4,
 "nbformat_minor": 5
}
