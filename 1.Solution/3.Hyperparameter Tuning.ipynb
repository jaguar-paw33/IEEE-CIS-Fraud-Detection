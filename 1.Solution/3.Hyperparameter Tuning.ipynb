{
 "cells": [
  {
   "cell_type": "code",
   "execution_count": 3,
   "id": "da6213d9",
   "metadata": {
    "executionInfo": {
     "elapsed": 533,
     "status": "ok",
     "timestamp": 1623515597371,
     "user": {
      "displayName": "Priyank Mishra",
      "photoUrl": "",
      "userId": "18008032652400229851"
     },
     "user_tz": -330
    },
    "id": "da6213d9"
   },
   "outputs": [],
   "source": [
    "import random\n",
    "import copy\n",
    "import pickle\n",
    "import numpy as np\n",
    "import pandas as pd\n",
    "import seaborn as sns\n",
    "import matplotlib.pyplot as plt\n",
    "%matplotlib inline\n",
    "import sklearn\n",
    "from sklearn import metrics\n",
    "import xgboost as xgb\n",
    "from xgboost import XGBClassifier\n",
    "from sklearn.model_selection import train_test_split\n",
    "from sklearn.preprocessing import LabelEncoder\n",
    "from sklearn.metrics import roc_auc_score\n",
    "import warnings\n",
    "warnings.filterwarnings(\"ignore\")"
   ]
  },
  {
   "cell_type": "code",
   "execution_count": 4,
   "id": "8bbc073b",
   "metadata": {
    "executionInfo": {
     "elapsed": 37926,
     "status": "ok",
     "timestamp": 1623515635292,
     "user": {
      "displayName": "Priyank Mishra",
      "photoUrl": "",
      "userId": "18008032652400229851"
     },
     "user_tz": -330
    },
    "id": "8bbc073b"
   },
   "outputs": [],
   "source": [
    "# Loading the merged train and test dataset\n",
    "\n",
    "train_data = pd.read_pickle('merged_train.pkl')\n",
    "test_data = pd.read_pickle('merged_test.pkl')"
   ]
  },
  {
   "cell_type": "code",
   "execution_count": 5,
   "id": "0480f790",
   "metadata": {
    "colab": {
     "base_uri": "https://localhost:8080/"
    },
    "executionInfo": {
     "elapsed": 25,
     "status": "ok",
     "timestamp": 1623515635295,
     "user": {
      "displayName": "Priyank Mishra",
      "photoUrl": "",
      "userId": "18008032652400229851"
     },
     "user_tz": -330
    },
    "id": "0480f790",
    "outputId": "d21ddcd9-37a1-431f-daa7-9ac2bc5d5382"
   },
   "outputs": [
    {
     "name": "stdout",
     "output_type": "stream",
     "text": [
      "*********************************************\n",
      "\n",
      " Train Data Shape : (590540, 434) \n",
      "\n",
      "\n",
      " Test Data Shape : (506691, 433) \n",
      "\n",
      "*********************************************\n"
     ]
    }
   ],
   "source": [
    "print(\"*\"*45)\n",
    "print(\"\\n Train Data Shape : {} \\n\".format(train_data.shape))\n",
    "print(\"\\n Test Data Shape : {} \\n\".format(test_data.shape))\n",
    "print(\"*\"*45)"
   ]
  },
  {
   "cell_type": "markdown",
   "id": "eaTgbeu00_x2",
   "metadata": {
    "id": "eaTgbeu00_x2"
   },
   "source": [
    "## Utility Functions\n",
    "<br>"
   ]
  },
  {
   "cell_type": "code",
   "execution_count": 6,
   "id": "780a3e54",
   "metadata": {
    "executionInfo": {
     "elapsed": 20,
     "status": "ok",
     "timestamp": 1623515635297,
     "user": {
      "displayName": "Priyank Mishra",
      "photoUrl": "",
      "userId": "18008032652400229851"
     },
     "user_tz": -330
    },
    "id": "780a3e54"
   },
   "outputs": [],
   "source": [
    "def cat_num_features(df):\n",
    "    \n",
    "    '''\n",
    "        Utility Function to get the names of Categorical Features and \n",
    "        Numerical Features of the given Dataset.\n",
    "    '''\n",
    "    \n",
    "    catf = []\n",
    "    numf = []\n",
    "    \n",
    "    # Given Categorical Features \n",
    "    catf = ['ProductCD', 'card1', 'card2', 'card3', 'card4', 'card5', \\\n",
    "            'card6', 'addr1', 'addr2', 'P_emaildomain', 'R_emaildomain', 'M1', 'M2', \\\n",
    "            'M3', 'M4', 'M5', 'M6', 'M7', 'M8', 'M9', \\\n",
    "            'DeviceType', 'DeviceInfo']\n",
    "    catf+=['id_'+str(i) for i in range(12,39)]\n",
    "\n",
    "\n",
    "    # Updating the Categorical Feature Names List based on the columns present in the dataframe\n",
    "    catf = [feature for feature in catf if feature in df.columns.values]\n",
    "    numf = [feature for feature in df.columns if feature not in catf and not feature == 'isFraud']\n",
    "    \n",
    "    return (catf, numf)  "
   ]
  },
  {
   "cell_type": "code",
   "execution_count": 7,
   "id": "dc6e1c9b",
   "metadata": {
    "executionInfo": {
     "elapsed": 2154,
     "status": "ok",
     "timestamp": 1623515637434,
     "user": {
      "displayName": "Priyank Mishra",
      "photoUrl": "",
      "userId": "18008032652400229851"
     },
     "user_tz": -330
    },
    "id": "dc6e1c9b"
   },
   "outputs": [],
   "source": [
    "def label_encode(X_train, X_test, catf):\n",
    "  \n",
    "  '''\n",
    "    Utility Function to Encode Categorical Features.\n",
    "  '''\n",
    "\n",
    "  for f in catf:\n",
    "    \n",
    "    X_train[f] = X_train[f].astype(str)\n",
    "    X_test[f] = X_test[f].astype(str)\n",
    "    \n",
    "    le = LabelEncoder()\n",
    "    le.fit(X_train[f])\n",
    "    mapping = dict(zip(le.classes_, le.transform(le.classes_)))\n",
    "    X_train[f] = le.transform(X_train[f])\n",
    "    \n",
    "    # Manually Encoding the CV and Test Dataset so as to avoid error for any category which is not present in train set\n",
    "    \n",
    "    # All the categories which are not present in train datset are encoded as -1    \n",
    "    X_test[f] = [-1 if mapping.get(v, -1)==-1 else mapping[v] for v in X_test[f].values ]\n",
    "\n",
    "  return (X_train, X_test)"
   ]
  },
  {
   "cell_type": "code",
   "execution_count": 15,
   "id": "KsV2qK8dEo6E",
   "metadata": {
    "executionInfo": {
     "elapsed": 470,
     "status": "ok",
     "timestamp": 1623528023919,
     "user": {
      "displayName": "Priyank Mishra",
      "photoUrl": "",
      "userId": "18008032652400229851"
     },
     "user_tz": -330
    },
    "id": "KsV2qK8dEo6E"
   },
   "outputs": [],
   "source": [
    "def hyperparam_vs_auc(train_roc_auc, cv_roc_auc):\n",
    "    \n",
    "    '''\n",
    "        Utility Function to plot the Training and Cross Validation ROC-AUC Values\n",
    "        for different Hyperparameter.\n",
    "    '''\n",
    "    \n",
    "    plt.plot(range(len(train_roc_auc)), train_roc_auc, label='Train AUC')\n",
    "    plt.plot(range(len(cv_roc_auc)), cv_roc_auc, label='CV AUC')\n",
    "\n",
    "    plt.scatter(range(len(train_roc_auc)), train_roc_auc, label='Train AUC points')\n",
    "    plt.scatter(range(len(cv_roc_auc)), cv_roc_auc, label='CV AUC points')\n",
    "    \n",
    "    plt.xticks(range(len(train_roc_auc)))\n",
    "    plt.legend()\n",
    "    plt.xlabel(\"Hyperparameter Index\")\n",
    "    plt.ylabel(\"AUC\")\n",
    "    plt.title(\"\\n Hyperparameter vs ROC-AUC \\n\")\n",
    "    plt.grid()\n",
    "    plt.show()"
   ]
  },
  {
   "cell_type": "markdown",
   "id": "9dd59e19",
   "metadata": {
    "id": "9dd59e19"
   },
   "source": [
    "## Data Preparation\n",
    "<br>"
   ]
  },
  {
   "cell_type": "markdown",
   "id": "rQTzZJCOXX6R",
   "metadata": {
    "id": "rQTzZJCOXX6R"
   },
   "source": [
    "### Splitting the Dataset\n",
    "<br>"
   ]
  },
  {
   "cell_type": "code",
   "execution_count": 8,
   "id": "e75daf6b",
   "metadata": {
    "executionInfo": {
     "elapsed": 1888,
     "status": "ok",
     "timestamp": 1623515639834,
     "user": {
      "displayName": "Priyank Mishra",
      "photoUrl": "",
      "userId": "18008032652400229851"
     },
     "user_tz": -330
    },
    "id": "e75daf6b"
   },
   "outputs": [],
   "source": [
    "X_train = train_data.drop(['isFraud', 'TransactionID'], axis=1)\n",
    "y_train = train_data['isFraud']\n",
    "\n",
    "X_test = test_data.drop(['TransactionID'], axis=1)\n",
    "\n",
    "del train_data, test_data"
   ]
  },
  {
   "cell_type": "code",
   "execution_count": 9,
   "id": "08ddc3d8",
   "metadata": {
    "colab": {
     "base_uri": "https://localhost:8080/"
    },
    "executionInfo": {
     "elapsed": 5,
     "status": "ok",
     "timestamp": 1623515639835,
     "user": {
      "displayName": "Priyank Mishra",
      "photoUrl": "",
      "userId": "18008032652400229851"
     },
     "user_tz": -330
    },
    "id": "08ddc3d8",
    "outputId": "11e4b68e-33d5-4c2f-f513-bbd456bf753d"
   },
   "outputs": [
    {
     "name": "stdout",
     "output_type": "stream",
     "text": [
      "*********************************************\n",
      "\n",
      " Train Data Shape : (590540, 432) \n",
      "\n",
      "\n",
      " Test Data Shape : (506691, 432) \n",
      "\n",
      "*********************************************\n"
     ]
    }
   ],
   "source": [
    "print(\"*\"*45)\n",
    "print(\"\\n Train Data Shape : {} \\n\".format(X_train.shape))\n",
    "print(\"\\n Test Data Shape : {} \\n\".format(X_test.shape))\n",
    "print(\"*\"*45)"
   ]
  },
  {
   "cell_type": "code",
   "execution_count": 10,
   "id": "712e6afc",
   "metadata": {
    "executionInfo": {
     "elapsed": 4,
     "status": "ok",
     "timestamp": 1623515639835,
     "user": {
      "displayName": "Priyank Mishra",
      "photoUrl": "",
      "userId": "18008032652400229851"
     },
     "user_tz": -330
    },
    "id": "712e6afc"
   },
   "outputs": [],
   "source": [
    "# Storing Categorical and Numerical Feature Names \n",
    "\n",
    "catf, numf = cat_num_features(X_train)"
   ]
  },
  {
   "cell_type": "markdown",
   "id": "a50561e7",
   "metadata": {
    "id": "a50561e7"
   },
   "source": [
    "#### Label Encoding Categorical Features\n",
    "<br>"
   ]
  },
  {
   "cell_type": "code",
   "execution_count": 11,
   "id": "3432d35f",
   "metadata": {
    "executionInfo": {
     "elapsed": 58472,
     "status": "ok",
     "timestamp": 1623515698304,
     "user": {
      "displayName": "Priyank Mishra",
      "photoUrl": "",
      "userId": "18008032652400229851"
     },
     "user_tz": -330
    },
    "id": "3432d35f"
   },
   "outputs": [],
   "source": [
    "# Imputing the missing values of Categorical Columns with \"missing\"\n",
    "\n",
    "X_train[catf] = X_train[catf].fillna('missing')\n",
    "X_test[catf] = X_test[catf].fillna('missing')\n",
    "\n",
    "\n",
    "# Label Encoding Categorical Features\n",
    "\n",
    "X_train, X_test = label_encode(X_train, X_test, catf)"
   ]
  },
  {
   "cell_type": "markdown",
   "id": "1a02f819",
   "metadata": {
    "id": "1a02f819"
   },
   "source": [
    "<br>\n",
    "\n",
    "## Hyperparameter Tuning\n",
    "\n",
    "<br>"
   ]
  },
  {
   "cell_type": "code",
   "execution_count": 12,
   "id": "4r8L_pBM2Nim",
   "metadata": {
    "executionInfo": {
     "elapsed": 33,
     "status": "ok",
     "timestamp": 1623515698306,
     "user": {
      "displayName": "Priyank Mishra",
      "photoUrl": "",
      "userId": "18008032652400229851"
     },
     "user_tz": -330
    },
    "id": "4r8L_pBM2Nim"
   },
   "outputs": [],
   "source": [
    "# Hyperparameters\n",
    "\n",
    "learning_rate = [2e-2, 3e-1, 1e-1]\n",
    "max_depth = [8, 12, 16]\n",
    "subsample = [0.6,0.8,1]\n",
    "colsample_bytree = [0.6,0.8,1]"
   ]
  },
  {
   "cell_type": "code",
   "execution_count": 13,
   "id": "QAbDPqes3VD5",
   "metadata": {
    "colab": {
     "base_uri": "https://localhost:8080/"
    },
    "executionInfo": {
     "elapsed": 12322754,
     "status": "ok",
     "timestamp": 1623528021042,
     "user": {
      "displayName": "Priyank Mishra",
      "photoUrl": "",
      "userId": "18008032652400229851"
     },
     "user_tz": -330
    },
    "id": "QAbDPqes3VD5",
    "outputId": "6cffcd0e-1add-4bd8-a1a9-eaa6b2a5b3dd"
   },
   "outputs": [
    {
     "name": "stdout",
     "output_type": "stream",
     "text": [
      "[0]\ttrain-auc:0.81008+0.00278263\ttest-auc:0.795041+0.00521012\n",
      "[100]\ttrain-auc:0.891054+0.00261622\ttest-auc:0.866463+0.00782797\n",
      "[200]\ttrain-auc:0.924141+0.00113369\ttest-auc:0.885427+0.00718767\n",
      "[300]\ttrain-auc:0.945226+0.000177355\ttest-auc:0.896236+0.00711035\n",
      "[400]\ttrain-auc:0.956586+0.000209191\ttest-auc:0.903733+0.00661229\n",
      "[500]\ttrain-auc:0.963377+0.000587974\ttest-auc:0.907885+0.00622295\n",
      "[600]\ttrain-auc:0.968532+0.000665053\ttest-auc:0.910266+0.00635438\n",
      "[700]\ttrain-auc:0.972732+0.000674151\ttest-auc:0.91177+0.00623318\n",
      "[800]\ttrain-auc:0.976085+0.000717801\ttest-auc:0.912756+0.00638385\n",
      "[900]\ttrain-auc:0.979038+0.000739271\ttest-auc:0.913356+0.00644674\n",
      "[1000]\ttrain-auc:0.981554+0.000615811\ttest-auc:0.913694+0.00617126\n",
      "[1100]\ttrain-auc:0.983719+0.000708424\ttest-auc:0.914157+0.00632882\n",
      "[1200]\ttrain-auc:0.985574+0.000600783\ttest-auc:0.914517+0.00650925\n",
      "[0]\ttrain-auc:0.820871+0.0104295\ttest-auc:0.804801+0.0171881\n",
      "[100]\ttrain-auc:0.890757+0.00377407\ttest-auc:0.865395+0.00673999\n",
      "[200]\ttrain-auc:0.925882+0.000935152\ttest-auc:0.885314+0.00698239\n",
      "[300]\ttrain-auc:0.947316+0.00036997\ttest-auc:0.897339+0.00745483\n",
      "[400]\ttrain-auc:0.957968+0.000383364\ttest-auc:0.904004+0.00686316\n",
      "[500]\ttrain-auc:0.964555+0.000832551\ttest-auc:0.907294+0.00730812\n",
      "[600]\ttrain-auc:0.969552+0.000775754\ttest-auc:0.909395+0.00768832\n",
      "[700]\ttrain-auc:0.973886+0.000740974\ttest-auc:0.910742+0.00743759\n",
      "[800]\ttrain-auc:0.9774+0.000707699\ttest-auc:0.911598+0.00778349\n",
      "[900]\ttrain-auc:0.980418+0.000757788\ttest-auc:0.912307+0.00786827\n",
      "[1000]\ttrain-auc:0.982911+0.000650901\ttest-auc:0.912709+0.00790935\n",
      "[1100]\ttrain-auc:0.985047+0.000654954\ttest-auc:0.912814+0.00815047\n",
      "[0]\ttrain-auc:0.831422+0.0125839\ttest-auc:0.810583+0.0154657\n",
      "[100]\ttrain-auc:0.890272+0.00384131\ttest-auc:0.864861+0.00693506\n",
      "[200]\ttrain-auc:0.926984+0.000903004\ttest-auc:0.885092+0.0071962\n",
      "[300]\ttrain-auc:0.948816+0.000242565\ttest-auc:0.897378+0.00713762\n",
      "[400]\ttrain-auc:0.959239+0.000505569\ttest-auc:0.903786+0.00709447\n",
      "[500]\ttrain-auc:0.965643+0.000896389\ttest-auc:0.907374+0.00700621\n",
      "[600]\ttrain-auc:0.970721+0.000640675\ttest-auc:0.909983+0.00675746\n",
      "[700]\ttrain-auc:0.97491+0.000659097\ttest-auc:0.911099+0.00665587\n",
      "[800]\ttrain-auc:0.978446+0.000691896\ttest-auc:0.912372+0.0068579\n",
      "[900]\ttrain-auc:0.981398+0.000740106\ttest-auc:0.913219+0.00683381\n",
      "[1000]\ttrain-auc:0.983893+0.000626321\ttest-auc:0.913625+0.00693112\n",
      "[1100]\ttrain-auc:0.985854+0.000667944\ttest-auc:0.913672+0.00726947\n",
      "[1200]\ttrain-auc:0.987681+0.000587078\ttest-auc:0.913965+0.00741611\n",
      "[0]\ttrain-auc:0.827591+0.0153947\ttest-auc:0.812615+0.0125378\n",
      "[100]\ttrain-auc:0.890016+0.00237262\ttest-auc:0.866553+0.00693621\n",
      "[200]\ttrain-auc:0.925113+0.00113963\ttest-auc:0.885522+0.00736671\n",
      "[300]\ttrain-auc:0.947754+0.000355669\ttest-auc:0.8967+0.00816207\n",
      "[400]\ttrain-auc:0.958367+0.000297113\ttest-auc:0.903774+0.00740437\n",
      "[500]\ttrain-auc:0.964627+0.000597096\ttest-auc:0.907519+0.00708438\n",
      "[600]\ttrain-auc:0.969478+0.000639013\ttest-auc:0.910051+0.00680414\n",
      "[700]\ttrain-auc:0.973438+0.000699291\ttest-auc:0.911422+0.00641212\n",
      "[800]\ttrain-auc:0.976817+0.000575114\ttest-auc:0.912564+0.00635085\n",
      "[900]\ttrain-auc:0.979623+0.000538378\ttest-auc:0.913548+0.00631879\n",
      "[1000]\ttrain-auc:0.981874+0.000547593\ttest-auc:0.913826+0.00599094\n",
      "[1100]\ttrain-auc:0.983862+0.000506182\ttest-auc:0.914262+0.00581327\n",
      "[1200]\ttrain-auc:0.985601+0.000564921\ttest-auc:0.914423+0.0059559\n",
      "[1300]\ttrain-auc:0.987194+0.000504973\ttest-auc:0.914338+0.00608472\n",
      "[0]\ttrain-auc:0.827797+0.0151883\ttest-auc:0.815642+0.0155407\n",
      "[100]\ttrain-auc:0.888803+0.00315572\ttest-auc:0.865153+0.00631573\n",
      "[200]\ttrain-auc:0.926791+0.0008958\ttest-auc:0.885628+0.00736838\n",
      "[300]\ttrain-auc:0.94974+0.000258102\ttest-auc:0.896442+0.00806281\n",
      "[400]\ttrain-auc:0.959761+0.000569009\ttest-auc:0.90351+0.00744023\n",
      "[500]\ttrain-auc:0.966057+0.000726303\ttest-auc:0.907357+0.00744271\n",
      "[600]\ttrain-auc:0.970908+0.000809499\ttest-auc:0.910139+0.00740142\n",
      "[700]\ttrain-auc:0.97484+0.000622271\ttest-auc:0.911493+0.00720948\n",
      "[800]\ttrain-auc:0.97816+0.000690816\ttest-auc:0.912752+0.00677223\n",
      "[900]\ttrain-auc:0.980926+0.000722564\ttest-auc:0.91357+0.00697833\n",
      "[1000]\ttrain-auc:0.983278+0.000585808\ttest-auc:0.913944+0.00679755\n",
      "[1100]\ttrain-auc:0.985218+0.000550466\ttest-auc:0.914012+0.00677063\n",
      "[0]\ttrain-auc:0.821366+0.0151362\ttest-auc:0.809448+0.0172735\n",
      "[100]\ttrain-auc:0.888152+0.0045968\ttest-auc:0.863848+0.00599646\n",
      "[200]\ttrain-auc:0.927477+0.000890604\ttest-auc:0.885153+0.00744948\n",
      "[300]\ttrain-auc:0.950913+0.00025185\ttest-auc:0.897213+0.00779843\n",
      "[400]\ttrain-auc:0.960631+0.000494844\ttest-auc:0.903609+0.00774959\n",
      "[500]\ttrain-auc:0.96689+0.000651107\ttest-auc:0.907327+0.00748815\n",
      "[600]\ttrain-auc:0.971569+0.000757647\ttest-auc:0.909809+0.0071983\n",
      "[700]\ttrain-auc:0.975523+0.000728209\ttest-auc:0.911124+0.00725536\n",
      "[800]\ttrain-auc:0.978874+0.000667704\ttest-auc:0.912496+0.00704917\n",
      "[900]\ttrain-auc:0.981721+0.00077291\ttest-auc:0.913335+0.00700236\n",
      "[1000]\ttrain-auc:0.984086+0.000700143\ttest-auc:0.914059+0.00684252\n",
      "[1100]\ttrain-auc:0.985951+0.000609215\ttest-auc:0.914187+0.00678457\n",
      "[0]\ttrain-auc:0.819469+0.0137879\ttest-auc:0.807953+0.0128042\n",
      "[100]\ttrain-auc:0.891028+0.00378212\ttest-auc:0.866928+0.00654271\n",
      "[200]\ttrain-auc:0.926871+0.00150973\ttest-auc:0.886222+0.00710937\n",
      "[300]\ttrain-auc:0.949541+0.000586611\ttest-auc:0.896965+0.00731568\n",
      "[400]\ttrain-auc:0.958803+0.00024596\ttest-auc:0.903162+0.00654657\n",
      "[500]\ttrain-auc:0.963937+9.63477e-05\ttest-auc:0.906174+0.00623546\n",
      "[600]\ttrain-auc:0.967542+0.000412494\ttest-auc:0.908192+0.00588913\n",
      "[700]\ttrain-auc:0.970508+0.0008396\ttest-auc:0.909299+0.00560573\n",
      "[800]\ttrain-auc:0.973117+0.000960297\ttest-auc:0.910225+0.00543076\n",
      "[900]\ttrain-auc:0.97531+0.000862143\ttest-auc:0.910734+0.00533506\n",
      "[1000]\ttrain-auc:0.976943+0.000859769\ttest-auc:0.910934+0.00511373\n",
      "[1100]\ttrain-auc:0.978893+0.000934609\ttest-auc:0.911388+0.00476143\n",
      "[1200]\ttrain-auc:0.980714+0.000919627\ttest-auc:0.911747+0.00454172\n",
      "[0]\ttrain-auc:0.810893+0.00586121\ttest-auc:0.800969+0.00784047\n",
      "[100]\ttrain-auc:0.889866+0.00393712\ttest-auc:0.866065+0.00641699\n",
      "[200]\ttrain-auc:0.92817+0.00137927\ttest-auc:0.885787+0.00689216\n",
      "[300]\ttrain-auc:0.951518+0.00080403\ttest-auc:0.89746+0.00732483\n",
      "[400]\ttrain-auc:0.95919+0.000752399\ttest-auc:0.903138+0.00672491\n",
      "[500]\ttrain-auc:0.964099+0.000468605\ttest-auc:0.906098+0.006341\n",
      "[600]\ttrain-auc:0.967753+0.000613365\ttest-auc:0.907685+0.00606926\n",
      "[700]\ttrain-auc:0.970672+0.000865128\ttest-auc:0.908954+0.00606205\n",
      "[800]\ttrain-auc:0.973296+0.00100474\ttest-auc:0.909819+0.00599135\n",
      "[900]\ttrain-auc:0.975633+0.00097134\ttest-auc:0.910495+0.00600348\n",
      "[1000]\ttrain-auc:0.977781+0.000696403\ttest-auc:0.910722+0.00638947\n",
      "[1100]\ttrain-auc:0.979656+0.000797665\ttest-auc:0.911254+0.00616927\n",
      "[1200]\ttrain-auc:0.981132+0.000736332\ttest-auc:0.911294+0.00626956\n",
      "[1300]\ttrain-auc:0.982633+0.000655622\ttest-auc:0.911262+0.00622599\n",
      "[0]\ttrain-auc:0.811133+0.00578924\ttest-auc:0.799661+0.00670856\n",
      "[100]\ttrain-auc:0.88851+0.00356971\ttest-auc:0.864044+0.00577138\n",
      "[200]\ttrain-auc:0.928192+0.00120905\ttest-auc:0.88412+0.00666277\n",
      "[300]\ttrain-auc:0.952209+0.00114561\ttest-auc:0.896654+0.00694737\n",
      "[400]\ttrain-auc:0.959525+0.00030296\ttest-auc:0.902188+0.00681022\n",
      "[500]\ttrain-auc:0.964608+0.000237067\ttest-auc:0.905162+0.00663712\n",
      "[600]\ttrain-auc:0.968107+0.000403916\ttest-auc:0.907011+0.0060639\n",
      "[700]\ttrain-auc:0.97115+0.000747213\ttest-auc:0.90802+0.00584845\n",
      "[800]\ttrain-auc:0.973844+0.000973728\ttest-auc:0.90871+0.00573709\n",
      "[900]\ttrain-auc:0.976217+0.000922372\ttest-auc:0.909437+0.00531499\n",
      "[1000]\ttrain-auc:0.978119+0.00103281\ttest-auc:0.909545+0.00542653\n",
      "[1100]\ttrain-auc:0.979827+0.00115193\ttest-auc:0.909618+0.00551874\n",
      "[0]\ttrain-auc:0.852399+0.00180251\ttest-auc:0.828276+0.00739285\n",
      "[100]\ttrain-auc:0.922116+0.00314446\ttest-auc:0.881588+0.00695209\n",
      "[200]\ttrain-auc:0.96062+0.000577559\ttest-auc:0.899603+0.00870691\n",
      "[300]\ttrain-auc:0.981839+0.000457872\ttest-auc:0.910289+0.00917712\n",
      "[400]\ttrain-auc:0.98934+0.000380222\ttest-auc:0.914716+0.00854846\n",
      "[500]\ttrain-auc:0.992679+0.000280241\ttest-auc:0.915949+0.00846132\n",
      "[600]\ttrain-auc:0.994742+0.00019552\ttest-auc:0.915734+0.00880577\n",
      "[0]\ttrain-auc:0.856481+0.00138012\ttest-auc:0.833046+0.0130702\n",
      "[100]\ttrain-auc:0.92142+0.00460499\ttest-auc:0.88096+0.0059771\n",
      "[200]\ttrain-auc:0.962425+0.000443628\ttest-auc:0.899435+0.00856941\n",
      "[300]\ttrain-auc:0.983598+0.000301426\ttest-auc:0.911005+0.00922743\n",
      "[400]\ttrain-auc:0.990008+0.000380968\ttest-auc:0.915188+0.00831497\n",
      "[500]\ttrain-auc:0.993287+0.000261794\ttest-auc:0.916341+0.00817875\n",
      "[600]\ttrain-auc:0.995283+0.00021556\ttest-auc:0.916229+0.00825247\n",
      "[0]\ttrain-auc:0.855413+0.00152369\ttest-auc:0.831702+0.0113002\n",
      "[100]\ttrain-auc:0.919859+0.0055942\ttest-auc:0.87862+0.00563282\n",
      "[200]\ttrain-auc:0.964397+0.000656067\ttest-auc:0.899079+0.0096743\n",
      "[300]\ttrain-auc:0.984781+0.000393447\ttest-auc:0.909168+0.0104349\n",
      "[400]\ttrain-auc:0.990529+0.00039646\ttest-auc:0.913198+0.00974947\n",
      "[500]\ttrain-auc:0.993696+0.00024128\ttest-auc:0.914895+0.00916799\n",
      "[600]\ttrain-auc:0.995704+0.000175977\ttest-auc:0.914776+0.0093211\n",
      "[0]\ttrain-auc:0.853196+0.00706522\ttest-auc:0.827689+0.0104802\n",
      "[100]\ttrain-auc:0.923888+0.00352409\ttest-auc:0.882055+0.00672869\n",
      "[200]\ttrain-auc:0.963579+0.000676734\ttest-auc:0.900388+0.0088898\n",
      "[300]\ttrain-auc:0.985513+0.000468336\ttest-auc:0.910957+0.00983352\n",
      "[400]\ttrain-auc:0.991697+0.000457348\ttest-auc:0.915323+0.00876825\n",
      "[500]\ttrain-auc:0.994267+0.000366393\ttest-auc:0.91633+0.00826111\n",
      "[600]\ttrain-auc:0.995843+0.000275003\ttest-auc:0.916405+0.00805976\n",
      "[700]\ttrain-auc:0.997002+0.000253815\ttest-auc:0.915777+0.00800639\n",
      "[0]\ttrain-auc:0.860726+0.000362145\ttest-auc:0.839792+0.00563517\n",
      "[100]\ttrain-auc:0.922761+0.00403988\ttest-auc:0.881661+0.00600202\n",
      "[200]\ttrain-auc:0.965456+0.000942001\ttest-auc:0.900542+0.00998115\n",
      "[300]\ttrain-auc:0.986929+0.00045449\ttest-auc:0.91134+0.0111447\n",
      "[400]\ttrain-auc:0.992064+0.000269109\ttest-auc:0.91447+0.0104137\n",
      "[500]\ttrain-auc:0.994639+0.000281618\ttest-auc:0.915871+0.0100222\n",
      "[600]\ttrain-auc:0.996203+0.000236264\ttest-auc:0.915516+0.0096175\n",
      "[0]\ttrain-auc:0.859358+0.00225179\ttest-auc:0.836375+0.00768685\n",
      "[100]\ttrain-auc:0.920926+0.00444191\ttest-auc:0.879674+0.00620345\n",
      "[200]\ttrain-auc:0.967139+0.000486492\ttest-auc:0.900163+0.00972455\n",
      "[300]\ttrain-auc:0.987781+0.000310413\ttest-auc:0.910503+0.0112563\n",
      "[400]\ttrain-auc:0.992475+0.000160001\ttest-auc:0.913387+0.0106031\n",
      "[500]\ttrain-auc:0.994987+0.000210983\ttest-auc:0.914477+0.010205\n",
      "[600]\ttrain-auc:0.996527+0.00016756\ttest-auc:0.914096+0.0102135\n",
      "[0]\ttrain-auc:0.854301+0.00461784\ttest-auc:0.83047+0.00838045\n",
      "[100]\ttrain-auc:0.925066+0.00300124\ttest-auc:0.882417+0.00726991\n",
      "[200]\ttrain-auc:0.966092+0.00108555\ttest-auc:0.901569+0.00937063\n",
      "[300]\ttrain-auc:0.987725+0.000431898\ttest-auc:0.911014+0.0105099\n",
      "[400]\ttrain-auc:0.99269+0.000517857\ttest-auc:0.914262+0.0103427\n",
      "[500]\ttrain-auc:0.99431+0.000407399\ttest-auc:0.914611+0.00992245\n",
      "[0]\ttrain-auc:0.853664+0.00422443\ttest-auc:0.829814+0.00836498\n",
      "[100]\ttrain-auc:0.923225+0.0026916\ttest-auc:0.881044+0.00670057\n",
      "[200]\ttrain-auc:0.967706+0.00124043\ttest-auc:0.900492+0.00931186\n",
      "[300]\ttrain-auc:0.988472+0.000352531\ttest-auc:0.909488+0.0114677\n",
      "[400]\ttrain-auc:0.992643+0.000324722\ttest-auc:0.911945+0.0114269\n",
      "[500]\ttrain-auc:0.994253+0.000368471\ttest-auc:0.912345+0.0105687\n",
      "[0]\ttrain-auc:0.852942+0.00446691\ttest-auc:0.82782+0.00849024\n",
      "[100]\ttrain-auc:0.918016+0.00484252\ttest-auc:0.876379+0.00614861\n",
      "[200]\ttrain-auc:0.966592+0.00102768\ttest-auc:0.895153+0.0106189\n",
      "[300]\ttrain-auc:0.987903+0.00020015\ttest-auc:0.905969+0.0123118\n",
      "[400]\ttrain-auc:0.992274+0.000287955\ttest-auc:0.909287+0.0117582\n",
      "[500]\ttrain-auc:0.993886+0.000266448\ttest-auc:0.910086+0.0107595\n",
      "[0]\ttrain-auc:0.862727+0.00125273\ttest-auc:0.833849+0.009352\n",
      "[100]\ttrain-auc:0.944336+0.00238116\ttest-auc:0.888639+0.00780127\n",
      "[200]\ttrain-auc:0.979726+0.000300901\ttest-auc:0.903502+0.0107146\n",
      "[300]\ttrain-auc:0.994328+0.000289678\ttest-auc:0.911438+0.0118596\n",
      "[400]\ttrain-auc:0.99758+0.00026303\ttest-auc:0.914469+0.0111592\n",
      "[500]\ttrain-auc:0.998742+0.000155563\ttest-auc:0.914201+0.0106208\n",
      "[0]\ttrain-auc:0.867148+0.00109586\ttest-auc:0.833175+0.0137023\n",
      "[100]\ttrain-auc:0.943399+0.00331003\ttest-auc:0.887484+0.0077684\n",
      "[200]\ttrain-auc:0.981617+0.000213298\ttest-auc:0.903585+0.0107541\n",
      "[300]\ttrain-auc:0.995334+0.000235361\ttest-auc:0.912023+0.0118133\n",
      "[400]\ttrain-auc:0.997961+0.000217196\ttest-auc:0.913824+0.011121\n",
      "[0]\ttrain-auc:0.865111+0.000632368\ttest-auc:0.837008+0.00940564\n",
      "[100]\ttrain-auc:0.941439+0.00412801\ttest-auc:0.886627+0.00684082\n",
      "[200]\ttrain-auc:0.982905+0.000316548\ttest-auc:0.902322+0.0126748\n",
      "[300]\ttrain-auc:0.995927+0.00016843\ttest-auc:0.910434+0.0135057\n",
      "[400]\ttrain-auc:0.998202+0.000155333\ttest-auc:0.912359+0.0127272\n",
      "[500]\ttrain-auc:0.999114+9.1786e-05\ttest-auc:0.912068+0.0124381\n",
      "[0]\ttrain-auc:0.866189+0.00306678\ttest-auc:0.832954+0.00842167\n",
      "[100]\ttrain-auc:0.94756+0.00251624\ttest-auc:0.889921+0.00795909\n",
      "[200]\ttrain-auc:0.983736+0.000596651\ttest-auc:0.905504+0.0113847\n",
      "[300]\ttrain-auc:0.996549+0.000249835\ttest-auc:0.91254+0.0124735\n",
      "[400]\ttrain-auc:0.998688+0.000148558\ttest-auc:0.913792+0.0115298\n",
      "[0]\ttrain-auc:0.871458+0.0020899\ttest-auc:0.842363+0.00496651\n",
      "[100]\ttrain-auc:0.946124+0.00285899\ttest-auc:0.888898+0.00739249\n",
      "[200]\ttrain-auc:0.985413+0.000511801\ttest-auc:0.905159+0.0117088\n",
      "[300]\ttrain-auc:0.997255+0.00025888\ttest-auc:0.911088+0.0133398\n",
      "[400]\ttrain-auc:0.99885+0.000150697\ttest-auc:0.91213+0.012545\n",
      "[0]\ttrain-auc:0.870832+0.000397335\ttest-auc:0.840974+0.00532395\n",
      "[100]\ttrain-auc:0.943199+0.00461012\ttest-auc:0.886925+0.0063759\n",
      "[200]\ttrain-auc:0.986147+0.000333179\ttest-auc:0.902687+0.0130421\n",
      "[300]\ttrain-auc:0.997506+0.000255782\ttest-auc:0.909487+0.0145994\n",
      "[400]\ttrain-auc:0.998922+0.000177967\ttest-auc:0.910884+0.0138958\n",
      "[500]\ttrain-auc:0.999459+9.11129e-05\ttest-auc:0.911271+0.0130315\n",
      "[0]\ttrain-auc:0.870037+0.00441204\ttest-auc:0.836486+0.00994515\n",
      "[100]\ttrain-auc:0.949172+0.00276117\ttest-auc:0.891403+0.00859554\n",
      "[200]\ttrain-auc:0.98646+0.000685481\ttest-auc:0.906508+0.0130051\n",
      "[300]\ttrain-auc:0.997815+0.000309249\ttest-auc:0.911266+0.0145586\n",
      "[400]\ttrain-auc:0.999223+0.00017269\ttest-auc:0.911739+0.0133415\n",
      "[0]\ttrain-auc:0.868588+0.00247441\ttest-auc:0.837774+0.00706993\n",
      "[100]\ttrain-auc:0.947064+0.00280973\ttest-auc:0.889485+0.00660372\n",
      "[200]\ttrain-auc:0.987308+0.00076918\ttest-auc:0.905481+0.0124387\n",
      "[300]\ttrain-auc:0.997984+0.000380887\ttest-auc:0.910624+0.013913\n",
      "[400]\ttrain-auc:0.999084+0.000239074\ttest-auc:0.910611+0.0130317\n",
      "[0]\ttrain-auc:0.867173+0.000737906\ttest-auc:0.83593+0.00659877\n",
      "[100]\ttrain-auc:0.941881+0.00495443\ttest-auc:0.882738+0.00588176\n",
      "[200]\ttrain-auc:0.98656+0.000901632\ttest-auc:0.898298+0.0123223\n",
      "[300]\ttrain-auc:0.997838+0.000465197\ttest-auc:0.90555+0.0148006\n",
      "[400]\ttrain-auc:0.998954+0.000270541\ttest-auc:0.905878+0.0141406\n",
      "[0]\ttrain-auc:0.81008+0.00278263\ttest-auc:0.795041+0.00521012\n",
      "[100]\ttrain-auc:0.984918+0.000226346\ttest-auc:0.893016+0.0122238\n",
      "[0]\ttrain-auc:0.820871+0.0104295\ttest-auc:0.804801+0.0171881\n",
      "[100]\ttrain-auc:0.986677+0.000667688\ttest-auc:0.891958+0.0085572\n",
      "[0]\ttrain-auc:0.831422+0.0125839\ttest-auc:0.810583+0.0154657\n",
      "[100]\ttrain-auc:0.987062+0.000133022\ttest-auc:0.893176+0.00959896\n",
      "[0]\ttrain-auc:0.827591+0.0153947\ttest-auc:0.812615+0.0125378\n",
      "[100]\ttrain-auc:0.986852+0.00141992\ttest-auc:0.890648+0.00961009\n",
      "[0]\ttrain-auc:0.827797+0.0151883\ttest-auc:0.815642+0.0155407\n",
      "[100]\ttrain-auc:0.987488+0.000428483\ttest-auc:0.893116+0.00709541\n",
      "[0]\ttrain-auc:0.821366+0.0151362\ttest-auc:0.809448+0.0172735\n",
      "[100]\ttrain-auc:0.988777+0.000785056\ttest-auc:0.896102+0.00850065\n",
      "[0]\ttrain-auc:0.819469+0.0137879\ttest-auc:0.807953+0.0128042\n",
      "[100]\ttrain-auc:0.985622+0.000438302\ttest-auc:0.90005+0.003228\n",
      "[0]\ttrain-auc:0.810893+0.00586121\ttest-auc:0.800969+0.00784047\n",
      "[100]\ttrain-auc:0.986957+0.000198274\ttest-auc:0.897565+0.00564211\n",
      "[0]\ttrain-auc:0.811133+0.00578924\ttest-auc:0.799661+0.00670856\n",
      "[100]\ttrain-auc:0.986757+0.000890245\ttest-auc:0.896118+0.00629023\n",
      "[0]\ttrain-auc:0.852399+0.00180251\ttest-auc:0.828276+0.00739285\n",
      "[100]\ttrain-auc:0.99919+0.000131799\ttest-auc:0.887819+0.00819271\n",
      "[0]\ttrain-auc:0.856481+0.00138012\ttest-auc:0.833046+0.0130702\n",
      "[100]\ttrain-auc:0.999476+2.71784e-05\ttest-auc:0.889522+0.0117771\n",
      "[0]\ttrain-auc:0.855413+0.00152369\ttest-auc:0.831702+0.0113002\n",
      "[100]\ttrain-auc:0.999574+8.50582e-05\ttest-auc:0.887541+0.0110954\n",
      "[0]\ttrain-auc:0.853196+0.00706522\ttest-auc:0.827689+0.0104802\n",
      "[100]\ttrain-auc:0.999522+6.585e-05\ttest-auc:0.892495+0.00862163\n",
      "[0]\ttrain-auc:0.860726+0.000362145\ttest-auc:0.839792+0.00563517\n",
      "[100]\ttrain-auc:0.99966+9.46338e-05\ttest-auc:0.891657+0.0114955\n",
      "[0]\ttrain-auc:0.859358+0.00225179\ttest-auc:0.836375+0.00768685\n",
      "[100]\ttrain-auc:0.999758+3.68902e-05\ttest-auc:0.892602+0.0086132\n",
      "[0]\ttrain-auc:0.854301+0.00461784\ttest-auc:0.83047+0.00838045\n",
      "[100]\ttrain-auc:0.999044+0.000142726\ttest-auc:0.889144+0.0126775\n",
      "[0]\ttrain-auc:0.853664+0.00422443\ttest-auc:0.829814+0.00836498\n",
      "[100]\ttrain-auc:0.99942+5.71859e-05\ttest-auc:0.888879+0.0118621\n",
      "[0]\ttrain-auc:0.852942+0.00446691\ttest-auc:0.82782+0.00849024\n",
      "[100]\ttrain-auc:0.999376+0.000147425\ttest-auc:0.892445+0.0115477\n",
      "[0]\ttrain-auc:0.862727+0.00125273\ttest-auc:0.833849+0.009352\n",
      "[100]\ttrain-auc:0.999988+6.97615e-06\ttest-auc:0.88766+0.00860774\n",
      "[0]\ttrain-auc:0.867148+0.00109586\ttest-auc:0.833175+0.0137023\n",
      "[100]\ttrain-auc:0.999998+8.16497e-07\ttest-auc:0.887603+0.0122648\n",
      "[0]\ttrain-auc:0.865111+0.000632368\ttest-auc:0.837008+0.00940564\n",
      "[100]\ttrain-auc:0.999998+2.16025e-06\ttest-auc:0.891527+0.00890254\n",
      "[200]\ttrain-auc:1+0\ttest-auc:0.893553+0.00992802\n",
      "[300]\ttrain-auc:1+0\ttest-auc:0.894272+0.00996986\n",
      "[400]\ttrain-auc:1+0\ttest-auc:0.894894+0.0100473\n",
      "[0]\ttrain-auc:0.866189+0.00306678\ttest-auc:0.832954+0.00842167\n",
      "[100]\ttrain-auc:1+4.71405e-07\ttest-auc:0.895588+0.00840797\n",
      "[200]\ttrain-auc:1+0\ttest-auc:0.898274+0.00822882\n",
      "[300]\ttrain-auc:1+0\ttest-auc:0.89913+0.00793906\n",
      "[400]\ttrain-auc:1+0\ttest-auc:0.899825+0.00846924\n",
      "[0]\ttrain-auc:0.871458+0.0020899\ttest-auc:0.842363+0.00496651\n",
      "[100]\ttrain-auc:1+4.71405e-07\ttest-auc:0.895299+0.00951739\n",
      "[200]\ttrain-auc:1+0\ttest-auc:0.897247+0.00988839\n",
      "[0]\ttrain-auc:0.870832+0.000397335\ttest-auc:0.840974+0.00532395\n",
      "[100]\ttrain-auc:1+0\ttest-auc:0.895507+0.0104469\n",
      "[200]\ttrain-auc:1+0\ttest-auc:0.89774+0.00952353\n",
      "[300]\ttrain-auc:1+0\ttest-auc:0.898264+0.0100146\n",
      "[400]\ttrain-auc:1+0\ttest-auc:0.898889+0.00986579\n",
      "[500]\ttrain-auc:1+0\ttest-auc:0.899183+0.00962342\n",
      "[600]\ttrain-auc:1+0\ttest-auc:0.899078+0.00936542\n",
      "[0]\ttrain-auc:0.870037+0.00441204\ttest-auc:0.836486+0.00994515\n",
      "[100]\ttrain-auc:0.999969+2.3471e-05\ttest-auc:0.891621+0.0122126\n",
      "[0]\ttrain-auc:0.868589+0.0024753\ttest-auc:0.837736+0.00701779\n",
      "[100]\ttrain-auc:0.999981+6.68331e-06\ttest-auc:0.893424+0.0101909\n",
      "[200]\ttrain-auc:1+0\ttest-auc:0.897585+0.00963591\n",
      "[300]\ttrain-auc:1+0\ttest-auc:0.898886+0.00866214\n",
      "[0]\ttrain-auc:0.867173+0.000737906\ttest-auc:0.83593+0.00659877\n",
      "[100]\ttrain-auc:0.999994+9.42809e-07\ttest-auc:0.89349+0.00789198\n",
      "[200]\ttrain-auc:1+0\ttest-auc:0.897671+0.00756899\n",
      "[300]\ttrain-auc:1+0\ttest-auc:0.897988+0.00755948\n",
      "[400]\ttrain-auc:1+0\ttest-auc:0.898138+0.00814041\n",
      "[0]\ttrain-auc:0.81008+0.00278263\ttest-auc:0.795041+0.00521012\n",
      "[100]\ttrain-auc:0.961963+0.000404802\ttest-auc:0.902525+0.00952426\n",
      "[200]\ttrain-auc:0.979742+0.00119669\ttest-auc:0.907999+0.00816585\n",
      "[300]\ttrain-auc:0.988122+0.000980283\ttest-auc:0.908037+0.00796118\n",
      "[0]\ttrain-auc:0.820871+0.0104295\ttest-auc:0.804801+0.0171881\n",
      "[100]\ttrain-auc:0.963074+0.000377808\ttest-auc:0.902041+0.00914828\n",
      "[200]\ttrain-auc:0.981145+0.00063592\ttest-auc:0.906894+0.00824376\n",
      "[300]\ttrain-auc:0.98986+0.000509159\ttest-auc:0.906172+0.00853855\n",
      "[0]\ttrain-auc:0.831422+0.0125839\ttest-auc:0.810583+0.0154657\n",
      "[100]\ttrain-auc:0.96468+0.000553817\ttest-auc:0.902863+0.00776959\n",
      "[200]\ttrain-auc:0.982045+0.000799168\ttest-auc:0.907819+0.00809615\n",
      "[0]\ttrain-auc:0.827591+0.0153947\ttest-auc:0.812615+0.0125378\n",
      "[100]\ttrain-auc:0.964243+0.000816786\ttest-auc:0.903793+0.0070094\n",
      "[200]\ttrain-auc:0.980915+0.0012626\ttest-auc:0.9086+0.00665451\n",
      "[0]\ttrain-auc:0.827797+0.0151883\ttest-auc:0.815642+0.0155407\n",
      "[100]\ttrain-auc:0.96542+0.000273504\ttest-auc:0.904382+0.00821871\n",
      "[200]\ttrain-auc:0.981419+0.000902438\ttest-auc:0.909741+0.00764117\n",
      "[300]\ttrain-auc:0.989862+0.000587946\ttest-auc:0.909923+0.00760318\n",
      "[0]\ttrain-auc:0.821366+0.0151362\ttest-auc:0.809448+0.0172735\n",
      "[100]\ttrain-auc:0.966075+0.000398\ttest-auc:0.904155+0.00705168\n",
      "[200]\ttrain-auc:0.982795+0.00111093\ttest-auc:0.908553+0.00683819\n",
      "[0]\ttrain-auc:0.819469+0.0137879\ttest-auc:0.807953+0.0128042\n",
      "[100]\ttrain-auc:0.963668+0.000215036\ttest-auc:0.904531+0.00446181\n",
      "[200]\ttrain-auc:0.977712+0.00109494\ttest-auc:0.907981+0.00426104\n",
      "[0]\ttrain-auc:0.810893+0.00586121\ttest-auc:0.800969+0.00784047\n",
      "[100]\ttrain-auc:0.965518+0.000359052\ttest-auc:0.904435+0.00698136\n",
      "[200]\ttrain-auc:0.979715+0.000376213\ttest-auc:0.907922+0.00734393\n",
      "[0]\ttrain-auc:0.811133+0.00578924\ttest-auc:0.799661+0.00670856\n",
      "[100]\ttrain-auc:0.965991+0.000860696\ttest-auc:0.903656+0.00555483\n",
      "[200]\ttrain-auc:0.979987+0.000725369\ttest-auc:0.905783+0.00617137\n",
      "[300]\ttrain-auc:0.987472+0.000154255\ttest-auc:0.905496+0.0050684\n",
      "[0]\ttrain-auc:0.852399+0.00180251\ttest-auc:0.828276+0.00739285\n",
      "[100]\ttrain-auc:0.9917+0.000528095\ttest-auc:0.910701+0.0097626\n",
      "[200]\ttrain-auc:0.99797+0.000264581\ttest-auc:0.905739+0.01071\n",
      "[0]\ttrain-auc:0.856481+0.00138012\ttest-auc:0.833046+0.0130702\n",
      "[100]\ttrain-auc:0.99266+0.000480079\ttest-auc:0.90693+0.0115047\n",
      "[200]\ttrain-auc:0.998493+0.000242281\ttest-auc:0.903287+0.00936014\n",
      "[0]\ttrain-auc:0.855413+0.00152369\ttest-auc:0.831702+0.0113002\n",
      "[100]\ttrain-auc:0.99264+0.000248457\ttest-auc:0.90928+0.0106073\n",
      "[200]\ttrain-auc:0.998778+0.000137347\ttest-auc:0.905567+0.0101471\n",
      "[0]\ttrain-auc:0.853196+0.00706522\ttest-auc:0.827689+0.0104802\n",
      "[100]\ttrain-auc:0.993654+4.73075e-05\ttest-auc:0.908338+0.0101166\n",
      "[0]\ttrain-auc:0.860726+0.000362145\ttest-auc:0.839792+0.00563517\n",
      "[100]\ttrain-auc:0.994389+0.000141308\ttest-auc:0.909836+0.0105165\n",
      "[200]\ttrain-auc:0.998939+2.84371e-05\ttest-auc:0.908256+0.00822576\n",
      "[0]\ttrain-auc:0.859358+0.00225179\ttest-auc:0.836375+0.00768685\n",
      "[100]\ttrain-auc:0.994698+0.000109076\ttest-auc:0.908922+0.010045\n",
      "[200]\ttrain-auc:0.999075+0.00011957\ttest-auc:0.907066+0.00934759\n",
      "[0]\ttrain-auc:0.854301+0.00461784\ttest-auc:0.83047+0.00838045\n",
      "[100]\ttrain-auc:0.994317+0.000642578\ttest-auc:0.909903+0.0115964\n",
      "[0]\ttrain-auc:0.853664+0.00422443\ttest-auc:0.829814+0.00836498\n",
      "[100]\ttrain-auc:0.99442+0.00054565\ttest-auc:0.909271+0.0109801\n",
      "[200]\ttrain-auc:0.998045+0.000210365\ttest-auc:0.906249+0.00957331\n",
      "[0]\ttrain-auc:0.852942+0.00446691\ttest-auc:0.82782+0.00849024\n",
      "[100]\ttrain-auc:0.99418+0.000269477\ttest-auc:0.906364+0.0110764\n",
      "[0]\ttrain-auc:0.862727+0.00125273\ttest-auc:0.833849+0.009352\n",
      "[100]\ttrain-auc:0.998406+0.000169531\ttest-auc:0.907743+0.0104797\n",
      "[0]\ttrain-auc:0.867148+0.00109586\ttest-auc:0.833175+0.0137023\n",
      "[100]\ttrain-auc:0.99862+0.000184879\ttest-auc:0.907308+0.0110562\n",
      "[0]\ttrain-auc:0.865111+0.000632368\ttest-auc:0.837008+0.00940564\n",
      "[100]\ttrain-auc:0.998761+8.44551e-05\ttest-auc:0.905245+0.0134625\n",
      "[200]\ttrain-auc:0.999974+4.32049e-06\ttest-auc:0.903353+0.0119514\n",
      "[0]\ttrain-auc:0.866189+0.00306678\ttest-auc:0.832954+0.00842167\n",
      "[100]\ttrain-auc:0.99918+6.60656e-05\ttest-auc:0.905088+0.013556\n",
      "[0]\ttrain-auc:0.871458+0.0020899\ttest-auc:0.842363+0.00496651\n",
      "[100]\ttrain-auc:0.999278+5.63106e-05\ttest-auc:0.906484+0.0124633\n",
      "[0]\ttrain-auc:0.870832+0.000397335\ttest-auc:0.840974+0.00532395\n",
      "[100]\ttrain-auc:0.999352+6.98999e-05\ttest-auc:0.904675+0.0147355\n",
      "[0]\ttrain-auc:0.870037+0.00441204\ttest-auc:0.836486+0.00994515\n",
      "[100]\ttrain-auc:0.999313+7.72241e-05\ttest-auc:0.906611+0.0119712\n",
      "[0]\ttrain-auc:0.868589+0.0024753\ttest-auc:0.837736+0.00701779\n",
      "[100]\ttrain-auc:0.999394+0.000117091\ttest-auc:0.90509+0.013262\n",
      "[0]\ttrain-auc:0.867173+0.000737906\ttest-auc:0.83593+0.00659877\n",
      "[100]\ttrain-auc:0.999284+0.000114056\ttest-auc:0.901135+0.013069\n"
     ]
    }
   ],
   "source": [
    "results = {}\n",
    "\n",
    "dtrain = xgb.DMatrix(X_train, label=y_train)\n",
    "\n",
    "for rate in learning_rate:\n",
    "  for depth in max_depth:\n",
    "    for sample in subsample:\n",
    "      for colsample in colsample_bytree:\n",
    "\n",
    "        params = {\n",
    "          'objective' : 'binary:logistic',\n",
    "          'eval_metric' : 'auc',\n",
    "          'learning_rate' : rate,\n",
    "          'max_depth' : depth,\n",
    "          'subsample' : sample,\n",
    "          'colsample_bytree' : colsample,\n",
    "          'tree_method' : 'gpu_hist',\n",
    "          'random_state' : 3,\n",
    "        }\n",
    "\n",
    "        history = xgb.cv(\n",
    "            params,\n",
    "            dtrain,\n",
    "            num_boost_round = 3000,\n",
    "            nfold = 3,\n",
    "            metrics ='auc',\n",
    "            early_stopping_rounds = 100,\n",
    "            verbose_eval=100,\n",
    "            seed=3,\n",
    "            shuffle = False\n",
    "        )\n",
    "\n",
    "        name = \"learning_rate : \"+str(rate)+\" max_depth : \"+str(depth)+\" subsample : \"+str(sample)+\" colsample_bytree : \"+str(colsample)\n",
    "        results[name] = (history.iloc[-1]['train-auc-mean'],history.iloc[-1]['test-auc-mean'])"
   ]
  },
  {
   "cell_type": "code",
   "execution_count": 26,
   "id": "y4V48BXTmSGG",
   "metadata": {
    "executionInfo": {
     "elapsed": 750,
     "status": "ok",
     "timestamp": 1623528295219,
     "user": {
      "displayName": "Priyank Mishra",
      "photoUrl": "",
      "userId": "18008032652400229851"
     },
     "user_tz": -330
    },
    "id": "y4V48BXTmSGG"
   },
   "outputs": [],
   "source": [
    "train_roc_auc = [auc[0] for auc in results.values()]\n",
    "cv_roc_auc = [auc[1] for auc in results.values()]"
   ]
  },
  {
   "cell_type": "code",
   "execution_count": 35,
   "id": "TadUczwYmSAQ",
   "metadata": {
    "colab": {
     "base_uri": "https://localhost:8080/",
     "height": 543
    },
    "executionInfo": {
     "elapsed": 1931,
     "status": "ok",
     "timestamp": 1623528506027,
     "user": {
      "displayName": "Priyank Mishra",
      "photoUrl": "",
      "userId": "18008032652400229851"
     },
     "user_tz": -330
    },
    "id": "TadUczwYmSAQ",
    "outputId": "e22123e4-7214-481f-eb4e-cd3e8a15b855"
   },
   "outputs": [
    {
     "data": {
      "image/png": "[encoded data removed]",
      "text/plain": [
       "<Figure size 1800x576 with 1 Axes>"
      ]
     },
     "metadata": {
      "needs_background": "light",
      "tags": []
     },
     "output_type": "display_data"
    }
   ],
   "source": [
    "plt.figure(figsize=(25,8))\n",
    "hyperparam_vs_auc(train_roc_auc, cv_roc_auc)"
   ]
  },
  {
   "cell_type": "markdown",
   "id": "V_0bkUEc1SgB",
   "metadata": {
    "id": "V_0bkUEc1SgB"
   },
   "source": [
    "From the above plot, the best hyperaparameter index is 12.\n",
    "<br><br>"
   ]
  },
  {
   "cell_type": "code",
   "execution_count": 32,
   "id": "aEnR5hod0s7D",
   "metadata": {
    "executionInfo": {
     "elapsed": 549,
     "status": "ok",
     "timestamp": 1623528434608,
     "user": {
      "displayName": "Priyank Mishra",
      "photoUrl": "",
      "userId": "18008032652400229851"
     },
     "user_tz": -330
    },
    "id": "aEnR5hod0s7D"
   },
   "outputs": [],
   "source": [
    "best_params = list(results.keys())[12]"
   ]
  },
  {
   "cell_type": "code",
   "execution_count": 33,
   "id": "PKXzBMCX1eM7",
   "metadata": {
    "colab": {
     "base_uri": "https://localhost:8080/"
    },
    "executionInfo": {
     "elapsed": 562,
     "status": "ok",
     "timestamp": 1623528456090,
     "user": {
      "displayName": "Priyank Mishra",
      "photoUrl": "",
      "userId": "18008032652400229851"
     },
     "user_tz": -330
    },
    "id": "PKXzBMCX1eM7",
    "outputId": "07f4d477-1135-4b2f-cf5d-51de14def1d2"
   },
   "outputs": [
    {
     "name": "stdout",
     "output_type": "stream",
     "text": [
      "The Best Paramaters are learning_rate : 0.02 max_depth : 12 subsample : 0.8 colsample_bytree : 0.6 \n"
     ]
    }
   ],
   "source": [
    "print(\"The Best Paramaters are {} \".format(best_params))"
   ]
  }
 ],
 "metadata": {
  "accelerator": "GPU",
  "colab": {
   "collapsed_sections": [],
   "machine_shape": "hm",
   "name": "3.Hyperparameter Tuning.ipynb",
   "provenance": []
  },
  "kernelspec": {
   "display_name": "Python 3",
   "language": "python",
   "name": "python3"
  },
  "language_info": {
   "codemirror_mode": {
    "name": "ipython",
    "version": 3
   },
   "file_extension": ".py",
   "mimetype": "text/x-python",
   "name": "python",
   "nbconvert_exporter": "python",
   "pygments_lexer": "ipython3",
   "version": "3.9.1"
  }
 },
 "nbformat": 4,
 "nbformat_minor": 5
}
